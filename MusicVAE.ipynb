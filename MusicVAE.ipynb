{
  "nbformat": 4,
  "nbformat_minor": 0,
  "metadata": {
    "colab": {
      "name": "MusicVAE.ipynb",
      "version": "0.3.2",
      "provenance": [],
      "collapsed_sections": [
        "hYaJ6dvF0v7g",
        "R122bwRNbTus",
        "lEJptw-V4CEJ",
        "RTsrpipz4cFc",
        "wM6gOe6X3hWB",
        "8YxEHHI937Oa",
        "l47dxtR82s0t",
        "_ss6V0582zpU",
        "6PxW0_7Z2fvb",
        "LGIZPuZc2dIa"
      ],
      "include_colab_link": true
    }
  },
  "cells": [
    {
      "cell_type": "markdown",
      "metadata": {
        "id": "view-in-github",
        "colab_type": "text"
      },
      "source": [
        "[View in Colaboratory](https://colab.research.google.com/github/StarDrop9/BTC-SMS/blob/master/MusicVAE.ipynb)"
      ]
    },
    {
      "metadata": {
        "id": "bhOAxQyU0rhs",
        "colab_type": "text"
      },
      "cell_type": "markdown",
      "source": [
        "Copyright 2017 Google LLC.\n",
        "\n",
        "Licensed under the Apache License, Version 2.0 (the \"License\");\n",
        "you may not use this file except in compliance with the License.\n",
        "You may obtain a copy of the License at\n",
        "\n",
        "https://www.apache.org/licenses/LICENSE-2.0\n",
        "\n",
        "Unless required by applicable law or agreed to in writing, software\n",
        "distributed under the License is distributed on an \"AS IS\" BASIS,\n",
        "WITHOUT WARRANTIES OR CONDITIONS OF ANY KIND, either express or implied.\n",
        "See the License for the specific language governing permissions and\n",
        "limitations under the License."
      ]
    },
    {
      "metadata": {
        "id": "hYaJ6dvF0v7g",
        "colab_type": "text"
      },
      "cell_type": "markdown",
      "source": [
        "# MusicVAE: A Hierarchical Latent Vector Model for Learning Long-Term Structure in Music.\n",
        "### ___Adam Roberts, Jesse Engel, Colin Raffel, Curtis Hawthorne, and Douglas Eck___\n",
        "\n",
        "[MusicVAE](https://g.co/magenta/music-vae) learns a latent space of musical scores, providing different modes\n",
        "of interactive musical creation, including:\n",
        "\n",
        "* Random sampling from the prior distribution.\n",
        "* Interpolation between existing sequences.\n",
        "* Manipulation of existing sequences via attribute vectors.\n",
        "\n",
        "Examples of these interactions can be generated below, and selections can be heard in our\n",
        "[YouTube playlist](https://www.youtube.com/playlist?list=PLBUMAYA6kvGU8Cgqh709o5SUvo-zHGTxr).\n",
        "\n",
        "For short sequences (e.g., 2-bar \"loops\"), we use a bidirectional LSTM encoder\n",
        "and LSTM decoder. For longer sequences, we use a novel hierarchical LSTM\n",
        "decoder, which helps the model learn longer-term structures.\n",
        "\n",
        "We also model the interdependencies between instruments by training multiple\n",
        "decoders on the lowest-level embeddings of the hierarchical decoder.\n",
        "\n",
        "For additional details, check out our [blog post](https://g.co/magenta/music-vae) and [paper](https://goo.gl/magenta/musicvae-paper).\n",
        "___\n",
        "\n",
        "This colab notebook is self-contained and should run natively on google cloud. The [code](https://github.com/tensorflow/magenta/tree/master/magenta/models/music_vae) and [checkpoints](http://download.magenta.tensorflow.org/models/music_vae/checkpoints.tar.gz) can be downloaded separately and run locally, which is required if you want to train your own model."
      ]
    },
    {
      "metadata": {
        "id": "R122bwRNbTus",
        "colab_type": "text"
      },
      "cell_type": "markdown",
      "source": [
        "# Basic Instructions\n",
        "\n",
        "1. Double click on the hidden cells to make them visible, or select \"View > Expand Sections\" in the menu at the top.\n",
        "2. Hover over the \"`[ ]`\" in the top-left corner of each cell and click on the \"Play\" button to run it, in order.\n",
        "3. Listen to the generated samples.\n",
        "4. Make it your own: copy the notebook, modify the code, train your own models, upload your own MIDI, etc.!"
      ]
    },
    {
      "metadata": {
        "id": "ZLfb2a_12wcj",
        "colab_type": "text"
      },
      "cell_type": "markdown",
      "source": [
        "# Environment Setup\n",
        "Includes package installation for sequence synthesis. Will take a few minutes.\n"
      ]
    },
    {
      "metadata": {
        "id": "PfRDVhNs3UFx",
        "colab_type": "code",
        "colab": {
          "base_uri": "https://localhost:8080/",
          "height": 1478
        },
        "cellView": "form",
        "outputId": "567297dc-a0b3-40e0-ea12-6199548977c7"
      },
      "cell_type": "code",
      "source": [
        "#@title Setup Environment\n",
        "#@test {\"output\": \"ignore\"}\n",
        "\n",
        "import glob\n",
        "\n",
        "print 'Copying checkpoints and example MIDI from GCS. This will take a few minutes...'\n",
        "!gsutil -q -m cp -R gs://download.magenta.tensorflow.org/models/music_vae/colab2/* /content/\n",
        "\n",
        "print 'Installing dependencies...'\n",
        "!apt-get update -qq && apt-get install -qq libfluidsynth1 fluid-soundfont-gm build-essential libasound2-dev libjack-dev\n",
        "!pip install -qU pyfluidsynth pretty_midi\n",
        "\n",
        "if glob.glob('/content/magenta*.whl'):\n",
        "  !pip install -q /content/magenta*.whl\n",
        "else:\n",
        "  !pip install -q magenta\n",
        "\n",
        "# Hack to allow python to pick up the newly-installed fluidsynth lib.\n",
        "import ctypes.util\n",
        "def proxy_find_library(lib):\n",
        "  if lib == 'fluidsynth':\n",
        "    return 'libfluidsynth.so.1'\n",
        "  else:\n",
        "    return ctypes.util.find_library(lib)\n",
        "\n",
        "ctypes.util.find_library = proxy_find_library\n",
        "\n",
        "\n",
        "print 'Importing libraries and defining some helper functions...'\n",
        "from google.colab import files\n",
        "import magenta.music as mm\n",
        "from magenta.music.sequences_lib import concatenate_sequences\n",
        "from magenta.models.music_vae import configs\n",
        "from magenta.models.music_vae.trained_model import TrainedModel\n",
        "import numpy as np\n",
        "import os\n",
        "import tensorflow as tf\n",
        "\n",
        "\n",
        "def play(note_sequence):\n",
        "  mm.play_sequence(note_sequence, synth=mm.fluidsynth)\n",
        "  \n",
        "def slerp(p0, p1, t):\n",
        "  \"\"\"Spherical linear interpolation.\"\"\"\n",
        "  omega = np.arccos(np.dot(np.squeeze(p0/np.linalg.norm(p0)), np.squeeze(p1/np.linalg.norm(p1))))\n",
        "  so = np.sin(omega)\n",
        "  return np.sin((1.0-t)*omega) / so * p0 + np.sin(t*omega)/so * p1\n",
        "\n",
        "def interpolate(model, start_seq, end_seq, num_steps, max_length=32,\n",
        "                assert_same_length=True, temperature=0.5, \n",
        "                individual_duration=4.0):\n",
        "  \"\"\"Interpolates between a start and end sequence.\"\"\"\n",
        "  _, mu, _ = model.encode([start_seq, end_seq], assert_same_length)\n",
        "  z = np.array([slerp(mu[0], mu[1], t) for t in np.linspace(0, 1, num_steps)])\n",
        "  note_sequences = model.decode(\n",
        "      length=max_length,\n",
        "      z=z,\n",
        "      temperature=temperature)\n",
        "\n",
        "  print 'Start Seq Reconstruction'\n",
        "  play(note_sequences[0])\n",
        "  print 'End Seq Reconstruction'\n",
        "  play(note_sequences[-1])\n",
        "  print 'Mean Sequence'\n",
        "  play(note_sequences[num_steps // 2])\n",
        "  print 'Start -> End Interpolation'\n",
        "  interp_seq = concatenate_sequences(note_sequences, [individual_duration] * len(note_sequences))\n",
        "  play(interp_seq)\n",
        "  mm.plot_sequence(interp_seq)\n",
        "  return interp_seq if num_steps > 3 else note_sequences[num_steps // 2]\n",
        "\n",
        "def download(note_sequence, filename):\n",
        "  mm.sequence_proto_to_midi_file(note_sequence, filename)\n",
        "  files.download(filename)\n",
        "\n",
        "print 'Done'"
      ],
      "execution_count": 2,
      "outputs": [
        {
          "output_type": "stream",
          "text": [
            "Copying checkpoints and example MIDI from GCS. This will take a few minutes...\n",
            "Installing dependencies...\n",
            "Selecting previously unselected package libogg0:amd64.\n",
            "(Reading database ... 18408 files and directories currently installed.)\n",
            "Preparing to unpack .../00-libogg0_1.3.2-1_amd64.deb ...\n",
            "Unpacking libogg0:amd64 (1.3.2-1) ...\n",
            "Selecting previously unselected package libapparmor1:amd64.\n",
            "Preparing to unpack .../01-libapparmor1_2.11.0-2ubuntu17.1_amd64.deb ...\n",
            "Unpacking libapparmor1:amd64 (2.11.0-2ubuntu17.1) ...\n",
            "Selecting previously unselected package libdbus-1-3:amd64.\n",
            "Preparing to unpack .../02-libdbus-1-3_1.10.22-1ubuntu1_amd64.deb ...\n",
            "Unpacking libdbus-1-3:amd64 (1.10.22-1ubuntu1) ...\n",
            "Selecting previously unselected package dbus.\n",
            "Preparing to unpack .../03-dbus_1.10.22-1ubuntu1_amd64.deb ...\n",
            "Unpacking dbus (1.10.22-1ubuntu1) ...\n",
            "Selecting previously unselected package fluid-soundfont-gm.\n",
            "Preparing to unpack .../04-fluid-soundfont-gm_3.1-5.1_all.deb ...\n",
            "Unpacking fluid-soundfont-gm (3.1-5.1) ...\n",
            "Selecting previously unselected package libasound2-data.\n",
            "Preparing to unpack .../05-libasound2-data_1.1.3-5_all.deb ...\n",
            "Unpacking libasound2-data (1.1.3-5) ...\n",
            "Selecting previously unselected package libasound2:amd64.\n",
            "Preparing to unpack .../06-libasound2_1.1.3-5_amd64.deb ...\n",
            "Unpacking libasound2:amd64 (1.1.3-5) ...\n",
            "Selecting previously unselected package libasound2-dev:amd64.\n",
            "Preparing to unpack .../07-libasound2-dev_1.1.3-5_amd64.deb ...\n",
            "Unpacking libasound2-dev:amd64 (1.1.3-5) ...\n",
            "Selecting previously unselected package libasyncns0:amd64.\n",
            "Preparing to unpack .../08-libasyncns0_0.8-6_amd64.deb ...\n",
            "Unpacking libasyncns0:amd64 (0.8-6) ...\n",
            "Selecting previously unselected package libflac8:amd64.\n",
            "Preparing to unpack .../09-libflac8_1.3.2-1_amd64.deb ...\n",
            "Unpacking libflac8:amd64 (1.3.2-1) ...\n",
            "Selecting previously unselected package libjack0:amd64.\n",
            "Preparing to unpack .../10-libjack0_1%3a0.125.0-2_amd64.deb ...\n",
            "Unpacking libjack0:amd64 (1:0.125.0-2) ...\n",
            "Selecting previously unselected package libvorbis0a:amd64.\n",
            "Preparing to unpack .../11-libvorbis0a_1.3.5-4ubuntu0.2_amd64.deb ...\n",
            "Unpacking libvorbis0a:amd64 (1.3.5-4ubuntu0.2) ...\n",
            "Selecting previously unselected package libvorbisenc2:amd64.\n",
            "Preparing to unpack .../12-libvorbisenc2_1.3.5-4ubuntu0.2_amd64.deb ...\n",
            "Unpacking libvorbisenc2:amd64 (1.3.5-4ubuntu0.2) ...\n",
            "Selecting previously unselected package libsndfile1:amd64.\n",
            "Preparing to unpack .../13-libsndfile1_1.0.28-4_amd64.deb ...\n",
            "Unpacking libsndfile1:amd64 (1.0.28-4) ...\n",
            "Selecting previously unselected package libwrap0:amd64.\n",
            "Preparing to unpack .../14-libwrap0_7.6.q-26_amd64.deb ...\n",
            "Unpacking libwrap0:amd64 (7.6.q-26) ...\n",
            "Selecting previously unselected package libpulse0:amd64.\n",
            "Preparing to unpack .../15-libpulse0_1%3a10.0-2ubuntu3.1_amd64.deb ...\n",
            "Unpacking libpulse0:amd64 (1:10.0-2ubuntu3.1) ...\n",
            "Selecting previously unselected package libfluidsynth1:amd64.\n",
            "Preparing to unpack .../16-libfluidsynth1_1.1.6-4_amd64.deb ...\n",
            "Unpacking libfluidsynth1:amd64 (1.1.6-4) ...\n",
            "Selecting previously unselected package uuid-dev:amd64.\n",
            "Preparing to unpack .../17-uuid-dev_2.30.1-0ubuntu4.2_amd64.deb ...\n",
            "Unpacking uuid-dev:amd64 (2.30.1-0ubuntu4.2) ...\n",
            "Selecting previously unselected package libjack-dev.\n",
            "Preparing to unpack .../18-libjack-dev_1%3a0.125.0-2_amd64.deb ...\n",
            "Unpacking libjack-dev (1:0.125.0-2) ...\n",
            "Selecting previously unselected package tcpd.\n",
            "Preparing to unpack .../19-tcpd_7.6.q-26_amd64.deb ...\n",
            "Unpacking tcpd (7.6.q-26) ...\n",
            "Setting up libasyncns0:amd64 (0.8-6) ...\n",
            "Setting up libjack0:amd64 (1:0.125.0-2) ...\n",
            "Setting up libasound2-data (1.1.3-5) ...\n",
            "Setting up fluid-soundfont-gm (3.1-5.1) ...\n",
            "Setting up uuid-dev:amd64 (2.30.1-0ubuntu4.2) ...\n",
            "Setting up libasound2:amd64 (1.1.3-5) ...\n",
            "Setting up libogg0:amd64 (1.3.2-1) ...\n",
            "Processing triggers for libc-bin (2.26-0ubuntu2.1) ...\n",
            "Setting up libapparmor1:amd64 (2.11.0-2ubuntu17.1) ...\n",
            "Setting up libvorbis0a:amd64 (1.3.5-4ubuntu0.2) ...\n",
            "Setting up libdbus-1-3:amd64 (1.10.22-1ubuntu1) ...\n",
            "Setting up libwrap0:amd64 (7.6.q-26) ...\n",
            "Setting up libasound2-dev:amd64 (1.1.3-5) ...\n",
            "Setting up libjack-dev (1:0.125.0-2) ...\n",
            "Setting up libflac8:amd64 (1.3.2-1) ...\n",
            "Setting up tcpd (7.6.q-26) ...\n",
            "Setting up dbus (1.10.22-1ubuntu1) ...\n",
            "Setting up libvorbisenc2:amd64 (1.3.5-4ubuntu0.2) ...\n",
            "Setting up libsndfile1:amd64 (1.0.28-4) ...\n",
            "Setting up libpulse0:amd64 (1:10.0-2ubuntu3.1) ...\n",
            "Setting up libfluidsynth1:amd64 (1.1.6-4) ...\n",
            "Processing triggers for libc-bin (2.26-0ubuntu2.1) ...\n",
            "Importing libraries and defining some helper functions...\n",
            "Done\n"
          ],
          "name": "stdout"
        }
      ]
    },
    {
      "metadata": {
        "id": "C_TD5psbv9Ax",
        "colab_type": "text"
      },
      "cell_type": "markdown",
      "source": [
        "# 2-Bar Drums Model\n",
        "\n",
        "Below are 4 pre-trained models to experiment with. The first 3 map the 61 MIDI drum \"pitches\" to a reduced set of 9 classes (bass, snare, closed hi-hat, open hi-hat, low tom, mid tom, high tom, crash cymbal, ride cymbal) for a simplified but less expressive output space. The last model uses a [NADE](http://homepages.inf.ed.ac.uk/imurray2/pub/11nade/) to represent all possible MIDI drum \"pitches\".\n",
        "\n",
        "* **drums_2bar_oh_lokl**: This *low* KL model was trained for more *realistic* sampling. The output is a one-hot encoding of 2^9 combinations of hits. It has a single-layer bidirectional LSTM encoder with 512 nodes in each direction, a 2-layer LSTM decoder with 256 nodes in each layer, and a Z with 256 dimensions. During training it was given 0 free bits, and had a fixed beta value of 0.8. After 300k steps, the final accuracy is 0.73 and KL divergence is 11 bits.\n",
        "* **drums_2bar_oh_hikl**: This *high* KL model was trained for *better reconstruction and interpolation*. The output is a one-hot encoding of 2^9 combinations of hits. It has a single-layer bidirectional LSTM encoder with 512 nodes in each direction, a 2-layer LSTM decoder with 256 nodes in each layer, and a Z with 256 dimensions. During training it was given 96 free bits and had a fixed beta value of 0.2. It was trained with scheduled sampling with an inverse sigmoid schedule and a rate of 1000. After 300k, steps the final accuracy is 0.97 and KL divergence is 107 bits.\n",
        "* **drums_2bar_nade_reduced**: This model outputs a multi-label \"pianoroll\" with 9 classes. It has a single-layer bidirectional LSTM encoder with 512 nodes in each direction, a 2-layer LSTM-NADE decoder with 512 nodes in each layer and 9-dimensional NADE with 128 hidden units, and a Z with 256 dimensions. During training it was given 96 free bits and has a fixed beta value of 0.2. It was trained with scheduled sampling with an inverse sigmoid schedule and a rate of 1000. After 300k steps, the final accuracy is 0.98 and KL divergence is 110 bits.\n",
        "* **drums_2bar_nade_full**:  The output is a multi-label \"pianoroll\" with 61 classes. A single-layer bidirectional LSTM encoder with 512 nodes in each direction, a 2-layer LSTM-NADE decoder with 512 nodes in each layer and 61-dimensional NADE with 128 hidden units, and a Z with 256 dimensions. During training it was given 0 free bits and has a fixed beta value of 0.2. It was trained with scheduled sampling with an inverse sigmoid schedule and a rate of 1000. After 300k steps, the final accuracy is 0.90 and KL divergence is 116 bits."
      ]
    },
    {
      "metadata": {
        "id": "0x8YTRDwv8Gk",
        "colab_type": "code",
        "colab": {
          "base_uri": "https://localhost:8080/",
          "height": 843
        },
        "cellView": "form",
        "outputId": "861a51dd-0d0f-4db2-9385-3c50a7f46bea"
      },
      "cell_type": "code",
      "source": [
        "#@title Load Pretrained Models\n",
        "\n",
        "drums_models = {}\n",
        "# One-hot encoded.\n",
        "drums_config = configs.CONFIG_MAP['cat-drums_2bar_small']\n",
        "drums_models['drums_2bar_oh_lokl'] = TrainedModel(drums_config, batch_size=4, checkpoint_dir_or_path='/content/checkpoints/drums_2bar_small.lokl.ckpt')\n",
        "drums_models['drums_2bar_oh_hikl'] = TrainedModel(drums_config, batch_size=4, checkpoint_dir_or_path='/content/checkpoints/drums_2bar_small.hikl.ckpt')\n",
        "\n",
        "# Multi-label NADE.\n",
        "drums_nade_reduced_config = configs.CONFIG_MAP['nade-drums_2bar_reduced']\n",
        "drums_models['drums_2bar_nade_reduced'] = TrainedModel(drums_nade_reduced_config, batch_size=4, checkpoint_dir_or_path='/content/checkpoints/drums_2bar_nade.reduced.ckpt')\n",
        "drums_nade_full_config = configs.CONFIG_MAP['nade-drums_2bar_full']\n",
        "drums_models['drums_2bar_nade_full'] = TrainedModel(drums_nade_full_config, batch_size=4, checkpoint_dir_or_path='/content/checkpoints/drums_2bar_nade.full.ckpt')\n"
      ],
      "execution_count": 4,
      "outputs": [
        {
          "output_type": "stream",
          "text": [
            "INFO:tensorflow:Building MusicVAE model with BidirectionalLstmEncoder, CategoricalLstmDecoder, and hparams:\n",
            "{'grad_clip': 1.0, 'z_size': 256, 'decay_rate': 0.9999, 'dec_rnn_size': [256, 256], 'free_bits': 48, 'use_cudnn': False, 'residual_encoder': False, 'grad_norm_clip_to_zero': 10000, 'learning_rate': 0.001, 'conditional': True, 'batch_size': 4, 'min_learning_rate': 1e-05, 'sampling_schedule': 'inverse_sigmoid', 'max_seq_len': 32, 'residual_decoder': False, 'beta_rate': 0.0, 'enc_rnn_size': [512], 'sampling_rate': 1000, 'max_beta': 0.2, 'dropout_keep_prob': 1.0, 'clip_mode': 'global_norm'}\n",
            "INFO:tensorflow:\n",
            "Encoder Cells (bidirectional):\n",
            "  units: [512]\n",
            "\n",
            "INFO:tensorflow:\n",
            "Decoder Cells:\n",
            "  units: [256, 256]\n",
            "\n",
            "WARNING:tensorflow:Setting non-training sampling schedule from inverse_sigmoid:1000.000000 to constant:1.0.\n",
            "INFO:tensorflow:Restoring parameters from /content/checkpoints/drums_2bar_small.lokl.ckpt\n",
            "INFO:tensorflow:Building MusicVAE model with BidirectionalLstmEncoder, CategoricalLstmDecoder, and hparams:\n",
            "{'grad_clip': 1.0, 'z_size': 256, 'decay_rate': 0.9999, 'dec_rnn_size': [256, 256], 'free_bits': 48, 'use_cudnn': False, 'residual_encoder': False, 'grad_norm_clip_to_zero': 10000, 'learning_rate': 0.001, 'conditional': True, 'batch_size': 4, 'min_learning_rate': 1e-05, 'sampling_schedule': 'inverse_sigmoid', 'max_seq_len': 32, 'residual_decoder': False, 'beta_rate': 0.0, 'enc_rnn_size': [512], 'sampling_rate': 1000, 'max_beta': 0.2, 'dropout_keep_prob': 1.0, 'clip_mode': 'global_norm'}\n",
            "INFO:tensorflow:\n",
            "Encoder Cells (bidirectional):\n",
            "  units: [512]\n",
            "\n",
            "INFO:tensorflow:\n",
            "Decoder Cells:\n",
            "  units: [256, 256]\n",
            "\n",
            "WARNING:tensorflow:Setting non-training sampling schedule from inverse_sigmoid:1000.000000 to constant:1.0.\n",
            "INFO:tensorflow:Restoring parameters from /content/checkpoints/drums_2bar_small.hikl.ckpt\n",
            "INFO:tensorflow:Building MusicVAE model with BidirectionalLstmEncoder, MultiLabelRnnNadeDecoder, and hparams:\n",
            "{'grad_clip': 1.0, 'free_bits': 48, 'grad_norm_clip_to_zero': 10000, 'conditional': True, 'min_learning_rate': 1e-05, 'max_beta': 0.2, 'use_cudnn': False, 'nade_num_hidden': 128, 'dropout_keep_prob': 1.0, 'max_seq_len': 32, 'beta_rate': 0.0, 'sampling_rate': 1000, 'z_size': 256, 'residual_encoder': False, 'learning_rate': 0.001, 'batch_size': 4, 'decay_rate': 0.9999, 'enc_rnn_size': [1024], 'sampling_schedule': 'inverse_sigmoid', 'residual_decoder': False, 'dec_rnn_size': [512, 512], 'clip_mode': 'global_norm'}\n",
            "INFO:tensorflow:\n",
            "Encoder Cells (bidirectional):\n",
            "  units: [1024]\n",
            "\n",
            "INFO:tensorflow:\n",
            "Decoder Cells:\n",
            "  units: [512, 512]\n",
            "\n",
            "WARNING:tensorflow:Setting non-training sampling schedule from inverse_sigmoid:1000.000000 to constant:1.0.\n",
            "INFO:tensorflow:Restoring parameters from /content/checkpoints/drums_2bar_nade.reduced.ckpt\n",
            "INFO:tensorflow:Building MusicVAE model with BidirectionalLstmEncoder, MultiLabelRnnNadeDecoder, and hparams:\n",
            "{'grad_clip': 1.0, 'free_bits': 48, 'grad_norm_clip_to_zero': 10000, 'conditional': True, 'min_learning_rate': 1e-05, 'max_beta': 0.2, 'use_cudnn': False, 'nade_num_hidden': 128, 'dropout_keep_prob': 1.0, 'max_seq_len': 32, 'beta_rate': 0.0, 'sampling_rate': 1000, 'z_size': 256, 'residual_encoder': False, 'learning_rate': 0.001, 'batch_size': 4, 'decay_rate': 0.9999, 'enc_rnn_size': [1024], 'sampling_schedule': 'inverse_sigmoid', 'residual_decoder': False, 'dec_rnn_size': [512, 512], 'clip_mode': 'global_norm'}\n",
            "INFO:tensorflow:\n",
            "Encoder Cells (bidirectional):\n",
            "  units: [1024]\n",
            "\n",
            "INFO:tensorflow:\n",
            "Decoder Cells:\n",
            "  units: [512, 512]\n",
            "\n",
            "WARNING:tensorflow:Setting non-training sampling schedule from inverse_sigmoid:1000.000000 to constant:1.0.\n",
            "INFO:tensorflow:Restoring parameters from /content/checkpoints/drums_2bar_nade.full.ckpt\n"
          ],
          "name": "stdout"
        }
      ]
    },
    {
      "metadata": {
        "id": "lEJptw-V4CEJ",
        "colab_type": "text"
      },
      "cell_type": "markdown",
      "source": [
        "## Generate Samples"
      ]
    },
    {
      "metadata": {
        "id": "zRUlAshMpDnR",
        "colab_type": "code",
        "colab": {
          "base_uri": "https://localhost:8080/",
          "height": 249
        },
        "cellView": "form",
        "outputId": "740c32ae-0c4c-4d9b-cc37-89ea1eca4d10"
      },
      "cell_type": "code",
      "source": [
        "#@title Generate 4 samples from the prior of one of the models listed above.\n",
        "drums_sample_model = \"drums_2bar_oh_lokl\" #@param [\"drums_2bar_oh_lokl\", \"drums_2bar_oh_hikl\", \"drums_2bar_nade_reduced\", \"drums_2bar_nade_full\"]\n",
        "temperature = 0.5 #@param {type:\"slider\", min:0.1, max:1.5, step:0.1}\n",
        "drums_samples = drums_models[drums_sample_model].sample(n=4, length=32, temperature=temperature)\n",
        "for ns in drums_samples:\n",
        "  play(ns)"
      ],
      "execution_count": 5,
      "outputs": [
        {
          "output_type": "display_data",
          "data": {
            "text/plain": [
              "<IPython.core.display.HTML object>"
            ],
            "text/html": [
              "<div id=\"id_1\"> </div>"
            ]
          },
          "metadata": {
            "tags": []
          }
        },
        {
          "output_type": "display_data",
          "data": {
            "text/plain": [
              "<IPython.core.display.HTML object>"
            ],
            "text/html": [
              "<div id=\"id_2\"> </div>"
            ]
          },
          "metadata": {
            "tags": []
          }
        },
        {
          "output_type": "display_data",
          "data": {
            "text/plain": [
              "<IPython.core.display.HTML object>"
            ],
            "text/html": [
              "<div id=\"id_3\"> </div>"
            ]
          },
          "metadata": {
            "tags": []
          }
        },
        {
          "output_type": "display_data",
          "data": {
            "text/plain": [
              "<IPython.core.display.HTML object>"
            ],
            "text/html": [
              "<div id=\"id_4\"> </div>"
            ]
          },
          "metadata": {
            "tags": []
          }
        }
      ]
    },
    {
      "metadata": {
        "id": "OSwhxkru5mB6",
        "colab_type": "code",
        "colab": {},
        "cellView": "form"
      },
      "cell_type": "code",
      "source": [
        "#@title Optionally download generated MIDI samples.\n",
        "for i, ns in enumerate(drums_samples):\n",
        "  download(ns, '%s_sample_%d.mid' % (drums_sample_model, i))"
      ],
      "execution_count": 0,
      "outputs": []
    },
    {
      "metadata": {
        "id": "RTsrpipz4cFc",
        "colab_type": "text"
      },
      "cell_type": "markdown",
      "source": [
        "## Generate Interpolations"
      ]
    },
    {
      "metadata": {
        "id": "7cnZfjdGwwZg",
        "colab_type": "code",
        "colab": {},
        "cellView": "form"
      },
      "cell_type": "code",
      "source": [
        "#@title Option 1: Use example MIDI files for interpolation endpoints.\n",
        "input_drums_midi_data = [\n",
        "    tf.gfile.Open(fn).read()\n",
        "    for fn in sorted(tf.gfile.Glob('/content/midi/drums_2bar*.mid'))]"
      ],
      "execution_count": 0,
      "outputs": []
    },
    {
      "metadata": {
        "id": "yjfyjWPtb8fV",
        "colab_type": "code",
        "colab": {},
        "cellView": "form"
      },
      "cell_type": "code",
      "source": [
        "#@title Option 2: upload your own MIDI files to use for interpolation endpoints instead of those provided.\n",
        "input_drums_midi_data = files.upload().values() or input_drums_midi_data"
      ],
      "execution_count": 0,
      "outputs": []
    },
    {
      "metadata": {
        "id": "zqCJFtHYb-7A",
        "colab_type": "code",
        "colab": {
          "base_uri": "https://localhost:8080/",
          "height": 166
        },
        "cellView": "form",
        "outputId": "3a31c9bb-454f-4693-b8b7-650ddf468a62"
      },
      "cell_type": "code",
      "source": [
        "#@title Extract drums from MIDI files. This will extract all unique 2-bar drum beats using a sliding window with a stride of 1 bar.\n",
        "drums_input_seqs = [mm.midi_to_sequence_proto(m) for m in input_drums_midi_data]\n",
        "extracted_beats = []\n",
        "for ns in drums_input_seqs:\n",
        "  extracted_beats.extend(drums_nade_full_config.data_converter.to_notesequences(\n",
        "      drums_nade_full_config.data_converter.to_tensors(ns)[1]))\n",
        "for i, ns in enumerate(extracted_beats):\n",
        "  print \"Beat\", i\n",
        "  play(ns)"
      ],
      "execution_count": 10,
      "outputs": [
        {
          "output_type": "stream",
          "text": [
            "Beat 0\n"
          ],
          "name": "stdout"
        },
        {
          "output_type": "display_data",
          "data": {
            "text/plain": [
              "<IPython.core.display.HTML object>"
            ],
            "text/html": [
              "<div id=\"id_5\"> </div>"
            ]
          },
          "metadata": {
            "tags": []
          }
        },
        {
          "output_type": "stream",
          "text": [
            "Beat 1\n"
          ],
          "name": "stdout"
        },
        {
          "output_type": "display_data",
          "data": {
            "text/plain": [
              "<IPython.core.display.HTML object>"
            ],
            "text/html": [
              "<div id=\"id_6\"> </div>"
            ]
          },
          "metadata": {
            "tags": []
          }
        }
      ]
    },
    {
      "metadata": {
        "id": "MeAboOS1xDgE",
        "colab_type": "code",
        "colab": {
          "base_uri": "https://localhost:8080/",
          "height": 546
        },
        "cellView": "form",
        "outputId": "f0267fb3-4f38-4fab-8ed9-92f21cef2702"
      },
      "cell_type": "code",
      "source": [
        "#@title Interpolate between 2 beats, selected from those in the previous cell.\n",
        "drums_interp_model = \"drums_2bar_oh_hikl\" #@param [\"drums_2bar_oh_lokl\", \"drums_2bar_oh_hikl\", \"drums_2bar_nade_reduced\", \"drums_2bar_nade_full\"]\n",
        "start_beat = 0 #@param {type:\"integer\"}\n",
        "end_beat = 1 #@param {type:\"integer\"}\n",
        "start_beat = extracted_beats[start_beat]\n",
        "end_beat = extracted_beats[end_beat]\n",
        "\n",
        "temperature = 0.5 #@param {type:\"slider\", min:0.1, max:1.5, step:0.1}\n",
        "num_steps = 13 #@param {type:\"integer\"}\n",
        "\n",
        "drums_interp = interpolate(drums_models[drums_interp_model], start_beat, end_beat, num_steps=num_steps, temperature=temperature)"
      ],
      "execution_count": 11,
      "outputs": [
        {
          "output_type": "stream",
          "text": [
            "Start Seq Reconstruction\n"
          ],
          "name": "stdout"
        },
        {
          "output_type": "display_data",
          "data": {
            "text/plain": [
              "<IPython.core.display.HTML object>"
            ],
            "text/html": [
              "<div id=\"id_7\"> </div>"
            ]
          },
          "metadata": {
            "tags": []
          }
        },
        {
          "output_type": "stream",
          "text": [
            "End Seq Reconstruction\n"
          ],
          "name": "stdout"
        },
        {
          "output_type": "display_data",
          "data": {
            "text/plain": [
              "<IPython.core.display.HTML object>"
            ],
            "text/html": [
              "<div id=\"id_8\"> </div>"
            ]
          },
          "metadata": {
            "tags": []
          }
        },
        {
          "output_type": "stream",
          "text": [
            "Mean Sequence\n"
          ],
          "name": "stdout"
        },
        {
          "output_type": "display_data",
          "data": {
            "text/plain": [
              "<IPython.core.display.HTML object>"
            ],
            "text/html": [
              "<div id=\"id_9\"> </div>"
            ]
          },
          "metadata": {
            "tags": []
          }
        },
        {
          "output_type": "stream",
          "text": [
            "Start -> End Interpolation\n"
          ],
          "name": "stdout"
        },
        {
          "output_type": "display_data",
          "data": {
            "text/plain": [
              "<IPython.core.display.HTML object>"
            ],
            "text/html": [
              "<div id=\"id_10\"> </div>"
            ]
          },
          "metadata": {
            "tags": []
          }
        },
        {
          "output_type": "display_data",
          "data": {
            "text/html": [
              "\n",
              "    <div class=\"bk-root\">\n",
              "        <a href=\"https://bokeh.pydata.org\" target=\"_blank\" class=\"bk-logo bk-logo-small bk-logo-notebook\"></a>\n",
              "        <span id=\"f4944c89-78ae-4178-81a0-6c80c01df749\">Loading BokehJS ...</span>\n",
              "    </div>"
            ]
          },
          "metadata": {
            "tags": []
          }
        },
        {
          "output_type": "display_data",
          "data": {
            "application/javascript": [
              "\n",
              "(function(root) {\n",
              "  function now() {\n",
              "    return new Date();\n",
              "  }\n",
              "\n",
              "  var force = true;\n",
              "\n",
              "  if (typeof (root._bokeh_onload_callbacks) === \"undefined\" || force === true) {\n",
              "    root._bokeh_onload_callbacks = [];\n",
              "    root._bokeh_is_loading = undefined;\n",
              "  }\n",
              "\n",
              "  var JS_MIME_TYPE = 'application/javascript';\n",
              "  var HTML_MIME_TYPE = 'text/html';\n",
              "  var EXEC_MIME_TYPE = 'application/vnd.bokehjs_exec.v0+json';\n",
              "  var CLASS_NAME = 'output_bokeh rendered_html';\n",
              "\n",
              "  /**\n",
              "   * Render data to the DOM node\n",
              "   */\n",
              "  function render(props, node) {\n",
              "    var script = document.createElement(\"script\");\n",
              "    node.appendChild(script);\n",
              "  }\n",
              "\n",
              "  /**\n",
              "   * Handle when an output is cleared or removed\n",
              "   */\n",
              "  function handleClearOutput(event, handle) {\n",
              "    var cell = handle.cell;\n",
              "\n",
              "    var id = cell.output_area._bokeh_element_id;\n",
              "    var server_id = cell.output_area._bokeh_server_id;\n",
              "    // Clean up Bokeh references\n",
              "    if (id != null && id in Bokeh.index) {\n",
              "      Bokeh.index[id].model.document.clear();\n",
              "      delete Bokeh.index[id];\n",
              "    }\n",
              "\n",
              "    if (server_id !== undefined) {\n",
              "      // Clean up Bokeh references\n",
              "      var cmd = \"from bokeh.io.state import curstate; print(curstate().uuid_to_server['\" + server_id + \"'].get_sessions()[0].document.roots[0]._id)\";\n",
              "      cell.notebook.kernel.execute(cmd, {\n",
              "        iopub: {\n",
              "          output: function(msg) {\n",
              "            var id = msg.content.text.trim();\n",
              "            if (id in Bokeh.index) {\n",
              "              Bokeh.index[id].model.document.clear();\n",
              "              delete Bokeh.index[id];\n",
              "            }\n",
              "          }\n",
              "        }\n",
              "      });\n",
              "      // Destroy server and session\n",
              "      var cmd = \"import bokeh.io.notebook as ion; ion.destroy_server('\" + server_id + \"')\";\n",
              "      cell.notebook.kernel.execute(cmd);\n",
              "    }\n",
              "  }\n",
              "\n",
              "  /**\n",
              "   * Handle when a new output is added\n",
              "   */\n",
              "  function handleAddOutput(event, handle) {\n",
              "    var output_area = handle.output_area;\n",
              "    var output = handle.output;\n",
              "\n",
              "    // limit handleAddOutput to display_data with EXEC_MIME_TYPE content only\n",
              "    if ((output.output_type != \"display_data\") || (!output.data.hasOwnProperty(EXEC_MIME_TYPE))) {\n",
              "      return\n",
              "    }\n",
              "\n",
              "    var toinsert = output_area.element.find(\".\" + CLASS_NAME.split(' ')[0]);\n",
              "\n",
              "    if (output.metadata[EXEC_MIME_TYPE][\"id\"] !== undefined) {\n",
              "      toinsert[toinsert.length - 1].firstChild.textContent = output.data[JS_MIME_TYPE];\n",
              "      // store reference to embed id on output_area\n",
              "      output_area._bokeh_element_id = output.metadata[EXEC_MIME_TYPE][\"id\"];\n",
              "    }\n",
              "    if (output.metadata[EXEC_MIME_TYPE][\"server_id\"] !== undefined) {\n",
              "      var bk_div = document.createElement(\"div\");\n",
              "      bk_div.innerHTML = output.data[HTML_MIME_TYPE];\n",
              "      var script_attrs = bk_div.children[0].attributes;\n",
              "      for (var i = 0; i < script_attrs.length; i++) {\n",
              "        toinsert[toinsert.length - 1].firstChild.setAttribute(script_attrs[i].name, script_attrs[i].value);\n",
              "      }\n",
              "      // store reference to server id on output_area\n",
              "      output_area._bokeh_server_id = output.metadata[EXEC_MIME_TYPE][\"server_id\"];\n",
              "    }\n",
              "  }\n",
              "\n",
              "  function register_renderer(events, OutputArea) {\n",
              "\n",
              "    function append_mime(data, metadata, element) {\n",
              "      // create a DOM node to render to\n",
              "      var toinsert = this.create_output_subarea(\n",
              "        metadata,\n",
              "        CLASS_NAME,\n",
              "        EXEC_MIME_TYPE\n",
              "      );\n",
              "      this.keyboard_manager.register_events(toinsert);\n",
              "      // Render to node\n",
              "      var props = {data: data, metadata: metadata[EXEC_MIME_TYPE]};\n",
              "      render(props, toinsert[toinsert.length - 1]);\n",
              "      element.append(toinsert);\n",
              "      return toinsert\n",
              "    }\n",
              "\n",
              "    /* Handle when an output is cleared or removed */\n",
              "    events.on('clear_output.CodeCell', handleClearOutput);\n",
              "    events.on('delete.Cell', handleClearOutput);\n",
              "\n",
              "    /* Handle when a new output is added */\n",
              "    events.on('output_added.OutputArea', handleAddOutput);\n",
              "\n",
              "    /**\n",
              "     * Register the mime type and append_mime function with output_area\n",
              "     */\n",
              "    OutputArea.prototype.register_mime_type(EXEC_MIME_TYPE, append_mime, {\n",
              "      /* Is output safe? */\n",
              "      safe: true,\n",
              "      /* Index of renderer in `output_area.display_order` */\n",
              "      index: 0\n",
              "    });\n",
              "  }\n",
              "\n",
              "  // register the mime type if in Jupyter Notebook environment and previously unregistered\n",
              "  if (root.Jupyter !== undefined) {\n",
              "    var events = require('base/js/events');\n",
              "    var OutputArea = require('notebook/js/outputarea').OutputArea;\n",
              "\n",
              "    if (OutputArea.prototype.mime_types().indexOf(EXEC_MIME_TYPE) == -1) {\n",
              "      register_renderer(events, OutputArea);\n",
              "    }\n",
              "  }\n",
              "\n",
              "  \n",
              "  if (typeof (root._bokeh_timeout) === \"undefined\" || force === true) {\n",
              "    root._bokeh_timeout = Date.now() + 5000;\n",
              "    root._bokeh_failed_load = false;\n",
              "  }\n",
              "\n",
              "  var NB_LOAD_WARNING = {'data': {'text/html':\n",
              "     \"<div style='background-color: #fdd'>\\n\"+\n",
              "     \"<p>\\n\"+\n",
              "     \"BokehJS does not appear to have successfully loaded. If loading BokehJS from CDN, this \\n\"+\n",
              "     \"may be due to a slow or bad network connection. Possible fixes:\\n\"+\n",
              "     \"</p>\\n\"+\n",
              "     \"<ul>\\n\"+\n",
              "     \"<li>re-rerun `output_notebook()` to attempt to load from CDN again, or</li>\\n\"+\n",
              "     \"<li>use INLINE resources instead, as so:</li>\\n\"+\n",
              "     \"</ul>\\n\"+\n",
              "     \"<code>\\n\"+\n",
              "     \"from bokeh.resources import INLINE\\n\"+\n",
              "     \"output_notebook(resources=INLINE)\\n\"+\n",
              "     \"</code>\\n\"+\n",
              "     \"</div>\"}};\n",
              "\n",
              "  function display_loaded() {\n",
              "    var el = document.getElementById(\"f4944c89-78ae-4178-81a0-6c80c01df749\");\n",
              "    if (el != null) {\n",
              "      el.textContent = \"BokehJS is loading...\";\n",
              "    }\n",
              "    if (root.Bokeh !== undefined) {\n",
              "      if (el != null) {\n",
              "        el.textContent = \"BokehJS \" + root.Bokeh.version + \" successfully loaded.\";\n",
              "      }\n",
              "    } else if (Date.now() < root._bokeh_timeout) {\n",
              "      setTimeout(display_loaded, 100)\n",
              "    }\n",
              "  }\n",
              "\n",
              "\n",
              "  function run_callbacks() {\n",
              "    try {\n",
              "      root._bokeh_onload_callbacks.forEach(function(callback) { callback() });\n",
              "    }\n",
              "    finally {\n",
              "      delete root._bokeh_onload_callbacks\n",
              "    }\n",
              "    console.info(\"Bokeh: all callbacks have finished\");\n",
              "  }\n",
              "\n",
              "  function load_libs(js_urls, callback) {\n",
              "    root._bokeh_onload_callbacks.push(callback);\n",
              "    if (root._bokeh_is_loading > 0) {\n",
              "      console.log(\"Bokeh: BokehJS is being loaded, scheduling callback at\", now());\n",
              "      return null;\n",
              "    }\n",
              "    if (js_urls == null || js_urls.length === 0) {\n",
              "      run_callbacks();\n",
              "      return null;\n",
              "    }\n",
              "    console.log(\"Bokeh: BokehJS not loaded, scheduling load and callback at\", now());\n",
              "    root._bokeh_is_loading = js_urls.length;\n",
              "    for (var i = 0; i < js_urls.length; i++) {\n",
              "      var url = js_urls[i];\n",
              "      var s = document.createElement('script');\n",
              "      s.src = url;\n",
              "      s.async = false;\n",
              "      s.onreadystatechange = s.onload = function() {\n",
              "        root._bokeh_is_loading--;\n",
              "        if (root._bokeh_is_loading === 0) {\n",
              "          console.log(\"Bokeh: all BokehJS libraries loaded\");\n",
              "          run_callbacks()\n",
              "        }\n",
              "      };\n",
              "      s.onerror = function() {\n",
              "        console.warn(\"failed to load library \" + url);\n",
              "      };\n",
              "      console.log(\"Bokeh: injecting script tag for BokehJS library: \", url);\n",
              "      document.getElementsByTagName(\"head\")[0].appendChild(s);\n",
              "    }\n",
              "  };var element = document.getElementById(\"f4944c89-78ae-4178-81a0-6c80c01df749\");\n",
              "  if (element == null) {\n",
              "    console.log(\"Bokeh: ERROR: autoload.js configured with elementid 'f4944c89-78ae-4178-81a0-6c80c01df749' but no matching script tag was found. \")\n",
              "    return false;\n",
              "  }\n",
              "\n",
              "  var js_urls = [\"https://cdn.pydata.org/bokeh/release/bokeh-0.13.0.min.js\", \"https://cdn.pydata.org/bokeh/release/bokeh-widgets-0.13.0.min.js\", \"https://cdn.pydata.org/bokeh/release/bokeh-tables-0.13.0.min.js\", \"https://cdn.pydata.org/bokeh/release/bokeh-gl-0.13.0.min.js\"];\n",
              "\n",
              "  var inline_js = [\n",
              "    function(Bokeh) {\n",
              "      Bokeh.set_log_level(\"info\");\n",
              "    },\n",
              "    \n",
              "    function(Bokeh) {\n",
              "      \n",
              "    },\n",
              "    function(Bokeh) {\n",
              "      console.log(\"Bokeh: injecting CSS: https://cdn.pydata.org/bokeh/release/bokeh-0.13.0.min.css\");\n",
              "      Bokeh.embed.inject_css(\"https://cdn.pydata.org/bokeh/release/bokeh-0.13.0.min.css\");\n",
              "      console.log(\"Bokeh: injecting CSS: https://cdn.pydata.org/bokeh/release/bokeh-widgets-0.13.0.min.css\");\n",
              "      Bokeh.embed.inject_css(\"https://cdn.pydata.org/bokeh/release/bokeh-widgets-0.13.0.min.css\");\n",
              "      console.log(\"Bokeh: injecting CSS: https://cdn.pydata.org/bokeh/release/bokeh-tables-0.13.0.min.css\");\n",
              "      Bokeh.embed.inject_css(\"https://cdn.pydata.org/bokeh/release/bokeh-tables-0.13.0.min.css\");\n",
              "    }\n",
              "  ];\n",
              "\n",
              "  function run_inline_js() {\n",
              "    \n",
              "    if ((root.Bokeh !== undefined) || (force === true)) {\n",
              "      for (var i = 0; i < inline_js.length; i++) {\n",
              "        inline_js[i].call(root, root.Bokeh);\n",
              "      }if (force === true) {\n",
              "        display_loaded();\n",
              "      }} else if (Date.now() < root._bokeh_timeout) {\n",
              "      setTimeout(run_inline_js, 100);\n",
              "    } else if (!root._bokeh_failed_load) {\n",
              "      console.log(\"Bokeh: BokehJS failed to load within specified timeout.\");\n",
              "      root._bokeh_failed_load = true;\n",
              "    } else if (force !== true) {\n",
              "      var cell = $(document.getElementById(\"f4944c89-78ae-4178-81a0-6c80c01df749\")).parents('.cell').data().cell;\n",
              "      cell.output_area.append_execute_result(NB_LOAD_WARNING)\n",
              "    }\n",
              "\n",
              "  }\n",
              "\n",
              "  if (root._bokeh_is_loading === 0) {\n",
              "    console.log(\"Bokeh: BokehJS loaded, going straight to plotting\");\n",
              "    run_inline_js();\n",
              "  } else {\n",
              "    load_libs(js_urls, function() {\n",
              "      console.log(\"Bokeh: BokehJS plotting callback run at\", now());\n",
              "      run_inline_js();\n",
              "    });\n",
              "  }\n",
              "}(window));"
            ],
            "application/vnd.bokehjs_load.v0+json": "\n(function(root) {\n  function now() {\n    return new Date();\n  }\n\n  var force = true;\n\n  if (typeof (root._bokeh_onload_callbacks) === \"undefined\" || force === true) {\n    root._bokeh_onload_callbacks = [];\n    root._bokeh_is_loading = undefined;\n  }\n\n  \n\n  \n  if (typeof (root._bokeh_timeout) === \"undefined\" || force === true) {\n    root._bokeh_timeout = Date.now() + 5000;\n    root._bokeh_failed_load = false;\n  }\n\n  var NB_LOAD_WARNING = {'data': {'text/html':\n     \"<div style='background-color: #fdd'>\\n\"+\n     \"<p>\\n\"+\n     \"BokehJS does not appear to have successfully loaded. If loading BokehJS from CDN, this \\n\"+\n     \"may be due to a slow or bad network connection. Possible fixes:\\n\"+\n     \"</p>\\n\"+\n     \"<ul>\\n\"+\n     \"<li>re-rerun `output_notebook()` to attempt to load from CDN again, or</li>\\n\"+\n     \"<li>use INLINE resources instead, as so:</li>\\n\"+\n     \"</ul>\\n\"+\n     \"<code>\\n\"+\n     \"from bokeh.resources import INLINE\\n\"+\n     \"output_notebook(resources=INLINE)\\n\"+\n     \"</code>\\n\"+\n     \"</div>\"}};\n\n  function display_loaded() {\n    var el = document.getElementById(\"f4944c89-78ae-4178-81a0-6c80c01df749\");\n    if (el != null) {\n      el.textContent = \"BokehJS is loading...\";\n    }\n    if (root.Bokeh !== undefined) {\n      if (el != null) {\n        el.textContent = \"BokehJS \" + root.Bokeh.version + \" successfully loaded.\";\n      }\n    } else if (Date.now() < root._bokeh_timeout) {\n      setTimeout(display_loaded, 100)\n    }\n  }\n\n\n  function run_callbacks() {\n    try {\n      root._bokeh_onload_callbacks.forEach(function(callback) { callback() });\n    }\n    finally {\n      delete root._bokeh_onload_callbacks\n    }\n    console.info(\"Bokeh: all callbacks have finished\");\n  }\n\n  function load_libs(js_urls, callback) {\n    root._bokeh_onload_callbacks.push(callback);\n    if (root._bokeh_is_loading > 0) {\n      console.log(\"Bokeh: BokehJS is being loaded, scheduling callback at\", now());\n      return null;\n    }\n    if (js_urls == null || js_urls.length === 0) {\n      run_callbacks();\n      return null;\n    }\n    console.log(\"Bokeh: BokehJS not loaded, scheduling load and callback at\", now());\n    root._bokeh_is_loading = js_urls.length;\n    for (var i = 0; i < js_urls.length; i++) {\n      var url = js_urls[i];\n      var s = document.createElement('script');\n      s.src = url;\n      s.async = false;\n      s.onreadystatechange = s.onload = function() {\n        root._bokeh_is_loading--;\n        if (root._bokeh_is_loading === 0) {\n          console.log(\"Bokeh: all BokehJS libraries loaded\");\n          run_callbacks()\n        }\n      };\n      s.onerror = function() {\n        console.warn(\"failed to load library \" + url);\n      };\n      console.log(\"Bokeh: injecting script tag for BokehJS library: \", url);\n      document.getElementsByTagName(\"head\")[0].appendChild(s);\n    }\n  };var element = document.getElementById(\"f4944c89-78ae-4178-81a0-6c80c01df749\");\n  if (element == null) {\n    console.log(\"Bokeh: ERROR: autoload.js configured with elementid 'f4944c89-78ae-4178-81a0-6c80c01df749' but no matching script tag was found. \")\n    return false;\n  }\n\n  var js_urls = [\"https://cdn.pydata.org/bokeh/release/bokeh-0.13.0.min.js\", \"https://cdn.pydata.org/bokeh/release/bokeh-widgets-0.13.0.min.js\", \"https://cdn.pydata.org/bokeh/release/bokeh-tables-0.13.0.min.js\", \"https://cdn.pydata.org/bokeh/release/bokeh-gl-0.13.0.min.js\"];\n\n  var inline_js = [\n    function(Bokeh) {\n      Bokeh.set_log_level(\"info\");\n    },\n    \n    function(Bokeh) {\n      \n    },\n    function(Bokeh) {\n      console.log(\"Bokeh: injecting CSS: https://cdn.pydata.org/bokeh/release/bokeh-0.13.0.min.css\");\n      Bokeh.embed.inject_css(\"https://cdn.pydata.org/bokeh/release/bokeh-0.13.0.min.css\");\n      console.log(\"Bokeh: injecting CSS: https://cdn.pydata.org/bokeh/release/bokeh-widgets-0.13.0.min.css\");\n      Bokeh.embed.inject_css(\"https://cdn.pydata.org/bokeh/release/bokeh-widgets-0.13.0.min.css\");\n      console.log(\"Bokeh: injecting CSS: https://cdn.pydata.org/bokeh/release/bokeh-tables-0.13.0.min.css\");\n      Bokeh.embed.inject_css(\"https://cdn.pydata.org/bokeh/release/bokeh-tables-0.13.0.min.css\");\n    }\n  ];\n\n  function run_inline_js() {\n    \n    if ((root.Bokeh !== undefined) || (force === true)) {\n      for (var i = 0; i < inline_js.length; i++) {\n        inline_js[i].call(root, root.Bokeh);\n      }if (force === true) {\n        display_loaded();\n      }} else if (Date.now() < root._bokeh_timeout) {\n      setTimeout(run_inline_js, 100);\n    } else if (!root._bokeh_failed_load) {\n      console.log(\"Bokeh: BokehJS failed to load within specified timeout.\");\n      root._bokeh_failed_load = true;\n    } else if (force !== true) {\n      var cell = $(document.getElementById(\"f4944c89-78ae-4178-81a0-6c80c01df749\")).parents('.cell').data().cell;\n      cell.output_area.append_execute_result(NB_LOAD_WARNING)\n    }\n\n  }\n\n  if (root._bokeh_is_loading === 0) {\n    console.log(\"Bokeh: BokehJS loaded, going straight to plotting\");\n    run_inline_js();\n  } else {\n    load_libs(js_urls, function() {\n      console.log(\"Bokeh: BokehJS plotting callback run at\", now());\n      run_inline_js();\n    });\n  }\n}(window));"
          },
          "metadata": {
            "tags": []
          }
        },
        {
          "output_type": "display_data",
          "data": {
            "text/html": [
              "\n",
              "\n",
              "\n",
              "\n",
              "\n",
              "\n",
              "  <div class=\"bk-root\" id=\"f244bddd-f634-4e03-9d28-a46de382eeb7\"></div>\n"
            ]
          },
          "metadata": {
            "tags": []
          }
        },
        {
          "output_type": "display_data",
          "data": {
            "application/javascript": [
              "(function(root) {\n",
              "  function embed_document(root) {\n",
              "    \n",
              "  var docs_json = {\"3cc2ff63-555f-40fd-9a4a-924b63d56023\":{\"roots\":{\"references\":[{\"attributes\":{\"axis_label\":\"time (sec)\",\"formatter\":{\"id\":\"2d52e2ff-9e58-44ab-bc29-fb82bf5ed4d2\",\"type\":\"BasicTickFormatter\"},\"plot\":{\"id\":\"3d0680b6-81cb-4ec4-a3be-1ff104a2c21c\",\"subtype\":\"Figure\",\"type\":\"Plot\"},\"ticker\":{\"id\":\"62e2a7c1-4b2b-4e60-9020-1f0152d42c67\",\"type\":\"BasicTicker\"}},\"id\":\"b690517e-f723-4668-95fa-4761bb0cbd34\",\"type\":\"LinearAxis\"},{\"attributes\":{\"axis_label\":\"pitch (MIDI)\",\"formatter\":{\"id\":\"d48b8781-1995-4618-b383-dd10caa93913\",\"type\":\"BasicTickFormatter\"},\"plot\":{\"id\":\"3d0680b6-81cb-4ec4-a3be-1ff104a2c21c\",\"subtype\":\"Figure\",\"type\":\"Plot\"},\"ticker\":{\"id\":\"8703defd-14d1-4737-ae58-7cde0b1b2cf7\",\"type\":\"SingleIntervalTicker\"}},\"id\":\"3e4722f0-ce06-45b0-b5d9-665b21ff2d2d\",\"type\":\"LinearAxis\"},{\"attributes\":{\"bottom\":{\"field\":\"bottom\"},\"fill_alpha\":{\"field\":\"fill_alpha\"},\"fill_color\":{\"value\":\"#d53e4f\"},\"left\":{\"field\":\"start_time\"},\"right\":{\"field\":\"end_time\"},\"top\":{\"field\":\"top\"}},\"id\":\"ddf011dd-c379-463d-88fe-5a7b24f58cbf\",\"type\":\"Quad\"},{\"attributes\":{\"active_drag\":\"auto\",\"active_inspect\":\"auto\",\"active_multi\":null,\"active_scroll\":\"auto\",\"active_tap\":\"auto\",\"tools\":[{\"id\":\"4ece3b37-19b5-40e6-8f01-baf9e019306b\",\"type\":\"HoverTool\"},{\"id\":\"5e1f14da-3b7c-4eb6-a6f9-3c92912ab449\",\"type\":\"PanTool\"},{\"id\":\"729545d3-659d-4ef0-920e-c34ce7815728\",\"type\":\"BoxZoomTool\"},{\"id\":\"0bf7acbf-aa00-49eb-a3ce-abf597d920f5\",\"type\":\"ResetTool\"},{\"id\":\"634134dd-181c-467f-9016-84615c3a9dc8\",\"type\":\"SaveTool\"}]},\"id\":\"79f32851-1608-4949-bd82-f71994a313ed\",\"type\":\"Toolbar\"},{\"attributes\":{\"callback\":null,\"data\":{\"bottom\":{\"__ndarray__\":\"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\",\"dtype\":\"float64\",\"shape\":[511]},\"duration\":{\"__ndarray__\":\"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\",\"dtype\":\"float64\",\"shape\":[511]},\"end_time\":{\"__ndarray__\":\"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\",\"dtype\":\"float64\",\"shape\":[511]},\"fill_alpha\":{\"__ndarray__\":\"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\",\"dtype\":\"float64\",\"shape\":[511]},\"index\":[0,1,2,3,4,5,6,7,8,9,10,11,12,13,14,15,16,17,18,19,20,21,22,23,24,25,26,27,28,29,30,31,32,33,34,35,36,37,38,39,40,41,42,43,44,45,46,47,48,49,50,51,52,53,54,55,56,57,58,59,60,61,62,63,64,65,66,67,68,69,70,71,72,73,74,75,76,77,78,79,80,81,82,83,84,85,86,87,88,89,90,91,92,93,94,95,96,97,98,99,100,101,102,103,104,105,106,107,108,109,110,111,112,113,114,115,116,117,118,119,120,121,122,123,124,125,126,127,128,129,130,131,132,133,134,135,136,137,138,139,140,141,142,143,144,145,146,147,148,149,150,151,152,153,154,155,156,157,158,159,160,161,162,163,164,165,166,167,168,169,170,171,172,173,174,175,176,177,178,179,180,181,182,183,184,185,186,187,188,189,190,191,192,193,194,195,196,197,198,199,200,201,202,203,204,205,206,207,208,209,210,211,212,213,214,215,216,217,218,219,220,221,222,223,224,225,226,227,228,229,230,231,232,233,234,235,236,237,238,239,240,241,242,243,244,245,246,247,248,249,250,251,252,253,254,255,256,257,258,259,260,261,262,263,264,265,266,267,268,269,270,271,272,273,274,275,276,277,278,279,280,281,282,283,284,285,286,287,288,289,290,291,292,293,294,295,296,297,298,299,300,301,302,303,304,305,306,307,308,309,310,311,312,313,314,315,316,317,318,319,320,321,322,323,324,325,326,327,328,329,330,331,332,333,334,335,336,337,338,339,340,341,342,343,344,345,346,347,348,349,350,351,352,353,354,355,356,357,358,359,360,361,362,363,364,365,366,367,368,369,370,371,372,373,374,375,376,377,378,379,380,381,382,383,384,385,386,387,388,389,390,391,392,393,394,395,396,397,398,399,400,401,402,403,404,405,406,407,408,409,410,411,412,413,414,415,416,417,418,419,420,421,422,423,424,425,426,427,428,429,430,431,432,433,434,435,436,437,438,439,440,441,442,443,444,445,446,447,448,449,450,451,452,453,454,455,456,457,458,459,460,461,462,463,464,465,466,467,468,469,470,471,472,473,474,475,476,477,478,479,480,481,482,483,484,485,486,487,488,489,490,491,492,493,494,495,496,497,498,499,500,501,502,503,504,505,506,507,508,509,510],\"instrument\":[9,9,9,9,9,9,9,9,9,9,9,9,9,9,9,9,9,9,9,9,9,9,9,9,9,9,9,9,9,9,9,9,9,9,9,9,9,9,9,9,9,9,9,9,9,9,9,9,9,9,9,9,9,9,9,9,9,9,9,9,9,9,9,9,9,9,9,9,9,9,9,9,9,9,9,9,9,9,9,9,9,9,9,9,9,9,9,9,9,9,9,9,9,9,9,9,9,9,9,9,9,9,9,9,9,9,9,9,9,9,9,9,9,9,9,9,9,9,9,9,9,9,9,9,9,9,9,9,9,9,9,9,9,9,9,9,9,9,9,9,9,9,9,9,9,9,9,9,9,9,9,9,9,9,9,9,9,9,9,9,9,9,9,9,9,9,9,9,9,9,9,9,9,9,9,9,9,9,9,9,9,9,9,9,9,9,9,9,9,9,9,9,9,9,9,9,9,9,9,9,9,9,9,9,9,9,9,9,9,9,9,9,9,9,9,9,9,9,9,9,9,9,9,9,9,9,9,9,9,9,9,9,9,9,9,9,9,9,9,9,9,9,9,9,9,9,9,9,9,9,9,9,9,9,9,9,9,9,9,9,9,9,9,9,9,9,9,9,9,9,9,9,9,9,9,9,9,9,9,9,9,9,9,9,9,9,9,9,9,9,9,9,9,9,9,9,9,9,9,9,9,9,9,9,9,9,9,9,9,9,9,9,9,9,9,9,9,9,9,9,9,9,9,9,9,9,9,9,9,9,9,9,9,9,9,9,9,9,9,9,9,9,9,9,9,9,9,9,9,9,9,9,9,9,9,9,9,9,9,9,9,9,9,9,9,9,9,9,9,9,9,9,9,9,9,9,9,9,9,9,9,9,9,9,9,9,9,9,9,9,9,9,9,9,9,9,9,9,9,9,9,9,9,9,9,9,9,9,9,9,9,9,9,9,9,9,9,9,9,9,9,9,9,9,9,9,9,9,9,9,9,9,9,9,9,9,9,9,9,9,9,9,9,9,9,9,9,9,9,9,9,9,9,9,9,9,9,9,9,9,9,9,9,9,9,9,9,9,9,9,9,9,9,9,9,9,9,9,9,9,9,9,9,9,9,9,9,9,9,9,9,9,9,9,9,9,9,9,9,9,9,9,9,9,9,9,9,9,9,9,9],\"pitch\":[49,36,46,38,36,46,36,46,38,49,36,36,46,38,36,46,36,46,38,49,36,46,38,36,46,36,46,38,49,36,36,46,38,36,46,36,46,38,49,36,46,38,36,46,36,46,38,49,36,36,46,38,36,46,36,46,38,49,36,42,46,38,36,46,36,46,49,42,38,49,36,42,36,42,46,38,49,36,46,36,46,38,49,36,46,38,45,36,46,36,46,42,45,38,49,36,42,36,42,45,38,42,36,49,36,46,46,38,49,42,36,42,46,38,45,42,50,42,36,45,36,46,46,38,45,36,46,42,36,42,36,46,38,45,42,46,49,42,36,45,42,38,49,42,36,45,46,38,45,42,45,42,36,45,42,36,45,42,46,38,45,45,46,42,36,42,36,45,42,50,45,38,42,46,49,42,36,45,42,38,42,36,45,42,50,42,42,50,45,38,42,45,42,36,50,42,42,36,45,42,46,38,45,45,46,42,42,36,42,45,45,42,46,38,45,42,42,46,49,42,36,45,42,38,42,36,45,42,45,42,42,50,45,38,42,50,42,45,42,36,50,45,42,36,45,42,50,45,38,45,46,45,42,36,50,42,45,45,48,42,45,38,42,42,50,42,36,49,42,36,45,42,38,42,36,45,42,45,42,45,48,42,50,45,38,42,50,42,45,42,36,50,45,42,36,45,42,42,50,45,38,42,45,42,36,42,36,50,42,45,42,45,48,42,50,45,38,45,42,50,42,45,49,42,36,45,42,42,36,45,42,45,42,45,48,42,50,45,38,42,45,42,50,45,42,36,50,42,45,42,36,45,42,42,50,45,38,42,45,42,45,42,36,50,42,45,42,45,48,42,50,45,38,45,42,50,42,50,45,49,42,36,45,42,42,36,45,42,42,45,42,45,48,42,50,45,38,42,42,45,42,50,45,42,45,42,45,42,36,45,42,48,42,50,45,38,42,42,45,42,45,42,36,45,42,42,45,42,45,48,42,50,45,38,42,45,42,45,42,50,45,49,42,36,45,42,42,36,45,42,42,45,42,45,48,42,50,45,38,42,42,45,42,50,45,42,36,42,50,45,42,36,45,42,48,42,50,45,38,42,42,45,42,50,45,42,36,45,42,42,45,48,42,45,48,42,50,45,38,42,45,42,45,42,50,45,49,42,36,45,42],\"program\":[0,0,0,0,0,0,0,0,0,0,0,0,0,0,0,0,0,0,0,0,0,0,0,0,0,0,0,0,0,0,0,0,0,0,0,0,0,0,0,0,0,0,0,0,0,0,0,0,0,0,0,0,0,0,0,0,0,0,0,0,0,0,0,0,0,0,0,0,0,0,0,0,0,0,0,0,0,0,0,0,0,0,0,0,0,0,0,0,0,0,0,0,0,0,0,0,0,0,0,0,0,0,0,0,0,0,0,0,0,0,0,0,0,0,0,0,0,0,0,0,0,0,0,0,0,0,0,0,0,0,0,0,0,0,0,0,0,0,0,0,0,0,0,0,0,0,0,0,0,0,0,0,0,0,0,0,0,0,0,0,0,0,0,0,0,0,0,0,0,0,0,0,0,0,0,0,0,0,0,0,0,0,0,0,0,0,0,0,0,0,0,0,0,0,0,0,0,0,0,0,0,0,0,0,0,0,0,0,0,0,0,0,0,0,0,0,0,0,0,0,0,0,0,0,0,0,0,0,0,0,0,0,0,0,0,0,0,0,0,0,0,0,0,0,0,0,0,0,0,0,0,0,0,0,0,0,0,0,0,0,0,0,0,0,0,0,0,0,0,0,0,0,0,0,0,0,0,0,0,0,0,0,0,0,0,0,0,0,0,0,0,0,0,0,0,0,0,0,0,0,0,0,0,0,0,0,0,0,0,0,0,0,0,0,0,0,0,0,0,0,0,0,0,0,0,0,0,0,0,0,0,0,0,0,0,0,0,0,0,0,0,0,0,0,0,0,0,0,0,0,0,0,0,0,0,0,0,0,0,0,0,0,0,0,0,0,0,0,0,0,0,0,0,0,0,0,0,0,0,0,0,0,0,0,0,0,0,0,0,0,0,0,0,0,0,0,0,0,0,0,0,0,0,0,0,0,0,0,0,0,0,0,0,0,0,0,0,0,0,0,0,0,0,0,0,0,0,0,0,0,0,0,0,0,0,0,0,0,0,0,0,0,0,0,0,0,0,0,0,0,0,0,0,0,0,0,0,0,0,0,0,0,0,0,0,0,0,0,0,0,0,0,0,0,0,0,0,0,0,0,0,0,0,0,0,0,0,0,0,0,0,0,0,0,0,0,0,0,0,0,0,0,0,0,0,0,0,0,0,0,0],\"start_time\":{\"__ndarray__\":\"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\",\"dtype\":\"float64\",\"shape\":[511]},\"top\":{\"__ndarray__\":\"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\",\"dtype\":\"float64\",\"shape\":[511]},\"velocity\":[80,80,80,80,80,80,80,80,80,80,80,80,80,80,80,80,80,80,80,80,80,80,80,80,80,80,80,80,80,80,80,80,80,80,80,80,80,80,80,80,80,80,80,80,80,80,80,80,80,80,80,80,80,80,80,80,80,80,80,80,80,80,80,80,80,80,80,80,80,80,80,80,80,80,80,80,80,80,80,80,80,80,80,80,80,80,80,80,80,80,80,80,80,80,80,80,80,80,80,80,80,80,80,80,80,80,80,80,80,80,80,80,80,80,80,80,80,80,80,80,80,80,80,80,80,80,80,80,80,80,80,80,80,80,80,80,80,80,80,80,80,80,80,80,80,80,80,80,80,80,80,80,80,80,80,80,80,80,80,80,80,80,80,80,80,80,80,80,80,80,80,80,80,80,80,80,80,80,80,80,80,80,80,80,80,80,80,80,80,80,80,80,80,80,80,80,80,80,80,80,80,80,80,80,80,80,80,80,80,80,80,80,80,80,80,80,80,80,80,80,80,80,80,80,80,80,80,80,80,80,80,80,80,80,80,80,80,80,80,80,80,80,80,80,80,80,80,80,80,80,80,80,80,80,80,80,80,80,80,80,80,80,80,80,80,80,80,80,80,80,80,80,80,80,80,80,80,80,80,80,80,80,80,80,80,80,80,80,80,80,80,80,80,80,80,80,80,80,80,80,80,80,80,80,80,80,80,80,80,80,80,80,80,80,80,80,80,80,80,80,80,80,80,80,80,80,80,80,80,80,80,80,80,80,80,80,80,80,80,80,80,80,80,80,80,80,80,80,80,80,80,80,80,80,80,80,80,80,80,80,80,80,80,80,80,80,80,80,80,80,80,80,80,80,80,80,80,80,80,80,80,80,80,80,80,80,80,80,80,80,80,80,80,80,80,80,80,80,80,80,80,80,80,80,80,80,80,80,80,80,80,80,80,80,80,80,80,80,80,80,80,80,80,80,80,80,80,80,80,80,80,80,80,80,80,80,80,80,80,80,80,80,80,80,80,80,80,80,80,80,80,80,80,80,80,80,80,80,80,80,80,80,80,80,80,80,80,80,80,80,80,80,80,80,80,80,80,80,80,80,80,80,80,80,80,80,80,80,80,80,80,80,80,80,80,80,80,80,80,80,80,80,80,80,80,80,80,80,80,80,80]},\"selected\":{\"id\":\"82a3175a-75f2-43ad-998e-ff071b778e69\",\"type\":\"Selection\"},\"selection_policy\":{\"id\":\"51c69b96-5024-46db-ab38-cb126652271a\",\"type\":\"UnionRenderers\"}},\"id\":\"46eec1c8-698b-4301-833b-ea9db3df2566\",\"type\":\"ColumnDataSource\"},{\"attributes\":{},\"id\":\"0bf7acbf-aa00-49eb-a3ce-abf597d920f5\",\"type\":\"ResetTool\"},{\"attributes\":{\"plot\":{\"id\":\"3d0680b6-81cb-4ec4-a3be-1ff104a2c21c\",\"subtype\":\"Figure\",\"type\":\"Plot\"},\"ticker\":{\"id\":\"62e2a7c1-4b2b-4e60-9020-1f0152d42c67\",\"type\":\"BasicTicker\"}},\"id\":\"55d88a37-c5e1-4336-af35-35323efe3292\",\"type\":\"Grid\"},{\"attributes\":{\"overlay\":{\"id\":\"4bf6bcb6-1bb8-497b-a432-d8c8447f81f6\",\"type\":\"BoxAnnotation\"}},\"id\":\"729545d3-659d-4ef0-920e-c34ce7815728\",\"type\":\"BoxZoomTool\"},{\"attributes\":{\"dimension\":1,\"plot\":{\"id\":\"3d0680b6-81cb-4ec4-a3be-1ff104a2c21c\",\"subtype\":\"Figure\",\"type\":\"Plot\"},\"ticker\":{\"id\":\"8f3a0505-044e-4c11-ac59-fc736f33ec4e\",\"type\":\"SingleIntervalTicker\"}},\"id\":\"30f56bfa-3bee-4f08-9e5d-e4f98813b010\",\"type\":\"Grid\"},{\"attributes\":{\"callback\":null,\"renderers\":\"auto\",\"tooltips\":[[\"velo\",\"@velocity\"],[\"program\",\"@program\"],[\"end_time\",\"@end_time\"],[\"pitch\",\"@pitch\"],[\"duration\",\"@duration\"],[\"velocity\",\"@velocity\"],[\"start_time\",\"@start_time\"],[\"fill_alpha\",\"@fill_alpha\"]]},\"id\":\"4ece3b37-19b5-40e6-8f01-baf9e019306b\",\"type\":\"HoverTool\"},{\"attributes\":{},\"id\":\"6f99845f-9299-4407-ae5c-38f7d5ffe0f7\",\"type\":\"LinearScale\"},{\"attributes\":{\"bottom_units\":\"screen\",\"fill_alpha\":{\"value\":0.5},\"fill_color\":{\"value\":\"lightgrey\"},\"left_units\":\"screen\",\"level\":\"overlay\",\"line_alpha\":{\"value\":1.0},\"line_color\":{\"value\":\"black\"},\"line_dash\":[4,4],\"line_width\":{\"value\":2},\"plot\":null,\"render_mode\":\"css\",\"right_units\":\"screen\",\"top_units\":\"screen\"},\"id\":\"4bf6bcb6-1bb8-497b-a432-d8c8447f81f6\",\"type\":\"BoxAnnotation\"},{\"attributes\":{},\"id\":\"5d862b6b-fa95-41ff-b12d-2155e037a960\",\"type\":\"LinearScale\"},{\"attributes\":{},\"id\":\"634134dd-181c-467f-9016-84615c3a9dc8\",\"type\":\"SaveTool\"},{\"attributes\":{},\"id\":\"d48b8781-1995-4618-b383-dd10caa93913\",\"type\":\"BasicTickFormatter\"},{\"attributes\":{},\"id\":\"82a3175a-75f2-43ad-998e-ff071b778e69\",\"type\":\"Selection\"},{\"attributes\":{},\"id\":\"62e2a7c1-4b2b-4e60-9020-1f0152d42c67\",\"type\":\"BasicTicker\"},{\"attributes\":{},\"id\":\"51c69b96-5024-46db-ab38-cb126652271a\",\"type\":\"UnionRenderers\"},{\"attributes\":{},\"id\":\"2d52e2ff-9e58-44ab-bc29-fb82bf5ed4d2\",\"type\":\"BasicTickFormatter\"},{\"attributes\":{\"source\":{\"id\":\"46eec1c8-698b-4301-833b-ea9db3df2566\",\"type\":\"ColumnDataSource\"}},\"id\":\"8bf2121a-dd0a-4f1b-abf7-0fa651904484\",\"type\":\"CDSView\"},{\"attributes\":{\"interval\":12},\"id\":\"8f3a0505-044e-4c11-ac59-fc736f33ec4e\",\"type\":\"SingleIntervalTicker\"},{\"attributes\":{},\"id\":\"5e1f14da-3b7c-4eb6-a6f9-3c92912ab449\",\"type\":\"PanTool\"},{\"attributes\":{\"callback\":null},\"id\":\"0bfcdfd5-6eeb-411c-becb-a815b4ceaed0\",\"type\":\"DataRange1d\"},{\"attributes\":{\"plot\":null,\"text\":\"\"},\"id\":\"7e305755-47ac-482c-bfb9-fae1f9c14ab0\",\"type\":\"Title\"},{\"attributes\":{\"bottom\":{\"field\":\"bottom\"},\"fill_alpha\":{\"value\":0.1},\"fill_color\":{\"value\":\"#1f77b4\"},\"left\":{\"field\":\"start_time\"},\"line_alpha\":{\"value\":0.1},\"line_color\":{\"value\":\"#1f77b4\"},\"right\":{\"field\":\"end_time\"},\"top\":{\"field\":\"top\"}},\"id\":\"8ad90f5b-2ba8-45ac-a658-2b8e944a7e52\",\"type\":\"Quad\"},{\"attributes\":{\"callback\":null},\"id\":\"7dd8e1f8-d786-4b43-ae3a-4b6d2c631d5a\",\"type\":\"DataRange1d\"},{\"attributes\":{\"below\":[{\"id\":\"b690517e-f723-4668-95fa-4761bb0cbd34\",\"type\":\"LinearAxis\"}],\"left\":[{\"id\":\"3e4722f0-ce06-45b0-b5d9-665b21ff2d2d\",\"type\":\"LinearAxis\"}],\"plot_height\":200,\"plot_width\":500,\"renderers\":[{\"id\":\"b690517e-f723-4668-95fa-4761bb0cbd34\",\"type\":\"LinearAxis\"},{\"id\":\"55d88a37-c5e1-4336-af35-35323efe3292\",\"type\":\"Grid\"},{\"id\":\"3e4722f0-ce06-45b0-b5d9-665b21ff2d2d\",\"type\":\"LinearAxis\"},{\"id\":\"30f56bfa-3bee-4f08-9e5d-e4f98813b010\",\"type\":\"Grid\"},{\"id\":\"4bf6bcb6-1bb8-497b-a432-d8c8447f81f6\",\"type\":\"BoxAnnotation\"},{\"id\":\"40c8152e-ff7f-4f1b-8bf7-210d7dd8f7fe\",\"type\":\"GlyphRenderer\"}],\"title\":{\"id\":\"7e305755-47ac-482c-bfb9-fae1f9c14ab0\",\"type\":\"Title\"},\"toolbar\":{\"id\":\"79f32851-1608-4949-bd82-f71994a313ed\",\"type\":\"Toolbar\"},\"x_range\":{\"id\":\"0bfcdfd5-6eeb-411c-becb-a815b4ceaed0\",\"type\":\"DataRange1d\"},\"x_scale\":{\"id\":\"5d862b6b-fa95-41ff-b12d-2155e037a960\",\"type\":\"LinearScale\"},\"y_range\":{\"id\":\"7dd8e1f8-d786-4b43-ae3a-4b6d2c631d5a\",\"type\":\"DataRange1d\"},\"y_scale\":{\"id\":\"6f99845f-9299-4407-ae5c-38f7d5ffe0f7\",\"type\":\"LinearScale\"}},\"id\":\"3d0680b6-81cb-4ec4-a3be-1ff104a2c21c\",\"subtype\":\"Figure\",\"type\":\"Plot\"},{\"attributes\":{\"interval\":12},\"id\":\"8703defd-14d1-4737-ae58-7cde0b1b2cf7\",\"type\":\"SingleIntervalTicker\"},{\"attributes\":{\"data_source\":{\"id\":\"46eec1c8-698b-4301-833b-ea9db3df2566\",\"type\":\"ColumnDataSource\"},\"glyph\":{\"id\":\"ddf011dd-c379-463d-88fe-5a7b24f58cbf\",\"type\":\"Quad\"},\"hover_glyph\":null,\"muted_glyph\":null,\"nonselection_glyph\":{\"id\":\"8ad90f5b-2ba8-45ac-a658-2b8e944a7e52\",\"type\":\"Quad\"},\"selection_glyph\":null,\"view\":{\"id\":\"8bf2121a-dd0a-4f1b-abf7-0fa651904484\",\"type\":\"CDSView\"}},\"id\":\"40c8152e-ff7f-4f1b-8bf7-210d7dd8f7fe\",\"type\":\"GlyphRenderer\"}],\"root_ids\":[\"3d0680b6-81cb-4ec4-a3be-1ff104a2c21c\"]},\"title\":\"Bokeh Application\",\"version\":\"0.13.0\"}};\n",
              "  var render_items = [{\"docid\":\"3cc2ff63-555f-40fd-9a4a-924b63d56023\",\"roots\":{\"3d0680b6-81cb-4ec4-a3be-1ff104a2c21c\":\"f244bddd-f634-4e03-9d28-a46de382eeb7\"}}];\n",
              "  root.Bokeh.embed.embed_items_notebook(docs_json, render_items);\n",
              "\n",
              "  }\n",
              "  if (root.Bokeh !== undefined) {\n",
              "    embed_document(root);\n",
              "  } else {\n",
              "    var attempts = 0;\n",
              "    var timer = setInterval(function(root) {\n",
              "      if (root.Bokeh !== undefined) {\n",
              "        embed_document(root);\n",
              "        clearInterval(timer);\n",
              "      }\n",
              "      attempts++;\n",
              "      if (attempts > 100) {\n",
              "        console.log(\"Bokeh: ERROR: Unable to run BokehJS code because BokehJS library is missing\")\n",
              "        clearInterval(timer);\n",
              "      }\n",
              "    }, 10, root)\n",
              "  }\n",
              "})(window);"
            ],
            "application/vnd.bokehjs_exec.v0+json": ""
          },
          "metadata": {
            "tags": [],
            "application/vnd.bokehjs_exec.v0+json": {
              "id": "3d0680b6-81cb-4ec4-a3be-1ff104a2c21c"
            }
          }
        }
      ]
    },
    {
      "metadata": {
        "id": "nkKoQwFEcxpi",
        "colab_type": "code",
        "colab": {},
        "cellView": "both"
      },
      "cell_type": "code",
      "source": [
        "#@title Optionally download interpolation MIDI file.\n",
        "download(drums_interp, '%s_interp.mid' % drums_interp_model)"
      ],
      "execution_count": 0,
      "outputs": []
    },
    {
      "metadata": {
        "id": "moLOftFqBS-0",
        "colab_type": "text"
      },
      "cell_type": "markdown",
      "source": [
        "# 2-Bar Melody Model\n",
        "\n",
        "The pre-trained model consists of a single-layer bidirectional LSTM encoder with 2048 nodes in each direction, a 3-layer LSTM decoder with 2048 nodes in each layer, and Z with 512 dimensions. The model was given 0 free bits, and had its beta valued annealed at an exponential rate of 0.99999 from 0 to 0.43 over 200k steps. It was trained with scheduled sampling with an inverse sigmoid schedule and a rate of 1000. The final accuracy is 0.95 and KL divergence is 58 bits."
      ]
    },
    {
      "metadata": {
        "id": "2XCPjwd6BVtm",
        "colab_type": "code",
        "colab": {
          "base_uri": "https://localhost:8080/",
          "height": 238
        },
        "cellView": "form",
        "outputId": "2781e845-934f-4cf2-8d75-9b4fd937cbc8"
      },
      "cell_type": "code",
      "source": [
        "#@title Load the pre-trained model.\n",
        "mel_2bar_config = configs.CONFIG_MAP['cat-mel_2bar_big']\n",
        "mel_2bar = TrainedModel(mel_2bar_config, batch_size=4, checkpoint_dir_or_path='/content/checkpoints/mel_2bar_big.ckpt')"
      ],
      "execution_count": 13,
      "outputs": [
        {
          "output_type": "stream",
          "text": [
            "INFO:tensorflow:Building MusicVAE model with BidirectionalLstmEncoder, CategoricalLstmDecoder, and hparams:\n",
            "{'grad_clip': 1.0, 'z_size': 512, 'decay_rate': 0.9999, 'dec_rnn_size': [2048, 2048, 2048], 'free_bits': 0, 'use_cudnn': False, 'residual_encoder': False, 'grad_norm_clip_to_zero': 10000, 'learning_rate': 0.001, 'conditional': True, 'batch_size': 4, 'min_learning_rate': 1e-05, 'sampling_schedule': 'inverse_sigmoid', 'max_seq_len': 32, 'residual_decoder': False, 'beta_rate': 0.99999, 'enc_rnn_size': [2048], 'sampling_rate': 1000, 'max_beta': 0.5, 'dropout_keep_prob': 1.0, 'clip_mode': 'global_norm'}\n",
            "INFO:tensorflow:\n",
            "Encoder Cells (bidirectional):\n",
            "  units: [2048]\n",
            "\n",
            "INFO:tensorflow:\n",
            "Decoder Cells:\n",
            "  units: [2048, 2048, 2048]\n",
            "\n",
            "WARNING:tensorflow:Setting non-training sampling schedule from inverse_sigmoid:1000.000000 to constant:1.0.\n",
            "INFO:tensorflow:Restoring parameters from /content/checkpoints/mel_2bar_big.ckpt\n"
          ],
          "name": "stdout"
        }
      ]
    },
    {
      "metadata": {
        "id": "wM6gOe6X3hWB",
        "colab_type": "text"
      },
      "cell_type": "markdown",
      "source": [
        "## Generate Samples"
      ]
    },
    {
      "metadata": {
        "id": "RwXUA74cNkh0",
        "colab_type": "code",
        "colab": {
          "base_uri": "https://localhost:8080/",
          "height": 249
        },
        "cellView": "form",
        "outputId": "2760bb14-32e3-499f-cf9a-37d1437e3b76"
      },
      "cell_type": "code",
      "source": [
        "#@title Generate 4 samples from the prior.\n",
        "temperature = 0.5 #@param {type:\"slider\", min:0.1, max:1.5, step:0.1}\n",
        "mel_2_samples = mel_2bar.sample(n=4, length=32, temperature=temperature)\n",
        "for ns in mel_2_samples:\n",
        "  play(ns)"
      ],
      "execution_count": 14,
      "outputs": [
        {
          "output_type": "display_data",
          "data": {
            "text/plain": [
              "<IPython.core.display.HTML object>"
            ],
            "text/html": [
              "<div id=\"id_11\"> </div>"
            ]
          },
          "metadata": {
            "tags": []
          }
        },
        {
          "output_type": "display_data",
          "data": {
            "text/plain": [
              "<IPython.core.display.HTML object>"
            ],
            "text/html": [
              "<div id=\"id_12\"> </div>"
            ]
          },
          "metadata": {
            "tags": []
          }
        },
        {
          "output_type": "display_data",
          "data": {
            "text/plain": [
              "<IPython.core.display.HTML object>"
            ],
            "text/html": [
              "<div id=\"id_13\"> </div>"
            ]
          },
          "metadata": {
            "tags": []
          }
        },
        {
          "output_type": "display_data",
          "data": {
            "text/plain": [
              "<IPython.core.display.HTML object>"
            ],
            "text/html": [
              "<div id=\"id_14\"> </div>"
            ]
          },
          "metadata": {
            "tags": []
          }
        }
      ]
    },
    {
      "metadata": {
        "id": "MLg9dQ2D1Xpu",
        "colab_type": "code",
        "colab": {},
        "cellView": "form"
      },
      "cell_type": "code",
      "source": [
        "#@title Optionally download samples.\n",
        "for i, ns in enumerate(mel_2_samples):\n",
        "  download(ns, 'mel_2bar_sample_%d.mid' % i)"
      ],
      "execution_count": 0,
      "outputs": []
    },
    {
      "metadata": {
        "id": "8YxEHHI937Oa",
        "colab_type": "text"
      },
      "cell_type": "markdown",
      "source": [
        "## Generate Interpolations"
      ]
    },
    {
      "metadata": {
        "id": "H5wCWLMPLfYz",
        "colab_type": "code",
        "colab": {},
        "cellView": "form"
      },
      "cell_type": "code",
      "source": [
        "#@title Option 1: Use example MIDI files for interpolation endpoints.\n",
        "input_mel_midi_data = [\n",
        "    tf.gfile.Open(fn).read()\n",
        "    for fn in sorted(tf.gfile.Glob('/content/midi/mel_2bar*.mid'))]"
      ],
      "execution_count": 0,
      "outputs": []
    },
    {
      "metadata": {
        "id": "Hu5SeYFnNEe5",
        "colab_type": "code",
        "colab": {},
        "cellView": "form"
      },
      "cell_type": "code",
      "source": [
        "#@title Option 2: Upload your own MIDI files to use for interpolation endpoints instead of those provided.\n",
        "input_mel_midi_data = files.upload().values() or input_mel_midi_data"
      ],
      "execution_count": 0,
      "outputs": []
    },
    {
      "metadata": {
        "id": "Xy4vizNUH8GJ",
        "colab_type": "code",
        "colab": {
          "base_uri": "https://localhost:8080/",
          "height": 166
        },
        "cellView": "form",
        "outputId": "5ffe2406-da0e-4149-f1cd-2ad389f9dae2"
      },
      "cell_type": "code",
      "source": [
        "#@title Extract melodies from MIDI files. This will extract all unique 2-bar melodies using a sliding window with a stride of 1 bar.\n",
        "mel_input_seqs = [mm.midi_to_sequence_proto(m) for m in input_mel_midi_data]\n",
        "extracted_mels = []\n",
        "for ns in mel_input_seqs:\n",
        "  extracted_mels.extend(\n",
        "      mel_2bar_config.data_converter.to_notesequences(\n",
        "          mel_2bar_config.data_converter.to_tensors(ns)[1]))\n",
        "for i, ns in enumerate(extracted_mels):\n",
        "  print \"Melody\", i\n",
        "  play(ns)"
      ],
      "execution_count": 17,
      "outputs": [
        {
          "output_type": "stream",
          "text": [
            "Melody 0\n"
          ],
          "name": "stdout"
        },
        {
          "output_type": "display_data",
          "data": {
            "text/plain": [
              "<IPython.core.display.HTML object>"
            ],
            "text/html": [
              "<div id=\"id_15\"> </div>"
            ]
          },
          "metadata": {
            "tags": []
          }
        },
        {
          "output_type": "stream",
          "text": [
            "Melody 1\n"
          ],
          "name": "stdout"
        },
        {
          "output_type": "display_data",
          "data": {
            "text/plain": [
              "<IPython.core.display.HTML object>"
            ],
            "text/html": [
              "<div id=\"id_16\"> </div>"
            ]
          },
          "metadata": {
            "tags": []
          }
        }
      ]
    },
    {
      "metadata": {
        "id": "8J4vloU3Pgtz",
        "colab_type": "code",
        "colab": {
          "base_uri": "https://localhost:8080/",
          "height": 546
        },
        "cellView": "form",
        "outputId": "bfc47ad4-6fbf-417d-b726-9bad129e108a"
      },
      "cell_type": "code",
      "source": [
        "#@title Interpolate between 2 melodies, selected from those in the previous cell.\n",
        "start_melody = 0 #@param {type:\"integer\"}\n",
        "end_melody = 1 #@param {type:\"integer\"}\n",
        "start_mel = extracted_mels[start_melody]\n",
        "end_mel = extracted_mels[end_melody]\n",
        "\n",
        "temperature = 0.5 #@param {type:\"slider\", min:0.1, max:1.5, step:0.1}\n",
        "num_steps = 13 #@param {type:\"integer\"}\n",
        "\n",
        "mel_2bar_interp = interpolate(mel_2bar, start_mel, end_mel, num_steps=num_steps, temperature=temperature)"
      ],
      "execution_count": 18,
      "outputs": [
        {
          "output_type": "stream",
          "text": [
            "Start Seq Reconstruction\n"
          ],
          "name": "stdout"
        },
        {
          "output_type": "display_data",
          "data": {
            "text/plain": [
              "<IPython.core.display.HTML object>"
            ],
            "text/html": [
              "<div id=\"id_17\"> </div>"
            ]
          },
          "metadata": {
            "tags": []
          }
        },
        {
          "output_type": "stream",
          "text": [
            "End Seq Reconstruction\n"
          ],
          "name": "stdout"
        },
        {
          "output_type": "display_data",
          "data": {
            "text/plain": [
              "<IPython.core.display.HTML object>"
            ],
            "text/html": [
              "<div id=\"id_18\"> </div>"
            ]
          },
          "metadata": {
            "tags": []
          }
        },
        {
          "output_type": "stream",
          "text": [
            "Mean Sequence\n"
          ],
          "name": "stdout"
        },
        {
          "output_type": "display_data",
          "data": {
            "text/plain": [
              "<IPython.core.display.HTML object>"
            ],
            "text/html": [
              "<div id=\"id_19\"> </div>"
            ]
          },
          "metadata": {
            "tags": []
          }
        },
        {
          "output_type": "stream",
          "text": [
            "Start -> End Interpolation\n"
          ],
          "name": "stdout"
        },
        {
          "output_type": "display_data",
          "data": {
            "text/plain": [
              "<IPython.core.display.HTML object>"
            ],
            "text/html": [
              "<div id=\"id_20\"> </div>"
            ]
          },
          "metadata": {
            "tags": []
          }
        },
        {
          "output_type": "display_data",
          "data": {
            "text/html": [
              "\n",
              "    <div class=\"bk-root\">\n",
              "        <a href=\"https://bokeh.pydata.org\" target=\"_blank\" class=\"bk-logo bk-logo-small bk-logo-notebook\"></a>\n",
              "        <span id=\"5e0e87ef-99fe-440f-8bb6-18f47ac9c3ea\">Loading BokehJS ...</span>\n",
              "    </div>"
            ]
          },
          "metadata": {
            "tags": []
          }
        },
        {
          "output_type": "display_data",
          "data": {
            "application/javascript": [
              "\n",
              "(function(root) {\n",
              "  function now() {\n",
              "    return new Date();\n",
              "  }\n",
              "\n",
              "  var force = true;\n",
              "\n",
              "  if (typeof (root._bokeh_onload_callbacks) === \"undefined\" || force === true) {\n",
              "    root._bokeh_onload_callbacks = [];\n",
              "    root._bokeh_is_loading = undefined;\n",
              "  }\n",
              "\n",
              "  var JS_MIME_TYPE = 'application/javascript';\n",
              "  var HTML_MIME_TYPE = 'text/html';\n",
              "  var EXEC_MIME_TYPE = 'application/vnd.bokehjs_exec.v0+json';\n",
              "  var CLASS_NAME = 'output_bokeh rendered_html';\n",
              "\n",
              "  /**\n",
              "   * Render data to the DOM node\n",
              "   */\n",
              "  function render(props, node) {\n",
              "    var script = document.createElement(\"script\");\n",
              "    node.appendChild(script);\n",
              "  }\n",
              "\n",
              "  /**\n",
              "   * Handle when an output is cleared or removed\n",
              "   */\n",
              "  function handleClearOutput(event, handle) {\n",
              "    var cell = handle.cell;\n",
              "\n",
              "    var id = cell.output_area._bokeh_element_id;\n",
              "    var server_id = cell.output_area._bokeh_server_id;\n",
              "    // Clean up Bokeh references\n",
              "    if (id != null && id in Bokeh.index) {\n",
              "      Bokeh.index[id].model.document.clear();\n",
              "      delete Bokeh.index[id];\n",
              "    }\n",
              "\n",
              "    if (server_id !== undefined) {\n",
              "      // Clean up Bokeh references\n",
              "      var cmd = \"from bokeh.io.state import curstate; print(curstate().uuid_to_server['\" + server_id + \"'].get_sessions()[0].document.roots[0]._id)\";\n",
              "      cell.notebook.kernel.execute(cmd, {\n",
              "        iopub: {\n",
              "          output: function(msg) {\n",
              "            var id = msg.content.text.trim();\n",
              "            if (id in Bokeh.index) {\n",
              "              Bokeh.index[id].model.document.clear();\n",
              "              delete Bokeh.index[id];\n",
              "            }\n",
              "          }\n",
              "        }\n",
              "      });\n",
              "      // Destroy server and session\n",
              "      var cmd = \"import bokeh.io.notebook as ion; ion.destroy_server('\" + server_id + \"')\";\n",
              "      cell.notebook.kernel.execute(cmd);\n",
              "    }\n",
              "  }\n",
              "\n",
              "  /**\n",
              "   * Handle when a new output is added\n",
              "   */\n",
              "  function handleAddOutput(event, handle) {\n",
              "    var output_area = handle.output_area;\n",
              "    var output = handle.output;\n",
              "\n",
              "    // limit handleAddOutput to display_data with EXEC_MIME_TYPE content only\n",
              "    if ((output.output_type != \"display_data\") || (!output.data.hasOwnProperty(EXEC_MIME_TYPE))) {\n",
              "      return\n",
              "    }\n",
              "\n",
              "    var toinsert = output_area.element.find(\".\" + CLASS_NAME.split(' ')[0]);\n",
              "\n",
              "    if (output.metadata[EXEC_MIME_TYPE][\"id\"] !== undefined) {\n",
              "      toinsert[toinsert.length - 1].firstChild.textContent = output.data[JS_MIME_TYPE];\n",
              "      // store reference to embed id on output_area\n",
              "      output_area._bokeh_element_id = output.metadata[EXEC_MIME_TYPE][\"id\"];\n",
              "    }\n",
              "    if (output.metadata[EXEC_MIME_TYPE][\"server_id\"] !== undefined) {\n",
              "      var bk_div = document.createElement(\"div\");\n",
              "      bk_div.innerHTML = output.data[HTML_MIME_TYPE];\n",
              "      var script_attrs = bk_div.children[0].attributes;\n",
              "      for (var i = 0; i < script_attrs.length; i++) {\n",
              "        toinsert[toinsert.length - 1].firstChild.setAttribute(script_attrs[i].name, script_attrs[i].value);\n",
              "      }\n",
              "      // store reference to server id on output_area\n",
              "      output_area._bokeh_server_id = output.metadata[EXEC_MIME_TYPE][\"server_id\"];\n",
              "    }\n",
              "  }\n",
              "\n",
              "  function register_renderer(events, OutputArea) {\n",
              "\n",
              "    function append_mime(data, metadata, element) {\n",
              "      // create a DOM node to render to\n",
              "      var toinsert = this.create_output_subarea(\n",
              "        metadata,\n",
              "        CLASS_NAME,\n",
              "        EXEC_MIME_TYPE\n",
              "      );\n",
              "      this.keyboard_manager.register_events(toinsert);\n",
              "      // Render to node\n",
              "      var props = {data: data, metadata: metadata[EXEC_MIME_TYPE]};\n",
              "      render(props, toinsert[toinsert.length - 1]);\n",
              "      element.append(toinsert);\n",
              "      return toinsert\n",
              "    }\n",
              "\n",
              "    /* Handle when an output is cleared or removed */\n",
              "    events.on('clear_output.CodeCell', handleClearOutput);\n",
              "    events.on('delete.Cell', handleClearOutput);\n",
              "\n",
              "    /* Handle when a new output is added */\n",
              "    events.on('output_added.OutputArea', handleAddOutput);\n",
              "\n",
              "    /**\n",
              "     * Register the mime type and append_mime function with output_area\n",
              "     */\n",
              "    OutputArea.prototype.register_mime_type(EXEC_MIME_TYPE, append_mime, {\n",
              "      /* Is output safe? */\n",
              "      safe: true,\n",
              "      /* Index of renderer in `output_area.display_order` */\n",
              "      index: 0\n",
              "    });\n",
              "  }\n",
              "\n",
              "  // register the mime type if in Jupyter Notebook environment and previously unregistered\n",
              "  if (root.Jupyter !== undefined) {\n",
              "    var events = require('base/js/events');\n",
              "    var OutputArea = require('notebook/js/outputarea').OutputArea;\n",
              "\n",
              "    if (OutputArea.prototype.mime_types().indexOf(EXEC_MIME_TYPE) == -1) {\n",
              "      register_renderer(events, OutputArea);\n",
              "    }\n",
              "  }\n",
              "\n",
              "  \n",
              "  if (typeof (root._bokeh_timeout) === \"undefined\" || force === true) {\n",
              "    root._bokeh_timeout = Date.now() + 5000;\n",
              "    root._bokeh_failed_load = false;\n",
              "  }\n",
              "\n",
              "  var NB_LOAD_WARNING = {'data': {'text/html':\n",
              "     \"<div style='background-color: #fdd'>\\n\"+\n",
              "     \"<p>\\n\"+\n",
              "     \"BokehJS does not appear to have successfully loaded. If loading BokehJS from CDN, this \\n\"+\n",
              "     \"may be due to a slow or bad network connection. Possible fixes:\\n\"+\n",
              "     \"</p>\\n\"+\n",
              "     \"<ul>\\n\"+\n",
              "     \"<li>re-rerun `output_notebook()` to attempt to load from CDN again, or</li>\\n\"+\n",
              "     \"<li>use INLINE resources instead, as so:</li>\\n\"+\n",
              "     \"</ul>\\n\"+\n",
              "     \"<code>\\n\"+\n",
              "     \"from bokeh.resources import INLINE\\n\"+\n",
              "     \"output_notebook(resources=INLINE)\\n\"+\n",
              "     \"</code>\\n\"+\n",
              "     \"</div>\"}};\n",
              "\n",
              "  function display_loaded() {\n",
              "    var el = document.getElementById(\"5e0e87ef-99fe-440f-8bb6-18f47ac9c3ea\");\n",
              "    if (el != null) {\n",
              "      el.textContent = \"BokehJS is loading...\";\n",
              "    }\n",
              "    if (root.Bokeh !== undefined) {\n",
              "      if (el != null) {\n",
              "        el.textContent = \"BokehJS \" + root.Bokeh.version + \" successfully loaded.\";\n",
              "      }\n",
              "    } else if (Date.now() < root._bokeh_timeout) {\n",
              "      setTimeout(display_loaded, 100)\n",
              "    }\n",
              "  }\n",
              "\n",
              "\n",
              "  function run_callbacks() {\n",
              "    try {\n",
              "      root._bokeh_onload_callbacks.forEach(function(callback) { callback() });\n",
              "    }\n",
              "    finally {\n",
              "      delete root._bokeh_onload_callbacks\n",
              "    }\n",
              "    console.info(\"Bokeh: all callbacks have finished\");\n",
              "  }\n",
              "\n",
              "  function load_libs(js_urls, callback) {\n",
              "    root._bokeh_onload_callbacks.push(callback);\n",
              "    if (root._bokeh_is_loading > 0) {\n",
              "      console.log(\"Bokeh: BokehJS is being loaded, scheduling callback at\", now());\n",
              "      return null;\n",
              "    }\n",
              "    if (js_urls == null || js_urls.length === 0) {\n",
              "      run_callbacks();\n",
              "      return null;\n",
              "    }\n",
              "    console.log(\"Bokeh: BokehJS not loaded, scheduling load and callback at\", now());\n",
              "    root._bokeh_is_loading = js_urls.length;\n",
              "    for (var i = 0; i < js_urls.length; i++) {\n",
              "      var url = js_urls[i];\n",
              "      var s = document.createElement('script');\n",
              "      s.src = url;\n",
              "      s.async = false;\n",
              "      s.onreadystatechange = s.onload = function() {\n",
              "        root._bokeh_is_loading--;\n",
              "        if (root._bokeh_is_loading === 0) {\n",
              "          console.log(\"Bokeh: all BokehJS libraries loaded\");\n",
              "          run_callbacks()\n",
              "        }\n",
              "      };\n",
              "      s.onerror = function() {\n",
              "        console.warn(\"failed to load library \" + url);\n",
              "      };\n",
              "      console.log(\"Bokeh: injecting script tag for BokehJS library: \", url);\n",
              "      document.getElementsByTagName(\"head\")[0].appendChild(s);\n",
              "    }\n",
              "  };var element = document.getElementById(\"5e0e87ef-99fe-440f-8bb6-18f47ac9c3ea\");\n",
              "  if (element == null) {\n",
              "    console.log(\"Bokeh: ERROR: autoload.js configured with elementid '5e0e87ef-99fe-440f-8bb6-18f47ac9c3ea' but no matching script tag was found. \")\n",
              "    return false;\n",
              "  }\n",
              "\n",
              "  var js_urls = [\"https://cdn.pydata.org/bokeh/release/bokeh-0.13.0.min.js\", \"https://cdn.pydata.org/bokeh/release/bokeh-widgets-0.13.0.min.js\", \"https://cdn.pydata.org/bokeh/release/bokeh-tables-0.13.0.min.js\", \"https://cdn.pydata.org/bokeh/release/bokeh-gl-0.13.0.min.js\"];\n",
              "\n",
              "  var inline_js = [\n",
              "    function(Bokeh) {\n",
              "      Bokeh.set_log_level(\"info\");\n",
              "    },\n",
              "    \n",
              "    function(Bokeh) {\n",
              "      \n",
              "    },\n",
              "    function(Bokeh) {\n",
              "      console.log(\"Bokeh: injecting CSS: https://cdn.pydata.org/bokeh/release/bokeh-0.13.0.min.css\");\n",
              "      Bokeh.embed.inject_css(\"https://cdn.pydata.org/bokeh/release/bokeh-0.13.0.min.css\");\n",
              "      console.log(\"Bokeh: injecting CSS: https://cdn.pydata.org/bokeh/release/bokeh-widgets-0.13.0.min.css\");\n",
              "      Bokeh.embed.inject_css(\"https://cdn.pydata.org/bokeh/release/bokeh-widgets-0.13.0.min.css\");\n",
              "      console.log(\"Bokeh: injecting CSS: https://cdn.pydata.org/bokeh/release/bokeh-tables-0.13.0.min.css\");\n",
              "      Bokeh.embed.inject_css(\"https://cdn.pydata.org/bokeh/release/bokeh-tables-0.13.0.min.css\");\n",
              "    }\n",
              "  ];\n",
              "\n",
              "  function run_inline_js() {\n",
              "    \n",
              "    if ((root.Bokeh !== undefined) || (force === true)) {\n",
              "      for (var i = 0; i < inline_js.length; i++) {\n",
              "        inline_js[i].call(root, root.Bokeh);\n",
              "      }if (force === true) {\n",
              "        display_loaded();\n",
              "      }} else if (Date.now() < root._bokeh_timeout) {\n",
              "      setTimeout(run_inline_js, 100);\n",
              "    } else if (!root._bokeh_failed_load) {\n",
              "      console.log(\"Bokeh: BokehJS failed to load within specified timeout.\");\n",
              "      root._bokeh_failed_load = true;\n",
              "    } else if (force !== true) {\n",
              "      var cell = $(document.getElementById(\"5e0e87ef-99fe-440f-8bb6-18f47ac9c3ea\")).parents('.cell').data().cell;\n",
              "      cell.output_area.append_execute_result(NB_LOAD_WARNING)\n",
              "    }\n",
              "\n",
              "  }\n",
              "\n",
              "  if (root._bokeh_is_loading === 0) {\n",
              "    console.log(\"Bokeh: BokehJS loaded, going straight to plotting\");\n",
              "    run_inline_js();\n",
              "  } else {\n",
              "    load_libs(js_urls, function() {\n",
              "      console.log(\"Bokeh: BokehJS plotting callback run at\", now());\n",
              "      run_inline_js();\n",
              "    });\n",
              "  }\n",
              "}(window));"
            ],
            "application/vnd.bokehjs_load.v0+json": "\n(function(root) {\n  function now() {\n    return new Date();\n  }\n\n  var force = true;\n\n  if (typeof (root._bokeh_onload_callbacks) === \"undefined\" || force === true) {\n    root._bokeh_onload_callbacks = [];\n    root._bokeh_is_loading = undefined;\n  }\n\n  \n\n  \n  if (typeof (root._bokeh_timeout) === \"undefined\" || force === true) {\n    root._bokeh_timeout = Date.now() + 5000;\n    root._bokeh_failed_load = false;\n  }\n\n  var NB_LOAD_WARNING = {'data': {'text/html':\n     \"<div style='background-color: #fdd'>\\n\"+\n     \"<p>\\n\"+\n     \"BokehJS does not appear to have successfully loaded. If loading BokehJS from CDN, this \\n\"+\n     \"may be due to a slow or bad network connection. Possible fixes:\\n\"+\n     \"</p>\\n\"+\n     \"<ul>\\n\"+\n     \"<li>re-rerun `output_notebook()` to attempt to load from CDN again, or</li>\\n\"+\n     \"<li>use INLINE resources instead, as so:</li>\\n\"+\n     \"</ul>\\n\"+\n     \"<code>\\n\"+\n     \"from bokeh.resources import INLINE\\n\"+\n     \"output_notebook(resources=INLINE)\\n\"+\n     \"</code>\\n\"+\n     \"</div>\"}};\n\n  function display_loaded() {\n    var el = document.getElementById(\"5e0e87ef-99fe-440f-8bb6-18f47ac9c3ea\");\n    if (el != null) {\n      el.textContent = \"BokehJS is loading...\";\n    }\n    if (root.Bokeh !== undefined) {\n      if (el != null) {\n        el.textContent = \"BokehJS \" + root.Bokeh.version + \" successfully loaded.\";\n      }\n    } else if (Date.now() < root._bokeh_timeout) {\n      setTimeout(display_loaded, 100)\n    }\n  }\n\n\n  function run_callbacks() {\n    try {\n      root._bokeh_onload_callbacks.forEach(function(callback) { callback() });\n    }\n    finally {\n      delete root._bokeh_onload_callbacks\n    }\n    console.info(\"Bokeh: all callbacks have finished\");\n  }\n\n  function load_libs(js_urls, callback) {\n    root._bokeh_onload_callbacks.push(callback);\n    if (root._bokeh_is_loading > 0) {\n      console.log(\"Bokeh: BokehJS is being loaded, scheduling callback at\", now());\n      return null;\n    }\n    if (js_urls == null || js_urls.length === 0) {\n      run_callbacks();\n      return null;\n    }\n    console.log(\"Bokeh: BokehJS not loaded, scheduling load and callback at\", now());\n    root._bokeh_is_loading = js_urls.length;\n    for (var i = 0; i < js_urls.length; i++) {\n      var url = js_urls[i];\n      var s = document.createElement('script');\n      s.src = url;\n      s.async = false;\n      s.onreadystatechange = s.onload = function() {\n        root._bokeh_is_loading--;\n        if (root._bokeh_is_loading === 0) {\n          console.log(\"Bokeh: all BokehJS libraries loaded\");\n          run_callbacks()\n        }\n      };\n      s.onerror = function() {\n        console.warn(\"failed to load library \" + url);\n      };\n      console.log(\"Bokeh: injecting script tag for BokehJS library: \", url);\n      document.getElementsByTagName(\"head\")[0].appendChild(s);\n    }\n  };var element = document.getElementById(\"5e0e87ef-99fe-440f-8bb6-18f47ac9c3ea\");\n  if (element == null) {\n    console.log(\"Bokeh: ERROR: autoload.js configured with elementid '5e0e87ef-99fe-440f-8bb6-18f47ac9c3ea' but no matching script tag was found. \")\n    return false;\n  }\n\n  var js_urls = [\"https://cdn.pydata.org/bokeh/release/bokeh-0.13.0.min.js\", \"https://cdn.pydata.org/bokeh/release/bokeh-widgets-0.13.0.min.js\", \"https://cdn.pydata.org/bokeh/release/bokeh-tables-0.13.0.min.js\", \"https://cdn.pydata.org/bokeh/release/bokeh-gl-0.13.0.min.js\"];\n\n  var inline_js = [\n    function(Bokeh) {\n      Bokeh.set_log_level(\"info\");\n    },\n    \n    function(Bokeh) {\n      \n    },\n    function(Bokeh) {\n      console.log(\"Bokeh: injecting CSS: https://cdn.pydata.org/bokeh/release/bokeh-0.13.0.min.css\");\n      Bokeh.embed.inject_css(\"https://cdn.pydata.org/bokeh/release/bokeh-0.13.0.min.css\");\n      console.log(\"Bokeh: injecting CSS: https://cdn.pydata.org/bokeh/release/bokeh-widgets-0.13.0.min.css\");\n      Bokeh.embed.inject_css(\"https://cdn.pydata.org/bokeh/release/bokeh-widgets-0.13.0.min.css\");\n      console.log(\"Bokeh: injecting CSS: https://cdn.pydata.org/bokeh/release/bokeh-tables-0.13.0.min.css\");\n      Bokeh.embed.inject_css(\"https://cdn.pydata.org/bokeh/release/bokeh-tables-0.13.0.min.css\");\n    }\n  ];\n\n  function run_inline_js() {\n    \n    if ((root.Bokeh !== undefined) || (force === true)) {\n      for (var i = 0; i < inline_js.length; i++) {\n        inline_js[i].call(root, root.Bokeh);\n      }if (force === true) {\n        display_loaded();\n      }} else if (Date.now() < root._bokeh_timeout) {\n      setTimeout(run_inline_js, 100);\n    } else if (!root._bokeh_failed_load) {\n      console.log(\"Bokeh: BokehJS failed to load within specified timeout.\");\n      root._bokeh_failed_load = true;\n    } else if (force !== true) {\n      var cell = $(document.getElementById(\"5e0e87ef-99fe-440f-8bb6-18f47ac9c3ea\")).parents('.cell').data().cell;\n      cell.output_area.append_execute_result(NB_LOAD_WARNING)\n    }\n\n  }\n\n  if (root._bokeh_is_loading === 0) {\n    console.log(\"Bokeh: BokehJS loaded, going straight to plotting\");\n    run_inline_js();\n  } else {\n    load_libs(js_urls, function() {\n      console.log(\"Bokeh: BokehJS plotting callback run at\", now());\n      run_inline_js();\n    });\n  }\n}(window));"
          },
          "metadata": {
            "tags": []
          }
        },
        {
          "output_type": "display_data",
          "data": {
            "text/html": [
              "\n",
              "\n",
              "\n",
              "\n",
              "\n",
              "\n",
              "  <div class=\"bk-root\" id=\"6c715c13-f1ef-4d79-b696-8f99fe96f940\"></div>\n"
            ]
          },
          "metadata": {
            "tags": []
          }
        },
        {
          "output_type": "display_data",
          "data": {
            "application/javascript": [
              "(function(root) {\n",
              "  function embed_document(root) {\n",
              "    \n",
              "  var docs_json = {\"a23826bd-baf8-4ab4-93f9-0361deb4554b\":{\"roots\":{\"references\":[{\"attributes\":{\"bottom_units\":\"screen\",\"fill_alpha\":{\"value\":0.5},\"fill_color\":{\"value\":\"lightgrey\"},\"left_units\":\"screen\",\"level\":\"overlay\",\"line_alpha\":{\"value\":1.0},\"line_color\":{\"value\":\"black\"},\"line_dash\":[4,4],\"line_width\":{\"value\":2},\"plot\":null,\"render_mode\":\"css\",\"right_units\":\"screen\",\"top_units\":\"screen\"},\"id\":\"e4b2a3fb-7df6-4082-9029-4be7f9e31ff9\",\"type\":\"BoxAnnotation\"},{\"attributes\":{},\"id\":\"5554b314-6419-47a9-a7cf-724444742522\",\"type\":\"Selection\"},{\"attributes\":{},\"id\":\"91cc1c27-4589-4b97-a1b5-7f27ad05f81b\",\"type\":\"ResetTool\"},{\"attributes\":{},\"id\":\"d365f383-f3dc-4d66-aeda-a7bac31f95ff\",\"type\":\"LinearScale\"},{\"attributes\":{\"plot\":null,\"text\":\"\"},\"id\":\"542bfdd3-9751-4c6c-8bf1-0a07a40fafd2\",\"type\":\"Title\"},{\"attributes\":{\"plot\":{\"id\":\"f8fbdb9b-8641-40d0-ae06-9f81d6bbf74f\",\"subtype\":\"Figure\",\"type\":\"Plot\"},\"ticker\":{\"id\":\"fe23949d-1a32-4057-84e2-1986ef8ec6f0\",\"type\":\"BasicTicker\"}},\"id\":\"74a717fe-c10f-4b85-9673-f5e07cd7c2c2\",\"type\":\"Grid\"},{\"attributes\":{\"callback\":null,\"renderers\":\"auto\",\"tooltips\":[[\"velo\",\"@velocity\"],[\"program\",\"@program\"],[\"end_time\",\"@end_time\"],[\"pitch\",\"@pitch\"],[\"duration\",\"@duration\"],[\"velocity\",\"@velocity\"],[\"start_time\",\"@start_time\"],[\"fill_alpha\",\"@fill_alpha\"]]},\"id\":\"b18a9544-0ed4-435e-abde-51da504ba674\",\"type\":\"HoverTool\"},{\"attributes\":{},\"id\":\"d0c55bc7-958a-4493-b19e-6da19294174f\",\"type\":\"PanTool\"},{\"attributes\":{},\"id\":\"091127f7-8b4f-4f6e-8b2b-43b3033f50ad\",\"type\":\"BasicTickFormatter\"},{\"attributes\":{\"axis_label\":\"time (sec)\",\"formatter\":{\"id\":\"091127f7-8b4f-4f6e-8b2b-43b3033f50ad\",\"type\":\"BasicTickFormatter\"},\"plot\":{\"id\":\"f8fbdb9b-8641-40d0-ae06-9f81d6bbf74f\",\"subtype\":\"Figure\",\"type\":\"Plot\"},\"ticker\":{\"id\":\"fe23949d-1a32-4057-84e2-1986ef8ec6f0\",\"type\":\"BasicTicker\"}},\"id\":\"c8bacfb8-538b-40f3-865f-099f4c88985a\",\"type\":\"LinearAxis\"},{\"attributes\":{},\"id\":\"216a5478-e37f-4540-aa9c-20152a67413b\",\"type\":\"BasicTickFormatter\"},{\"attributes\":{},\"id\":\"35948cdc-25b3-4400-896e-9f7e371a7fc5\",\"type\":\"LinearScale\"},{\"attributes\":{},\"id\":\"84512535-3028-4105-b338-061e1b51cb5e\",\"type\":\"SaveTool\"},{\"attributes\":{\"interval\":12},\"id\":\"9c65da85-8da7-4047-8448-d52e2efae9c2\",\"type\":\"SingleIntervalTicker\"},{\"attributes\":{\"dimension\":1,\"plot\":{\"id\":\"f8fbdb9b-8641-40d0-ae06-9f81d6bbf74f\",\"subtype\":\"Figure\",\"type\":\"Plot\"},\"ticker\":{\"id\":\"aea0ff26-7fbe-4e8b-b455-2b0a9c5a49fe\",\"type\":\"SingleIntervalTicker\"}},\"id\":\"7c1a9f72-7187-4c2f-811c-b479724fcc43\",\"type\":\"Grid\"},{\"attributes\":{\"callback\":null},\"id\":\"4e52b8a8-e8ec-464a-81d7-efc44a8fb0d6\",\"type\":\"DataRange1d\"},{\"attributes\":{\"interval\":12},\"id\":\"aea0ff26-7fbe-4e8b-b455-2b0a9c5a49fe\",\"type\":\"SingleIntervalTicker\"},{\"attributes\":{\"overlay\":{\"id\":\"e4b2a3fb-7df6-4082-9029-4be7f9e31ff9\",\"type\":\"BoxAnnotation\"}},\"id\":\"77d4ebc7-6e63-4b4e-8a36-ce92419bca81\",\"type\":\"BoxZoomTool\"},{\"attributes\":{\"bottom\":{\"field\":\"bottom\"},\"fill_alpha\":{\"value\":0.1},\"fill_color\":{\"value\":\"#1f77b4\"},\"left\":{\"field\":\"start_time\"},\"line_alpha\":{\"value\":0.1},\"line_color\":{\"value\":\"#1f77b4\"},\"right\":{\"field\":\"end_time\"},\"top\":{\"field\":\"top\"}},\"id\":\"04a791bc-3b47-4e8e-84a3-2daef353494e\",\"type\":\"Quad\"},{\"attributes\":{\"source\":{\"id\":\"09d83c49-5d46-4161-9b15-fd7cbc126c80\",\"type\":\"ColumnDataSource\"}},\"id\":\"88e07d51-3976-443d-9f85-6e41e970c7af\",\"type\":\"CDSView\"},{\"attributes\":{\"axis_label\":\"pitch (MIDI)\",\"formatter\":{\"id\":\"216a5478-e37f-4540-aa9c-20152a67413b\",\"type\":\"BasicTickFormatter\"},\"plot\":{\"id\":\"f8fbdb9b-8641-40d0-ae06-9f81d6bbf74f\",\"subtype\":\"Figure\",\"type\":\"Plot\"},\"ticker\":{\"id\":\"9c65da85-8da7-4047-8448-d52e2efae9c2\",\"type\":\"SingleIntervalTicker\"}},\"id\":\"d9f13957-b16e-4a84-833f-9ce1644a19cb\",\"type\":\"LinearAxis\"},{\"attributes\":{\"active_drag\":\"auto\",\"active_inspect\":\"auto\",\"active_multi\":null,\"active_scroll\":\"auto\",\"active_tap\":\"auto\",\"tools\":[{\"id\":\"b18a9544-0ed4-435e-abde-51da504ba674\",\"type\":\"HoverTool\"},{\"id\":\"d0c55bc7-958a-4493-b19e-6da19294174f\",\"type\":\"PanTool\"},{\"id\":\"77d4ebc7-6e63-4b4e-8a36-ce92419bca81\",\"type\":\"BoxZoomTool\"},{\"id\":\"91cc1c27-4589-4b97-a1b5-7f27ad05f81b\",\"type\":\"ResetTool\"},{\"id\":\"84512535-3028-4105-b338-061e1b51cb5e\",\"type\":\"SaveTool\"}]},\"id\":\"4ab3b515-08cc-4cac-a874-53d7d56d8d2e\",\"type\":\"Toolbar\"},{\"attributes\":{\"callback\":null},\"id\":\"b690088c-6673-424e-a5c4-a8bb14b666e8\",\"type\":\"DataRange1d\"},{\"attributes\":{\"callback\":null,\"data\":{\"bottom\":{\"__ndarray__\":\"zczMzMxMTUDNzMzMzExNQM3MzMzMTE1AzczMzMxMTEDNzMzMzExMQM3MzMzMTExAzczMzMxMTUDNzMzMzExNQM3MzMzMTE1AzczMzMxMTUDNzMzMzExNQM3MzMzMTE1AzczMzMxMTUDNzMzMzExNQM3MzMzMzE9AzczMzMxMTUDNzMzMzMxNQM3MzMzMTE1AzczMzMxMTUDNzMzMzMxPQM3MzMzMzE9AzczMzMzMT0DNzMzMzMxOQM3MzMzMzE9AzczMzMzMTkDNzMzMzExNQM3MzMzMzE9AZmZmZmZmUEBmZmZmZmZQQM3MzMzMzE9AzczMzMzMTkBmZmZmZiZQQM3MzMzMzE9AzczMzMzMTkBmZmZmZiZQQGZmZmZmJlBAZmZmZmamUEBmZmZmZiZQQGZmZmZmplBAZmZmZmamUEDNzMzMzExPQM3MzMzMzE9AZmZmZmamUEDNzMzMzMxPQGZmZmZmJlBAZmZmZmYmUEBmZmZmZiZQQGZmZmZmplBAZmZmZmYmUEBmZmZmZuZQQGZmZmZmplBAzczMzMxMT0BmZmZmZiZQQGZmZmZmJlBAZmZmZmamUEDNzMzMzMxPQM3MzMzMzE9AZmZmZmYmUEBmZmZmZqZQQGZmZmZmJlBAZmZmZmYmUEBmZmZmZqZQQGZmZmZmZlFAZmZmZmbmUEBmZmZmZuZQQGZmZmZmJlBAZmZmZmamUEBmZmZmZmZRQGZmZmZmplBAZmZmZmamUEBmZmZmZqZQQGZmZmZmplBAZmZmZmYmUEBmZmZmZiZQQGZmZmZm5lBAZmZmZmbmUUBmZmZmZuZQQGZmZmZmJlBAZmZmZmbmUEBmZmZmZmZRQGZmZmZmplBAZmZmZmYmUEBmZmZmZqZQQM3MzMzMTE9AZmZmZmYmUEBmZmZmZiZQQGZmZmZmplBAZmZmZmZmUUBmZmZmZuZRQGZmZmZm5lBAzczMzMxMT0BmZmZmZuZQQGZmZmZmZlFAZmZmZmbmUEBmZmZmZiZQQGZmZmZmJlBAZmZmZmYmUEBmZmZmZqZQQGZmZmZm5lBAZmZmZmYmUEBmZmZmZiZQQGZmZmZmJlBAZmZmZmZmUUBmZmZmZmZRQGZmZmZmZlFAZmZmZmamUEBmZmZmZiZQQGZmZmZmJlBAZmZmZmbmUUBmZmZmZmZRQGZmZmZmZlFAZmZmZmZmUUBmZmZmZiZQQGZmZmZmplBAZmZmZmZmUUBmZmZmZuZQQGZmZmZm5lFAZmZmZmYmUEBmZmZmZiZQQGZmZmZm5lFAZmZmZmZmUUBmZmZmZuZRQGZmZmZmJlBAZmZmZmYmUEBmZmZmZiZQQGZmZmZm5lFAZmZmZmZmUUBmZmZmZuZRQGZmZmZmZlFAZmZmZmYmUEBmZmZmZuZQQGZmZmZm5lFAZmZmZmZmUUBmZmZmZuZQQGZmZmZm5lFAZmZmZmYmUEBmZmZmZiZQQGZmZmZm5lFAZmZmZmZmUUBmZmZmZuZRQGZmZmZmJlBAZmZmZmYmUEBmZmZmZuZQQGZmZmZm5lFAZmZmZmZmUUBmZmZmZmZRQGZmZmZmZlFAZmZmZmYmUEBmZmZmZiZQQGZmZmZmJlJAZmZmZmZmUUBmZmZmZuZQQA==\",\"dtype\":\"float64\",\"shape\":[152]},\"duration\":{\"__ndarray__\":\"AAAAAAAA5D8AAAAAAADQPwAAAAAAAOw/AAAAAAAA5D8AAAAAAADQPwAAAAAAAOw/AAAAAAAA5D8AAAAAAADQPwAAAAAAAOw/AAAAAAAA5D8AAAAAAADQPwAAAAAAAOw/AAAAAAAA5D8AAAAAAADQPwAAAAAAAOw/AAAAAAAA5D8AAAAAAADQPwAAAAAAAOw/AAAAAAAA5D8AAAAAAADQPwAAAAAAAOw/AAAAAAAA4D8AAAAAAADQPwAAAAAAAOA/AAAAAAAA2D8AAAAAAADkPwAAAAAAANA/AAAAAAAA0D8AAAAAAADAPwAAAAAAAOA/AAAAAAAAwD8AAAAAAADQPwAAAAAAANA/AAAAAAAA5D8AAAAAAADAPwAAAAAAAOQ/AAAAAAAA0D8AAAAAAADQPwAAAAAAAOA/AAAAAAAAwD8AAAAAAADYPwAAAAAAAMA/AAAAAAAAwD8AAAAAAADgPwAAAAAAANg/AAAAAAAAwD8AAAAAAADoPwAAAAAAANA/AAAAAAAA0D8AAAAAAADYPwAAAAAAAMA/AAAAAAAA2D8AAAAAAADAPwAAAAAAAMA/AAAAAAAAwD8AAAAAAADQPwAAAAAAAMA/AAAAAAAA2D8AAAAAAADAPwAAAAAAAOA/AAAAAAAA0D8AAAAAAADQPwAAAAAAANg/AAAAAAAAwD8AAAAAAADQPwAAAAAAAMA/AAAAAAAAwD8AAAAAAADAPwAAAAAAAMA/AAAAAAAA0D8AAAAAAADYPwAAAAAAAMA/AAAAAAAA4D8AAAAAAADYPwAAAAAAAMA/AAAAAAAAwD8AAAAAAADQPwAAAAAAAMA/AAAAAAAAwD8AAAAAAADAPwAAAAAAAMA/AAAAAAAA0D8AAAAAAADYPwAAAAAAAMA/AAAAAAAA4D8AAAAAAADYPwAAAAAAAMA/AAAAAAAA0D8AAAAAAADAPwAAAAAAANA/AAAAAAAAwD8AAAAAAADAPwAAAAAAAMA/AAAAAAAAwD8AAAAAAADAPwAAAAAAAMA/AAAAAAAAwD8AAAAAAADYPwAAAAAAAMA/AAAAAAAA9D8AAAAAAADAPwAAAAAAAMA/AAAAAAAA0D8AAAAAAADAPwAAAAAAAMA/AAAAAAAAwD8AAAAAAADAPwAAAAAAAMA/AAAAAAAAwD8AAAAAAADAPwAAAAAAAMA/AAAAAAAAwD8AAAAAAADAPwAAAAAAAMA/AAAAAAAA0D8AAAAAAADAPwAAAAAAAPQ/AAAAAAAAwD8AAAAAAADAPwAAAAAAANA/AAAAAAAAwD8AAAAAAADAPwAAAAAAAMA/AAAAAAAAwD8AAAAAAADAPwAAAAAAAMA/AAAAAAAAwD8AAAAAAADAPwAAAAAAAMA/AAAAAAAAwD8AAAAAAADAPwAAAAAAAMA/AAAAAAAAwD8AAAAAAADAPwAAAAAAANA/AAAAAAAAwD8AAAAAAADAPwAAAAAAANA/AAAAAAAAwD8AAAAAAADAPwAAAAAAAMA/AAAAAAAAwD8AAAAAAADAPwAAAAAAAMA/AAAAAAAAwD8AAAAAAADAPwAAAAAAAMA/AAAAAAAAwD8AAAAAAADAPwAAAAAAAMA/AAAAAAAAwD8AAAAAAADAPw==\",\"dtype\":\"float64\",\"shape\":[152]},\"end_time\":{\"__ndarray__\":\"AAAAAAAA5D8AAAAAAADwPwAAAAAAAP4/AAAAAAAABUAAAAAAAAAIQAAAAAAAAA9AAAAAAACAEkAAAAAAAAAUQAAAAAAAgBdAAAAAAACAGkAAAAAAAAAcQAAAAAAAgB9AAAAAAABAIUAAAAAAAAAiQAAAAAAAwCNAAAAAAABAJUAAAAAAAAAmQAAAAAAAwCdAAAAAAABAKUAAAAAAAAAqQAAAAAAAwCtAAAAAAAAALUAAAAAAAAAuQAAAAAAAAC9AAAAAAADAL0AAAAAAAKAwQAAAAAAAADFAAAAAAABAMUAAAAAAAGAxQAAAAAAAgDJAAAAAAACgMkAAAAAAAAAzQAAAAAAAQDNAAAAAAADgM0AAAAAAAAA0QAAAAAAAoDRAAAAAAAAANUAAAAAAAEA1QAAAAAAA4DVAAAAAAAAANkAAAAAAAGA2QAAAAAAAoDZAAAAAAADgNkAAAAAAAIA3QAAAAAAA4DdAAAAAAAAAOEAAAAAAAMA4QAAAAAAAADlAAAAAAABAOUAAAAAAAMA5QAAAAAAAADpAAAAAAABgOkAAAAAAAIA6QAAAAAAAoDpAAAAAAAAAO0AAAAAAAEA7QAAAAAAAgDtAAAAAAADgO0AAAAAAAAA8QAAAAAAAgDxAAAAAAAAAPUAAAAAAAIA9QAAAAAAA4D1AAAAAAAAAPkAAAAAAAEA+QAAAAAAAgD5AAAAAAACgPkAAAAAAAOA+QAAAAAAAAD9AAAAAAABAP0AAAAAAAOA/QAAAAAAAAEBAAAAAAABAQEAAAAAAALBAQAAAAAAAwEBAAAAAAAAAQUAAAAAAACBBQAAAAAAAQEFAAAAAAABQQUAAAAAAAHBBQAAAAAAAgEFAAAAAAACgQUAAAAAAAPBBQAAAAAAAAEJAAAAAAABAQkAAAAAAALBCQAAAAAAAwEJAAAAAAADgQkAAAAAAAABDQAAAAAAAIENAAAAAAABAQ0AAAAAAAFBDQAAAAAAAcENAAAAAAACAQ0AAAAAAAJBDQAAAAAAAsENAAAAAAADAQ0AAAAAAAPBDQAAAAAAAAERAAAAAAACgREAAAAAAALBEQAAAAAAAwERAAAAAAADgREAAAAAAAPBEQAAAAAAAAEVAAAAAAAAQRUAAAAAAADBFQAAAAAAAQEVAAAAAAABQRUAAAAAAAHBFQAAAAAAAgEVAAAAAAACQRUAAAAAAALBFQAAAAAAAwEVAAAAAAADgRUAAAAAAAABGQAAAAAAAoEZAAAAAAACwRkAAAAAAAMBGQAAAAAAA4EZAAAAAAADwRkAAAAAAAABHQAAAAAAAEEdAAAAAAAAwR0AAAAAAAEBHQAAAAAAAUEdAAAAAAABwR0AAAAAAAIBHQAAAAAAAkEdAAAAAAACwR0AAAAAAAMBHQAAAAAAA0EdAAAAAAADwR0AAAAAAAABIQAAAAAAAIEhAAAAAAACwSEAAAAAAAMBIQAAAAAAA4EhAAAAAAADwSEAAAAAAAABJQAAAAAAAEElAAAAAAAAwSUAAAAAAAEBJQAAAAAAAUElAAAAAAABwSUAAAAAAAIBJQAAAAAAAkElAAAAAAACwSUAAAAAAAMBJQAAAAAAA0ElAAAAAAADwSUAAAAAAAABKQA==\",\"dtype\":\"float64\",\"shape\":[152]},\"fill_alpha\":{\"__ndarray__\":\"AAAAAAAA8D8AAAAAAADwPwAAAAAAAPA/AAAAAAAA8D8AAAAAAADwPwAAAAAAAPA/AAAAAAAA8D8AAAAAAADwPwAAAAAAAPA/AAAAAAAA8D8AAAAAAADwPwAAAAAAAPA/AAAAAAAA8D8AAAAAAADwPwAAAAAAAPA/AAAAAAAA8D8AAAAAAADwPwAAAAAAAPA/AAAAAAAA8D8AAAAAAADwPwAAAAAAAPA/AAAAAAAA8D8AAAAAAADwPwAAAAAAAPA/AAAAAAAA8D8AAAAAAADwPwAAAAAAAPA/AAAAAAAA8D8AAAAAAADwPwAAAAAAAPA/AAAAAAAA8D8AAAAAAADwPwAAAAAAAPA/AAAAAAAA8D8AAAAAAADwPwAAAAAAAPA/AAAAAAAA8D8AAAAAAADwPwAAAAAAAPA/AAAAAAAA8D8AAAAAAADwPwAAAAAAAPA/AAAAAAAA8D8AAAAAAADwPwAAAAAAAPA/AAAAAAAA8D8AAAAAAADwPwAAAAAAAPA/AAAAAAAA8D8AAAAAAADwPwAAAAAAAPA/AAAAAAAA8D8AAAAAAADwPwAAAAAAAPA/AAAAAAAA8D8AAAAAAADwPwAAAAAAAPA/AAAAAAAA8D8AAAAAAADwPwAAAAAAAPA/AAAAAAAA8D8AAAAAAADwPwAAAAAAAPA/AAAAAAAA8D8AAAAAAADwPwAAAAAAAPA/AAAAAAAA8D8AAAAAAADwPwAAAAAAAPA/AAAAAAAA8D8AAAAAAADwPwAAAAAAAPA/AAAAAAAA8D8AAAAAAADwPwAAAAAAAPA/AAAAAAAA8D8AAAAAAADwPwAAAAAAAPA/AAAAAAAA8D8AAAAAAADwPwAAAAAAAPA/AAAAAAAA8D8AAAAAAADwPwAAAAAAAPA/AAAAAAAA8D8AAAAAAADwPwAAAAAAAPA/AAAAAAAA8D8AAAAAAADwPwAAAAAAAPA/AAAAAAAA8D8AAAAAAADwPwAAAAAAAPA/AAAAAAAA8D8AAAAAAADwPwAAAAAAAPA/AAAAAAAA8D8AAAAAAADwPwAAAAAAAPA/AAAAAAAA8D8AAAAAAADwPwAAAAAAAPA/AAAAAAAA8D8AAAAAAADwPwAAAAAAAPA/AAAAAAAA8D8AAAAAAADwPwAAAAAAAPA/AAAAAAAA8D8AAAAAAADwPwAAAAAAAPA/AAAAAAAA8D8AAAAAAADwPwAAAAAAAPA/AAAAAAAA8D8AAAAAAADwPwAAAAAAAPA/AAAAAAAA8D8AAAAAAADwPwAAAAAAAPA/AAAAAAAA8D8AAAAAAADwPwAAAAAAAPA/AAAAAAAA8D8AAAAAAADwPwAAAAAAAPA/AAAAAAAA8D8AAAAAAADwPwAAAAAAAPA/AAAAAAAA8D8AAAAAAADwPwAAAAAAAPA/AAAAAAAA8D8AAAAAAADwPwAAAAAAAPA/AAAAAAAA8D8AAAAAAADwPwAAAAAAAPA/AAAAAAAA8D8AAAAAAADwPwAAAAAAAPA/AAAAAAAA8D8AAAAAAADwPwAAAAAAAPA/AAAAAAAA8D8AAAAAAADwPwAAAAAAAPA/AAAAAAAA8D8AAAAAAADwPwAAAAAAAPA/AAAAAAAA8D8AAAAAAADwPw==\",\"dtype\":\"float64\",\"shape\":[152]},\"index\":[0,1,2,3,4,5,6,7,8,9,10,11,12,13,14,15,16,17,18,19,20,21,22,23,24,25,26,27,28,29,30,31,32,33,34,35,36,37,38,39,40,41,42,43,44,45,46,47,48,49,50,51,52,53,54,55,56,57,58,59,60,61,62,63,64,65,66,67,68,69,70,71,72,73,74,75,76,77,78,79,80,81,82,83,84,85,86,87,88,89,90,91,92,93,94,95,96,97,98,99,100,101,102,103,104,105,106,107,108,109,110,111,112,113,114,115,116,117,118,119,120,121,122,123,124,125,126,127,128,129,130,131,132,133,134,135,136,137,138,139,140,141,142,143,144,145,146,147,148,149,150,151],\"instrument\":[0,0,0,0,0,0,0,0,0,0,0,0,0,0,0,0,0,0,0,0,0,0,0,0,0,0,0,0,0,0,0,0,0,0,0,0,0,0,0,0,0,0,0,0,0,0,0,0,0,0,0,0,0,0,0,0,0,0,0,0,0,0,0,0,0,0,0,0,0,0,0,0,0,0,0,0,0,0,0,0,0,0,0,0,0,0,0,0,0,0,0,0,0,0,0,0,0,0,0,0,0,0,0,0,0,0,0,0,0,0,0,0,0,0,0,0,0,0,0,0,0,0,0,0,0,0,0,0,0,0,0,0,0,0,0,0,0,0,0,0,0,0,0,0,0,0,0,0,0,0,0,0],\"pitch\":[59,59,59,57,57,57,59,59,59,59,59,59,59,59,64,59,60,59,59,64,64,64,62,64,62,59,64,66,66,64,62,65,64,62,65,65,67,65,67,67,63,64,67,64,65,65,65,67,65,68,67,63,65,65,67,64,64,65,67,65,65,67,70,68,68,65,67,70,67,67,67,67,65,65,68,72,68,65,68,70,67,65,67,63,65,65,67,70,72,68,63,68,70,68,65,65,65,67,68,65,65,65,70,70,70,67,65,65,72,70,70,70,65,67,70,68,72,65,65,72,70,72,65,65,65,72,70,72,70,65,68,72,70,68,72,65,65,72,70,72,65,65,68,72,70,70,70,65,65,73,70,68],\"program\":[0,0,0,0,0,0,0,0,0,0,0,0,0,0,0,0,0,0,0,0,0,0,0,0,0,0,0,0,0,0,0,0,0,0,0,0,0,0,0,0,0,0,0,0,0,0,0,0,0,0,0,0,0,0,0,0,0,0,0,0,0,0,0,0,0,0,0,0,0,0,0,0,0,0,0,0,0,0,0,0,0,0,0,0,0,0,0,0,0,0,0,0,0,0,0,0,0,0,0,0,0,0,0,0,0,0,0,0,0,0,0,0,0,0,0,0,0,0,0,0,0,0,0,0,0,0,0,0,0,0,0,0,0,0,0,0,0,0,0,0,0,0,0,0,0,0,0,0,0,0,0,0],\"start_time\":{\"__ndarray__\":\"AAAAAAAAAAAAAAAAAADoPwAAAAAAAPA/AAAAAAAAAEAAAAAAAAAGQAAAAAAAAAhAAAAAAAAAEEAAAAAAAAATQAAAAAAAABRAAAAAAAAAGEAAAAAAAAAbQAAAAAAAABxAAAAAAAAAIEAAAAAAAIAhQAAAAAAAACJAAAAAAAAAJEAAAAAAAIAlQAAAAAAAACZAAAAAAAAAKEAAAAAAAIApQAAAAAAAACpAAAAAAAAALEAAAAAAAIAtQAAAAAAAAC5AAAAAAAAAL0AAAAAAAAAwQAAAAAAAwDBAAAAAAAAAMUAAAAAAAEAxQAAAAAAAADJAAAAAAACAMkAAAAAAAMAyQAAAAAAAADNAAAAAAABAM0AAAAAAAOAzQAAAAAAAADRAAAAAAADANEAAAAAAAAA1QAAAAAAAYDVAAAAAAADgNUAAAAAAAAA2QAAAAAAAgDZAAAAAAADANkAAAAAAAAA3QAAAAAAAgDdAAAAAAADgN0AAAAAAAAA4QAAAAAAAwDhAAAAAAAAAOUAAAAAAAGA5QAAAAAAA4DlAAAAAAAAAOkAAAAAAAGA6QAAAAAAAgDpAAAAAAADgOkAAAAAAAAA7QAAAAAAAYDtAAAAAAACAO0AAAAAAAOA7QAAAAAAAADxAAAAAAADAPEAAAAAAAEA9QAAAAAAAgD1AAAAAAADgPUAAAAAAAAA+QAAAAAAAYD5AAAAAAACAPkAAAAAAAMA+QAAAAAAA4D5AAAAAAAAAP0AAAAAAAIA/QAAAAAAA4D9AAAAAAAAAQEAAAAAAAIBAQAAAAAAAsEBAAAAAAADwQEAAAAAAAABBQAAAAAAAMEFAAAAAAABAQUAAAAAAAGBBQAAAAAAAcEFAAAAAAACAQUAAAAAAAMBBQAAAAAAA8EFAAAAAAAAAQkAAAAAAAIBCQAAAAAAAsEJAAAAAAADAQkAAAAAAAPBCQAAAAAAAAENAAAAAAAAwQ0AAAAAAAEBDQAAAAAAAYENAAAAAAABwQ0AAAAAAAIBDQAAAAAAAoENAAAAAAACwQ0AAAAAAAMBDQAAAAAAA8ENAAAAAAAAAREAAAAAAAKBEQAAAAAAAsERAAAAAAADAREAAAAAAAOBEQAAAAAAA8ERAAAAAAAAARUAAAAAAACBFQAAAAAAAMEVAAAAAAABARUAAAAAAAGBFQAAAAAAAcEVAAAAAAACARUAAAAAAAKBFQAAAAAAAsEVAAAAAAADARUAAAAAAAPBFQAAAAAAAAEZAAAAAAACgRkAAAAAAALBGQAAAAAAAwEZAAAAAAADgRkAAAAAAAPBGQAAAAAAAAEdAAAAAAAAgR0AAAAAAADBHQAAAAAAAQEdAAAAAAABgR0AAAAAAAHBHQAAAAAAAgEdAAAAAAACgR0AAAAAAALBHQAAAAAAAwEdAAAAAAADgR0AAAAAAAPBHQAAAAAAAAEhAAAAAAACgSEAAAAAAALBIQAAAAAAAwEhAAAAAAADgSEAAAAAAAPBIQAAAAAAAAElAAAAAAAAgSUAAAAAAADBJQAAAAAAAQElAAAAAAABgSUAAAAAAAHBJQAAAAAAAgElAAAAAAACgSUAAAAAAALBJQAAAAAAAwElAAAAAAADgSUAAAAAAAPBJQA==\",\"dtype\":\"float64\",\"shape\":[152]},\"top\":{\"__ndarray__\":\"MzMzMzOzTUAzMzMzM7NNQDMzMzMzs01AMzMzMzOzTEAzMzMzM7NMQDMzMzMzs0xAMzMzMzOzTUAzMzMzM7NNQDMzMzMzs01AMzMzMzOzTUAzMzMzM7NNQDMzMzMzs01AMzMzMzOzTUAzMzMzM7NNQJqZmZmZGVBAMzMzMzOzTUAzMzMzMzNOQDMzMzMzs01AMzMzMzOzTUCamZmZmRlQQJqZmZmZGVBAmpmZmZkZUEAzMzMzMzNPQJqZmZmZGVBAMzMzMzMzT0AzMzMzM7NNQJqZmZmZGVBAmpmZmZmZUECamZmZmZlQQJqZmZmZGVBAMzMzMzMzT0CamZmZmVlQQJqZmZmZGVBAMzMzMzMzT0CamZmZmVlQQJqZmZmZWVBAmpmZmZnZUECamZmZmVlQQJqZmZmZ2VBAmpmZmZnZUEAzMzMzM7NPQJqZmZmZGVBAmpmZmZnZUECamZmZmRlQQJqZmZmZWVBAmpmZmZlZUECamZmZmVlQQJqZmZmZ2VBAmpmZmZlZUECamZmZmRlRQJqZmZmZ2VBAMzMzMzOzT0CamZmZmVlQQJqZmZmZWVBAmpmZmZnZUECamZmZmRlQQJqZmZmZGVBAmpmZmZlZUECamZmZmdlQQJqZmZmZWVBAmpmZmZlZUECamZmZmdlQQJqZmZmZmVFAmpmZmZkZUUCamZmZmRlRQJqZmZmZWVBAmpmZmZnZUECamZmZmZlRQJqZmZmZ2VBAmpmZmZnZUECamZmZmdlQQJqZmZmZ2VBAmpmZmZlZUECamZmZmVlQQJqZmZmZGVFAmpmZmZkZUkCamZmZmRlRQJqZmZmZWVBAmpmZmZkZUUCamZmZmZlRQJqZmZmZ2VBAmpmZmZlZUECamZmZmdlQQDMzMzMzs09AmpmZmZlZUECamZmZmVlQQJqZmZmZ2VBAmpmZmZmZUUCamZmZmRlSQJqZmZmZGVFAMzMzMzOzT0CamZmZmRlRQJqZmZmZmVFAmpmZmZkZUUCamZmZmVlQQJqZmZmZWVBAmpmZmZlZUECamZmZmdlQQJqZmZmZGVFAmpmZmZlZUECamZmZmVlQQJqZmZmZWVBAmpmZmZmZUUCamZmZmZlRQJqZmZmZmVFAmpmZmZnZUECamZmZmVlQQJqZmZmZWVBAmpmZmZkZUkCamZmZmZlRQJqZmZmZmVFAmpmZmZmZUUCamZmZmVlQQJqZmZmZ2VBAmpmZmZmZUUCamZmZmRlRQJqZmZmZGVJAmpmZmZlZUECamZmZmVlQQJqZmZmZGVJAmpmZmZmZUUCamZmZmRlSQJqZmZmZWVBAmpmZmZlZUECamZmZmVlQQJqZmZmZGVJAmpmZmZmZUUCamZmZmRlSQJqZmZmZmVFAmpmZmZlZUECamZmZmRlRQJqZmZmZGVJAmpmZmZmZUUCamZmZmRlRQJqZmZmZGVJAmpmZmZlZUECamZmZmVlQQJqZmZmZGVJAmpmZmZmZUUCamZmZmRlSQJqZmZmZWVBAmpmZmZlZUECamZmZmRlRQJqZmZmZGVJAmpmZmZmZUUCamZmZmZlRQJqZmZmZmVFAmpmZmZlZUECamZmZmVlQQJqZmZmZWVJAmpmZmZmZUUCamZmZmRlRQA==\",\"dtype\":\"float64\",\"shape\":[152]},\"velocity\":[80,80,80,80,80,80,80,80,80,80,80,80,80,80,80,80,80,80,80,80,80,80,80,80,80,80,80,80,80,80,80,80,80,80,80,80,80,80,80,80,80,80,80,80,80,80,80,80,80,80,80,80,80,80,80,80,80,80,80,80,80,80,80,80,80,80,80,80,80,80,80,80,80,80,80,80,80,80,80,80,80,80,80,80,80,80,80,80,80,80,80,80,80,80,80,80,80,80,80,80,80,80,80,80,80,80,80,80,80,80,80,80,80,80,80,80,80,80,80,80,80,80,80,80,80,80,80,80,80,80,80,80,80,80,80,80,80,80,80,80,80,80,80,80,80,80,80,80,80,80,80,80]},\"selected\":{\"id\":\"5554b314-6419-47a9-a7cf-724444742522\",\"type\":\"Selection\"},\"selection_policy\":{\"id\":\"b436a93b-4466-4fd0-b25f-2933847067d6\",\"type\":\"UnionRenderers\"}},\"id\":\"09d83c49-5d46-4161-9b15-fd7cbc126c80\",\"type\":\"ColumnDataSource\"},{\"attributes\":{\"data_source\":{\"id\":\"09d83c49-5d46-4161-9b15-fd7cbc126c80\",\"type\":\"ColumnDataSource\"},\"glyph\":{\"id\":\"0da91eac-c546-499d-9131-b36f66b283bb\",\"type\":\"Quad\"},\"hover_glyph\":null,\"muted_glyph\":null,\"nonselection_glyph\":{\"id\":\"04a791bc-3b47-4e8e-84a3-2daef353494e\",\"type\":\"Quad\"},\"selection_glyph\":null,\"view\":{\"id\":\"88e07d51-3976-443d-9f85-6e41e970c7af\",\"type\":\"CDSView\"}},\"id\":\"206cb14c-4d0b-440c-aee4-289b2e1daced\",\"type\":\"GlyphRenderer\"},{\"attributes\":{},\"id\":\"b436a93b-4466-4fd0-b25f-2933847067d6\",\"type\":\"UnionRenderers\"},{\"attributes\":{},\"id\":\"fe23949d-1a32-4057-84e2-1986ef8ec6f0\",\"type\":\"BasicTicker\"},{\"attributes\":{\"bottom\":{\"field\":\"bottom\"},\"fill_alpha\":{\"field\":\"fill_alpha\"},\"fill_color\":{\"value\":\"#d53e4f\"},\"left\":{\"field\":\"start_time\"},\"right\":{\"field\":\"end_time\"},\"top\":{\"field\":\"top\"}},\"id\":\"0da91eac-c546-499d-9131-b36f66b283bb\",\"type\":\"Quad\"},{\"attributes\":{\"below\":[{\"id\":\"c8bacfb8-538b-40f3-865f-099f4c88985a\",\"type\":\"LinearAxis\"}],\"left\":[{\"id\":\"d9f13957-b16e-4a84-833f-9ce1644a19cb\",\"type\":\"LinearAxis\"}],\"plot_height\":200,\"plot_width\":500,\"renderers\":[{\"id\":\"c8bacfb8-538b-40f3-865f-099f4c88985a\",\"type\":\"LinearAxis\"},{\"id\":\"74a717fe-c10f-4b85-9673-f5e07cd7c2c2\",\"type\":\"Grid\"},{\"id\":\"d9f13957-b16e-4a84-833f-9ce1644a19cb\",\"type\":\"LinearAxis\"},{\"id\":\"7c1a9f72-7187-4c2f-811c-b479724fcc43\",\"type\":\"Grid\"},{\"id\":\"e4b2a3fb-7df6-4082-9029-4be7f9e31ff9\",\"type\":\"BoxAnnotation\"},{\"id\":\"206cb14c-4d0b-440c-aee4-289b2e1daced\",\"type\":\"GlyphRenderer\"}],\"title\":{\"id\":\"542bfdd3-9751-4c6c-8bf1-0a07a40fafd2\",\"type\":\"Title\"},\"toolbar\":{\"id\":\"4ab3b515-08cc-4cac-a874-53d7d56d8d2e\",\"type\":\"Toolbar\"},\"x_range\":{\"id\":\"b690088c-6673-424e-a5c4-a8bb14b666e8\",\"type\":\"DataRange1d\"},\"x_scale\":{\"id\":\"d365f383-f3dc-4d66-aeda-a7bac31f95ff\",\"type\":\"LinearScale\"},\"y_range\":{\"id\":\"4e52b8a8-e8ec-464a-81d7-efc44a8fb0d6\",\"type\":\"DataRange1d\"},\"y_scale\":{\"id\":\"35948cdc-25b3-4400-896e-9f7e371a7fc5\",\"type\":\"LinearScale\"}},\"id\":\"f8fbdb9b-8641-40d0-ae06-9f81d6bbf74f\",\"subtype\":\"Figure\",\"type\":\"Plot\"}],\"root_ids\":[\"f8fbdb9b-8641-40d0-ae06-9f81d6bbf74f\"]},\"title\":\"Bokeh Application\",\"version\":\"0.13.0\"}};\n",
              "  var render_items = [{\"docid\":\"a23826bd-baf8-4ab4-93f9-0361deb4554b\",\"roots\":{\"f8fbdb9b-8641-40d0-ae06-9f81d6bbf74f\":\"6c715c13-f1ef-4d79-b696-8f99fe96f940\"}}];\n",
              "  root.Bokeh.embed.embed_items_notebook(docs_json, render_items);\n",
              "\n",
              "  }\n",
              "  if (root.Bokeh !== undefined) {\n",
              "    embed_document(root);\n",
              "  } else {\n",
              "    var attempts = 0;\n",
              "    var timer = setInterval(function(root) {\n",
              "      if (root.Bokeh !== undefined) {\n",
              "        embed_document(root);\n",
              "        clearInterval(timer);\n",
              "      }\n",
              "      attempts++;\n",
              "      if (attempts > 100) {\n",
              "        console.log(\"Bokeh: ERROR: Unable to run BokehJS code because BokehJS library is missing\")\n",
              "        clearInterval(timer);\n",
              "      }\n",
              "    }, 10, root)\n",
              "  }\n",
              "})(window);"
            ],
            "application/vnd.bokehjs_exec.v0+json": ""
          },
          "metadata": {
            "tags": [],
            "application/vnd.bokehjs_exec.v0+json": {
              "id": "f8fbdb9b-8641-40d0-ae06-9f81d6bbf74f"
            }
          }
        }
      ]
    },
    {
      "metadata": {
        "id": "hZVP4JRmTCvB",
        "colab_type": "code",
        "colab": {},
        "cellView": "form"
      },
      "cell_type": "code",
      "source": [
        "#@title Optionally download interpolation MIDI file.\n",
        "download(mel_2bar_interp, 'mel_2bar_interp.mid')"
      ],
      "execution_count": 0,
      "outputs": []
    },
    {
      "metadata": {
        "id": "mDKI2rmOk0Dv",
        "colab_type": "text"
      },
      "cell_type": "markdown",
      "source": [
        "# 16-bar Melody Models\n",
        "\n",
        "The pre-trained hierarchical model consists of a 2-layer stacked bidirectional LSTM encoder with 2048 nodes in each direction for each layer, a 16-step 2-layer LSTM \"conductor\" decoder with 1024 nodes in each layer, a 2-layer LSTM core decoder with 1024 nodes in each layer, and a Z with 512 dimensions. It was given 256 free bits, and had a fixed beta value of 0.2. After 25k steps, the final accuracy is 0.90 and KL divergence is 277 bits."
      ]
    },
    {
      "metadata": {
        "id": "9zcfdVjjk3Pp",
        "colab_type": "code",
        "colab": {
          "base_uri": "https://localhost:8080/",
          "height": 490
        },
        "cellView": "form",
        "outputId": "62d5c1b5-8e8a-4c0e-8460-3c429cfbfeb3"
      },
      "cell_type": "code",
      "source": [
        "#@title Load the pre-trained models.\n",
        "mel_16bar_models = {}\n",
        "hierdec_mel_16bar_config = configs.CONFIG_MAP['hierdec-mel_16bar']\n",
        "mel_16bar_models['hierdec_mel_16bar'] = TrainedModel(hierdec_mel_16bar_config, batch_size=4, checkpoint_dir_or_path='/content/checkpoints/mel_16bar_hierdec.ckpt')\n",
        "\n",
        "flat_mel_16bar_config = configs.CONFIG_MAP['flat-mel_16bar']\n",
        "mel_16bar_models['baseline_flat_mel_16bar'] = TrainedModel(flat_mel_16bar_config, batch_size=4, checkpoint_dir_or_path='/content/checkpoints/mel_16bar_flat.ckpt')"
      ],
      "execution_count": 20,
      "outputs": [
        {
          "output_type": "stream",
          "text": [
            "INFO:tensorflow:Building MusicVAE model with BidirectionalLstmEncoder, HierarchicalLstmDecoder, and hparams:\n",
            "{'grad_clip': 1.0, 'z_size': 512, 'decay_rate': 0.9999, 'dec_rnn_size': [1024, 1024], 'free_bits': 256, 'use_cudnn': False, 'residual_encoder': False, 'grad_norm_clip_to_zero': 10000, 'learning_rate': 0.001, 'conditional': True, 'batch_size': 4, 'min_learning_rate': 1e-05, 'sampling_schedule': 'constant', 'max_seq_len': 256, 'residual_decoder': False, 'beta_rate': 0.0, 'enc_rnn_size': [2048, 2048], 'sampling_rate': 0.0, 'max_beta': 0.2, 'dropout_keep_prob': 1.0, 'clip_mode': 'global_norm'}\n",
            "INFO:tensorflow:\n",
            "Encoder Cells (bidirectional):\n",
            "  units: [2048, 2048]\n",
            "\n",
            "INFO:tensorflow:\n",
            "Hierarchical Decoder:\n",
            "  input length: 256\n",
            "  level output lengths: [16, 16]\n",
            "\n",
            "INFO:tensorflow:\n",
            "Decoder Cells:\n",
            "  units: [1024, 1024]\n",
            "\n",
            "INFO:tensorflow:Restoring parameters from /content/checkpoints/mel_16bar_hierdec.ckpt\n",
            "INFO:tensorflow:Building MusicVAE model with BidirectionalLstmEncoder, CategoricalLstmDecoder, and hparams:\n",
            "{'grad_clip': 1.0, 'z_size': 512, 'decay_rate': 0.9999, 'dec_rnn_size': [2048, 2048, 2048], 'free_bits': 256, 'use_cudnn': False, 'residual_encoder': False, 'grad_norm_clip_to_zero': 10000, 'learning_rate': 0.001, 'conditional': True, 'batch_size': 4, 'min_learning_rate': 1e-05, 'sampling_schedule': 'constant', 'max_seq_len': 256, 'residual_decoder': False, 'beta_rate': 0.0, 'enc_rnn_size': [2048, 2048], 'sampling_rate': 0.0, 'max_beta': 0.2, 'dropout_keep_prob': 1.0, 'clip_mode': 'global_norm'}\n",
            "INFO:tensorflow:\n",
            "Encoder Cells (bidirectional):\n",
            "  units: [2048, 2048]\n",
            "\n",
            "INFO:tensorflow:\n",
            "Decoder Cells:\n",
            "  units: [2048, 2048, 2048]\n",
            "\n",
            "INFO:tensorflow:Restoring parameters from /content/checkpoints/mel_16bar_flat.ckpt\n"
          ],
          "name": "stdout"
        }
      ]
    },
    {
      "metadata": {
        "id": "l47dxtR82s0t",
        "colab_type": "text"
      },
      "cell_type": "markdown",
      "source": [
        "## Generate Samples"
      ]
    },
    {
      "metadata": {
        "id": "Bptfh7C1njpV",
        "colab_type": "code",
        "colab": {
          "base_uri": "https://localhost:8080/",
          "height": 249
        },
        "cellView": "form",
        "outputId": "3a6f64af-121f-4b45-81ad-6c9ba4f990e8"
      },
      "cell_type": "code",
      "source": [
        "#@title Generate 4 samples from the selected model prior.\n",
        "mel_sample_model = \"hierdec_mel_16bar\" #@param [\"hierdec_mel_16bar\", \"baseline_flat_mel_16bar\"]\n",
        "temperature = 0.5 #@param {type:\"slider\", min:0.1, max:1.5, step:0.1}\n",
        "mel_16_samples = mel_16bar_models[mel_sample_model].sample(n=4, length=256, temperature=temperature)\n",
        "for ns in mel_16_samples:\n",
        "  play(ns)"
      ],
      "execution_count": 21,
      "outputs": [
        {
          "output_type": "display_data",
          "data": {
            "text/plain": [
              "<IPython.core.display.HTML object>"
            ],
            "text/html": [
              "<div id=\"id_21\"> </div>"
            ]
          },
          "metadata": {
            "tags": []
          }
        },
        {
          "output_type": "display_data",
          "data": {
            "text/plain": [
              "<IPython.core.display.HTML object>"
            ],
            "text/html": [
              "<div id=\"id_22\"> </div>"
            ]
          },
          "metadata": {
            "tags": []
          }
        },
        {
          "output_type": "display_data",
          "data": {
            "text/plain": [
              "<IPython.core.display.HTML object>"
            ],
            "text/html": [
              "<div id=\"id_23\"> </div>"
            ]
          },
          "metadata": {
            "tags": []
          }
        },
        {
          "output_type": "display_data",
          "data": {
            "text/plain": [
              "<IPython.core.display.HTML object>"
            ],
            "text/html": [
              "<div id=\"id_24\"> </div>"
            ]
          },
          "metadata": {
            "tags": []
          }
        }
      ]
    },
    {
      "metadata": {
        "id": "X4sDzwq623Ei",
        "colab_type": "code",
        "colab": {},
        "cellView": "form"
      },
      "cell_type": "code",
      "source": [
        "#@title Optionally download MIDI samples.\n",
        "for i, ns in enumerate(mel_16_samples):\n",
        "  download(ns, '%s_sample_%d.mid' % (mel_sample_model, i))"
      ],
      "execution_count": 0,
      "outputs": []
    },
    {
      "metadata": {
        "id": "_ss6V0582zpU",
        "colab_type": "text"
      },
      "cell_type": "markdown",
      "source": [
        "## Generate Means"
      ]
    },
    {
      "metadata": {
        "id": "38nwpNp_lprY",
        "colab_type": "code",
        "colab": {},
        "cellView": "form"
      },
      "cell_type": "code",
      "source": [
        "#@title Option 1: Use example MIDI files for interpolation endpoints.\n",
        "input_mel_16_midi_data = [\n",
        "    tf.gfile.Open(fn).read()\n",
        "    for fn in sorted(tf.gfile.Glob('/content/midi/mel_16bar*.mid'))]"
      ],
      "execution_count": 0,
      "outputs": []
    },
    {
      "metadata": {
        "id": "z-7VjVcPUpHN",
        "colab_type": "code",
        "colab": {},
        "cellView": "form"
      },
      "cell_type": "code",
      "source": [
        "#@title Option 2: upload your own MIDI files to use for interpolation endpoints instead of those provided.\n",
        "input_mel_16_midi_data = files.upload().values() or input_mel_16_midi_data"
      ],
      "execution_count": 0,
      "outputs": []
    },
    {
      "metadata": {
        "id": "C-WE4Nq2OJxH",
        "colab_type": "code",
        "colab": {
          "base_uri": "https://localhost:8080/",
          "height": 166
        },
        "cellView": "form",
        "outputId": "474d83ee-9677-42fb-fc19-9ab2d6254854"
      },
      "cell_type": "code",
      "source": [
        "#@title Extract melodies from MIDI files. This will extract all unique 16-bar melodies using a sliding window with a stride of 1 bar.\n",
        "mel_input_seqs = [mm.midi_to_sequence_proto(m) for m in input_mel_16_midi_data]\n",
        "extracted_16_mels = []\n",
        "for ns in mel_input_seqs:\n",
        "  extracted_16_mels.extend(\n",
        "      hierdec_mel_16bar_config.data_converter.to_notesequences(\n",
        "          hierdec_mel_16bar_config.data_converter.to_tensors(ns)[1]))\n",
        "for i, ns in enumerate(extracted_16_mels):\n",
        "  print \"Melody\", i\n",
        "  play(ns)"
      ],
      "execution_count": 24,
      "outputs": [
        {
          "output_type": "stream",
          "text": [
            "Melody 0\n"
          ],
          "name": "stdout"
        },
        {
          "output_type": "display_data",
          "data": {
            "text/plain": [
              "<IPython.core.display.HTML object>"
            ],
            "text/html": [
              "<div id=\"id_25\"> </div>"
            ]
          },
          "metadata": {
            "tags": []
          }
        },
        {
          "output_type": "stream",
          "text": [
            "Melody 1\n"
          ],
          "name": "stdout"
        },
        {
          "output_type": "display_data",
          "data": {
            "text/plain": [
              "<IPython.core.display.HTML object>"
            ],
            "text/html": [
              "<div id=\"id_26\"> </div>"
            ]
          },
          "metadata": {
            "tags": []
          }
        }
      ]
    },
    {
      "metadata": {
        "id": "rONYqtlLkyS2",
        "colab_type": "code",
        "colab": {},
        "cellView": "form"
      },
      "cell_type": "code",
      "source": [
        "#@title Optionally download mean MIDI file.\n",
        "download(mel_16bar_mean, '%s_mean.mid' % mel_interp_model)"
      ],
      "execution_count": 0,
      "outputs": []
    },
    {
      "metadata": {
        "id": "0d4st_BlUBdl",
        "colab_type": "text"
      },
      "cell_type": "markdown",
      "source": [
        "#16-bar \"Trio\" Models (lead, bass, drums)\n",
        "\n",
        "We present two pre-trained models for 16-bar trios: a hierarchical model and a flat (baseline) model.\n",
        "\n",
        "The pre-trained hierarchical model consists of a 2-layer stacked bidirectional LSTM encoder with 2048 nodes in each direction for each layer, a 16-step 2-layer LSTM \"conductor\" decoder with 1024 nodes in each layer, 3 (lead, bass, drums) 2-layer LSTM core decoders with 1024 nodes in each layer, and a Z with 512 dimensions. It was given 1024 free bits, and had a fixed beta value of 0.1.  It was trained with scheduled sampling with an inverse sigmoid schedule and a rate of 1000. After 50k steps, the final accuracy is 0.82 for lead, 0.87 for bass, and 0.90 for drums, and the KL divergence is 1027 bits.\n",
        "\n",
        "The pre-trained flat model consists of a 2-layer stacked bidirectional LSTM encoder with 2048 nodes in each direction for each layer, a 3-layer LSTM decoder with 2048 nodes in each layer, and a Z with 512 dimensions. It was given 1024 free bits, and had a fixed beta value of 0.1.  It was trained with scheduled sampling with an inverse sigmoid schedule and a rate of 1000. After 50k steps, the final accuracy is 0.67 for lead, 0.66 for bass, and 0.79 for drums, and the KL divergence is 1016 bits."
      ]
    },
    {
      "metadata": {
        "id": "FDW3h0cqUERq",
        "colab_type": "code",
        "colab": {
          "base_uri": "https://localhost:8080/",
          "height": 625
        },
        "cellView": "form",
        "outputId": "84046689-3d5d-40c4-ded1-501a5b0fda6e"
      },
      "cell_type": "code",
      "source": [
        "#@title Load the pre-trained models.\n",
        "trio_models = {}\n",
        "hierdec_trio_16bar_config = configs.CONFIG_MAP['hierdec-trio_16bar']\n",
        "trio_models['hierdec_trio_16bar'] = TrainedModel(hierdec_trio_16bar_config, batch_size=4, checkpoint_dir_or_path='/content/checkpoints/trio_16bar_hierdec.ckpt')\n",
        "\n",
        "flat_trio_16bar_config = configs.CONFIG_MAP['flat-trio_16bar']\n",
        "trio_models['baseline_flat_trio_16bar'] = TrainedModel(flat_trio_16bar_config, batch_size=4, checkpoint_dir_or_path='/content/checkpoints/trio_16bar_flat.ckpt')"
      ],
      "execution_count": 27,
      "outputs": [
        {
          "output_type": "stream",
          "text": [
            "INFO:tensorflow:Building MusicVAE model with BidirectionalLstmEncoder, HierarchicalLstmDecoder, and hparams:\n",
            "{'grad_clip': 1.0, 'z_size': 512, 'decay_rate': 0.9999, 'dec_rnn_size': [1024, 1024], 'free_bits': 256, 'use_cudnn': False, 'residual_encoder': False, 'grad_norm_clip_to_zero': 10000, 'learning_rate': 0.001, 'conditional': True, 'batch_size': 4, 'min_learning_rate': 1e-05, 'sampling_schedule': 'constant', 'max_seq_len': 256, 'residual_decoder': False, 'beta_rate': 0.0, 'enc_rnn_size': [2048, 2048], 'sampling_rate': 0.0, 'max_beta': 0.2, 'dropout_keep_prob': 1.0, 'clip_mode': 'global_norm'}\n",
            "INFO:tensorflow:\n",
            "Encoder Cells (bidirectional):\n",
            "  units: [2048, 2048]\n",
            "\n",
            "INFO:tensorflow:\n",
            "Hierarchical Decoder:\n",
            "  input length: 256\n",
            "  level output lengths: [16, 16]\n",
            "\n",
            "INFO:tensorflow:\n",
            "Decoder Cells:\n",
            "  units: [1024, 1024]\n",
            "\n",
            "INFO:tensorflow:\n",
            "Decoder Cells:\n",
            "  units: [1024, 1024]\n",
            "\n",
            "INFO:tensorflow:\n",
            "Decoder Cells:\n",
            "  units: [1024, 1024]\n",
            "\n",
            "INFO:tensorflow:Restoring parameters from /content/checkpoints/trio_16bar_hierdec.ckpt\n",
            "INFO:tensorflow:Building MusicVAE model with BidirectionalLstmEncoder, MultiOutCategoricalLstmDecoder, and hparams:\n",
            "{'grad_clip': 1.0, 'z_size': 512, 'decay_rate': 0.9999, 'dec_rnn_size': [2048, 2048, 2048], 'free_bits': 0.0, 'use_cudnn': False, 'residual_encoder': False, 'grad_norm_clip_to_zero': 10000, 'learning_rate': 0.001, 'conditional': True, 'batch_size': 4, 'min_learning_rate': 1e-05, 'sampling_schedule': 'constant', 'max_seq_len': 256, 'residual_decoder': False, 'beta_rate': 0.0, 'enc_rnn_size': [2048, 2048], 'sampling_rate': 0.0, 'max_beta': 1.0, 'dropout_keep_prob': 1.0, 'clip_mode': 'global_norm'}\n",
            "INFO:tensorflow:\n",
            "Encoder Cells (bidirectional):\n",
            "  units: [2048, 2048]\n",
            "\n",
            "INFO:tensorflow:\n",
            "Decoder Cells:\n",
            "  units: [2048, 2048, 2048]\n",
            "\n",
            "INFO:tensorflow:Restoring parameters from /content/checkpoints/trio_16bar_flat.ckpt\n"
          ],
          "name": "stdout"
        }
      ]
    },
    {
      "metadata": {
        "id": "6PxW0_7Z2fvb",
        "colab_type": "text"
      },
      "cell_type": "markdown",
      "source": [
        "## Generate Samples"
      ]
    },
    {
      "metadata": {
        "id": "XKk8rGihUR6B",
        "colab_type": "code",
        "colab": {
          "base_uri": "https://localhost:8080/",
          "height": 249
        },
        "cellView": "form",
        "outputId": "a1179ebb-e060-4ca0-8906-718e69df2953"
      },
      "cell_type": "code",
      "source": [
        "#@title Generate 4 samples from the selected model prior.\n",
        "trio_sample_model = \"hierdec_trio_16bar\" #@param [\"hierdec_trio_16bar\", \"baseline_flat_trio_16bar\"]\n",
        "temperature = 0.5 #@param {type:\"slider\", min:0.1, max:1.5, step:0.1}\n",
        "\n",
        "trio_16_samples = trio_models[trio_sample_model].sample(n=4, length=256, temperature=temperature)\n",
        "for ns in trio_16_samples:\n",
        "  play(ns)"
      ],
      "execution_count": 28,
      "outputs": [
        {
          "output_type": "display_data",
          "data": {
            "text/plain": [
              "<IPython.core.display.HTML object>"
            ],
            "text/html": [
              "<div id=\"id_27\"> </div>"
            ]
          },
          "metadata": {
            "tags": []
          }
        },
        {
          "output_type": "display_data",
          "data": {
            "text/plain": [
              "<IPython.core.display.HTML object>"
            ],
            "text/html": [
              "<div id=\"id_28\"> </div>"
            ]
          },
          "metadata": {
            "tags": []
          }
        },
        {
          "output_type": "display_data",
          "data": {
            "text/plain": [
              "<IPython.core.display.HTML object>"
            ],
            "text/html": [
              "<div id=\"id_29\"> </div>"
            ]
          },
          "metadata": {
            "tags": []
          }
        },
        {
          "output_type": "display_data",
          "data": {
            "text/plain": [
              "<IPython.core.display.HTML object>"
            ],
            "text/html": [
              "<div id=\"id_30\"> </div>"
            ]
          },
          "metadata": {
            "tags": []
          }
        }
      ]
    },
    {
      "metadata": {
        "id": "fic5W7Z7m7Op",
        "colab_type": "code",
        "colab": {},
        "cellView": "form"
      },
      "cell_type": "code",
      "source": [
        "#@title Optionally download MIDI samples.\n",
        "for i, ns in enumerate(trio_16_samples):\n",
        "  download(ns, '%s_sample_%d.mid' % (trio_sample_model, i))"
      ],
      "execution_count": 0,
      "outputs": []
    },
    {
      "metadata": {
        "id": "LGIZPuZc2dIa",
        "colab_type": "text"
      },
      "cell_type": "markdown",
      "source": [
        "## Generate Means"
      ]
    },
    {
      "metadata": {
        "id": "3msZzI89UU_F",
        "colab_type": "code",
        "colab": {},
        "cellView": "form"
      },
      "cell_type": "code",
      "source": [
        "#@title Option 1: Use example MIDI files for interpolation endpoints.\n",
        "input_trio_midi_data = [\n",
        "    tf.gfile.Open(fn).read()\n",
        "    for fn in sorted(tf.gfile.Glob('/content/midi/trio_16bar*.mid'))]"
      ],
      "execution_count": 0,
      "outputs": []
    },
    {
      "metadata": {
        "id": "9ig0w2cSUs9n",
        "colab_type": "code",
        "colab": {},
        "cellView": "form"
      },
      "cell_type": "code",
      "source": [
        "#@title Option 2: Upload your own MIDI files to use for interpolation endpoints instead of those provided.\n",
        "input_trio_midi_data = files.upload().values() or input_trio_midi_data"
      ],
      "execution_count": 0,
      "outputs": []
    },
    {
      "metadata": {
        "id": "mawDY278UZKY",
        "colab_type": "code",
        "colab": {
          "base_uri": "https://localhost:8080/",
          "height": 166
        },
        "cellView": "form",
        "outputId": "88c32f9e-5955-43f0-dd6d-321d6ff7d9b3"
      },
      "cell_type": "code",
      "source": [
        "#@title Extract trios from MIDI files. This will extract all unique 16-bar trios using a sliding window with a stride of 1 bar.\n",
        "trio_input_seqs = [mm.midi_to_sequence_proto(m) for m in input_trio_midi_data]\n",
        "extracted_trios = []\n",
        "for ns in trio_input_seqs:\n",
        "  extracted_trios.extend(\n",
        "      hierdec_trio_16bar_config.data_converter.to_notesequences(\n",
        "          hierdec_trio_16bar_config.data_converter.to_tensors(ns)[1]))\n",
        "for i, ns in enumerate(extracted_trios):\n",
        "  print \"Trio\", i\n",
        "  play(ns)"
      ],
      "execution_count": 30,
      "outputs": [
        {
          "output_type": "stream",
          "text": [
            "Trio 0\n"
          ],
          "name": "stdout"
        },
        {
          "output_type": "display_data",
          "data": {
            "text/plain": [
              "<IPython.core.display.HTML object>"
            ],
            "text/html": [
              "<div id=\"id_31\"> </div>"
            ]
          },
          "metadata": {
            "tags": []
          }
        },
        {
          "output_type": "stream",
          "text": [
            "Trio 1\n"
          ],
          "name": "stdout"
        },
        {
          "output_type": "display_data",
          "data": {
            "text/plain": [
              "<IPython.core.display.HTML object>"
            ],
            "text/html": [
              "<div id=\"id_32\"> </div>"
            ]
          },
          "metadata": {
            "tags": []
          }
        }
      ]
    },
    {
      "metadata": {
        "id": "UQuTQOlZW1LX",
        "colab_type": "code",
        "colab": {
          "base_uri": "https://localhost:8080/",
          "height": 546
        },
        "cellView": "form",
        "outputId": "366463ac-3a86-4e68-b416-39763dc16bea"
      },
      "cell_type": "code",
      "source": [
        "#@title Compute the reconstructions and mean of the two trios, selected from the previous cell.\n",
        "trio_interp_model = \"hierdec_trio_16bar\" #@param [\"hierdec_trio_16bar\", \"baseline_flat_trio_16bar\"]\n",
        "\n",
        "start_trio = 0 #@param {type:\"integer\"}\n",
        "end_trio = 1 #@param {type:\"integer\"}\n",
        "start_trio = extracted_trios[start_trio]\n",
        "end_trio = extracted_trios[end_trio]\n",
        "\n",
        "temperature = 0.5 #@param {type:\"slider\", min:0.1, max:1.5, step:0.1}\n",
        "trio_16bar_mean = interpolate(trio_models[trio_interp_model], start_trio, end_trio, num_steps=3, max_length=256, individual_duration=32, temperature=temperature)"
      ],
      "execution_count": 31,
      "outputs": [
        {
          "output_type": "stream",
          "text": [
            "Start Seq Reconstruction\n"
          ],
          "name": "stdout"
        },
        {
          "output_type": "display_data",
          "data": {
            "text/plain": [
              "<IPython.core.display.HTML object>"
            ],
            "text/html": [
              "<div id=\"id_33\"> </div>"
            ]
          },
          "metadata": {
            "tags": []
          }
        },
        {
          "output_type": "stream",
          "text": [
            "End Seq Reconstruction\n"
          ],
          "name": "stdout"
        },
        {
          "output_type": "display_data",
          "data": {
            "text/plain": [
              "<IPython.core.display.HTML object>"
            ],
            "text/html": [
              "<div id=\"id_34\"> </div>"
            ]
          },
          "metadata": {
            "tags": []
          }
        },
        {
          "output_type": "stream",
          "text": [
            "Mean Sequence\n"
          ],
          "name": "stdout"
        },
        {
          "output_type": "display_data",
          "data": {
            "text/plain": [
              "<IPython.core.display.HTML object>"
            ],
            "text/html": [
              "<div id=\"id_35\"> </div>"
            ]
          },
          "metadata": {
            "tags": []
          }
        },
        {
          "output_type": "stream",
          "text": [
            "Start -> End Interpolation\n"
          ],
          "name": "stdout"
        },
        {
          "output_type": "display_data",
          "data": {
            "text/plain": [
              "<IPython.core.display.HTML object>"
            ],
            "text/html": [
              "<div id=\"id_36\"> </div>"
            ]
          },
          "metadata": {
            "tags": []
          }
        },
        {
          "output_type": "display_data",
          "data": {
            "text/html": [
              "\n",
              "    <div class=\"bk-root\">\n",
              "        <a href=\"https://bokeh.pydata.org\" target=\"_blank\" class=\"bk-logo bk-logo-small bk-logo-notebook\"></a>\n",
              "        <span id=\"98f553d4-0a06-49a1-a3b4-a97103db8048\">Loading BokehJS ...</span>\n",
              "    </div>"
            ]
          },
          "metadata": {
            "tags": []
          }
        },
        {
          "output_type": "display_data",
          "data": {
            "application/javascript": [
              "\n",
              "(function(root) {\n",
              "  function now() {\n",
              "    return new Date();\n",
              "  }\n",
              "\n",
              "  var force = true;\n",
              "\n",
              "  if (typeof (root._bokeh_onload_callbacks) === \"undefined\" || force === true) {\n",
              "    root._bokeh_onload_callbacks = [];\n",
              "    root._bokeh_is_loading = undefined;\n",
              "  }\n",
              "\n",
              "  var JS_MIME_TYPE = 'application/javascript';\n",
              "  var HTML_MIME_TYPE = 'text/html';\n",
              "  var EXEC_MIME_TYPE = 'application/vnd.bokehjs_exec.v0+json';\n",
              "  var CLASS_NAME = 'output_bokeh rendered_html';\n",
              "\n",
              "  /**\n",
              "   * Render data to the DOM node\n",
              "   */\n",
              "  function render(props, node) {\n",
              "    var script = document.createElement(\"script\");\n",
              "    node.appendChild(script);\n",
              "  }\n",
              "\n",
              "  /**\n",
              "   * Handle when an output is cleared or removed\n",
              "   */\n",
              "  function handleClearOutput(event, handle) {\n",
              "    var cell = handle.cell;\n",
              "\n",
              "    var id = cell.output_area._bokeh_element_id;\n",
              "    var server_id = cell.output_area._bokeh_server_id;\n",
              "    // Clean up Bokeh references\n",
              "    if (id != null && id in Bokeh.index) {\n",
              "      Bokeh.index[id].model.document.clear();\n",
              "      delete Bokeh.index[id];\n",
              "    }\n",
              "\n",
              "    if (server_id !== undefined) {\n",
              "      // Clean up Bokeh references\n",
              "      var cmd = \"from bokeh.io.state import curstate; print(curstate().uuid_to_server['\" + server_id + \"'].get_sessions()[0].document.roots[0]._id)\";\n",
              "      cell.notebook.kernel.execute(cmd, {\n",
              "        iopub: {\n",
              "          output: function(msg) {\n",
              "            var id = msg.content.text.trim();\n",
              "            if (id in Bokeh.index) {\n",
              "              Bokeh.index[id].model.document.clear();\n",
              "              delete Bokeh.index[id];\n",
              "            }\n",
              "          }\n",
              "        }\n",
              "      });\n",
              "      // Destroy server and session\n",
              "      var cmd = \"import bokeh.io.notebook as ion; ion.destroy_server('\" + server_id + \"')\";\n",
              "      cell.notebook.kernel.execute(cmd);\n",
              "    }\n",
              "  }\n",
              "\n",
              "  /**\n",
              "   * Handle when a new output is added\n",
              "   */\n",
              "  function handleAddOutput(event, handle) {\n",
              "    var output_area = handle.output_area;\n",
              "    var output = handle.output;\n",
              "\n",
              "    // limit handleAddOutput to display_data with EXEC_MIME_TYPE content only\n",
              "    if ((output.output_type != \"display_data\") || (!output.data.hasOwnProperty(EXEC_MIME_TYPE))) {\n",
              "      return\n",
              "    }\n",
              "\n",
              "    var toinsert = output_area.element.find(\".\" + CLASS_NAME.split(' ')[0]);\n",
              "\n",
              "    if (output.metadata[EXEC_MIME_TYPE][\"id\"] !== undefined) {\n",
              "      toinsert[toinsert.length - 1].firstChild.textContent = output.data[JS_MIME_TYPE];\n",
              "      // store reference to embed id on output_area\n",
              "      output_area._bokeh_element_id = output.metadata[EXEC_MIME_TYPE][\"id\"];\n",
              "    }\n",
              "    if (output.metadata[EXEC_MIME_TYPE][\"server_id\"] !== undefined) {\n",
              "      var bk_div = document.createElement(\"div\");\n",
              "      bk_div.innerHTML = output.data[HTML_MIME_TYPE];\n",
              "      var script_attrs = bk_div.children[0].attributes;\n",
              "      for (var i = 0; i < script_attrs.length; i++) {\n",
              "        toinsert[toinsert.length - 1].firstChild.setAttribute(script_attrs[i].name, script_attrs[i].value);\n",
              "      }\n",
              "      // store reference to server id on output_area\n",
              "      output_area._bokeh_server_id = output.metadata[EXEC_MIME_TYPE][\"server_id\"];\n",
              "    }\n",
              "  }\n",
              "\n",
              "  function register_renderer(events, OutputArea) {\n",
              "\n",
              "    function append_mime(data, metadata, element) {\n",
              "      // create a DOM node to render to\n",
              "      var toinsert = this.create_output_subarea(\n",
              "        metadata,\n",
              "        CLASS_NAME,\n",
              "        EXEC_MIME_TYPE\n",
              "      );\n",
              "      this.keyboard_manager.register_events(toinsert);\n",
              "      // Render to node\n",
              "      var props = {data: data, metadata: metadata[EXEC_MIME_TYPE]};\n",
              "      render(props, toinsert[toinsert.length - 1]);\n",
              "      element.append(toinsert);\n",
              "      return toinsert\n",
              "    }\n",
              "\n",
              "    /* Handle when an output is cleared or removed */\n",
              "    events.on('clear_output.CodeCell', handleClearOutput);\n",
              "    events.on('delete.Cell', handleClearOutput);\n",
              "\n",
              "    /* Handle when a new output is added */\n",
              "    events.on('output_added.OutputArea', handleAddOutput);\n",
              "\n",
              "    /**\n",
              "     * Register the mime type and append_mime function with output_area\n",
              "     */\n",
              "    OutputArea.prototype.register_mime_type(EXEC_MIME_TYPE, append_mime, {\n",
              "      /* Is output safe? */\n",
              "      safe: true,\n",
              "      /* Index of renderer in `output_area.display_order` */\n",
              "      index: 0\n",
              "    });\n",
              "  }\n",
              "\n",
              "  // register the mime type if in Jupyter Notebook environment and previously unregistered\n",
              "  if (root.Jupyter !== undefined) {\n",
              "    var events = require('base/js/events');\n",
              "    var OutputArea = require('notebook/js/outputarea').OutputArea;\n",
              "\n",
              "    if (OutputArea.prototype.mime_types().indexOf(EXEC_MIME_TYPE) == -1) {\n",
              "      register_renderer(events, OutputArea);\n",
              "    }\n",
              "  }\n",
              "\n",
              "  \n",
              "  if (typeof (root._bokeh_timeout) === \"undefined\" || force === true) {\n",
              "    root._bokeh_timeout = Date.now() + 5000;\n",
              "    root._bokeh_failed_load = false;\n",
              "  }\n",
              "\n",
              "  var NB_LOAD_WARNING = {'data': {'text/html':\n",
              "     \"<div style='background-color: #fdd'>\\n\"+\n",
              "     \"<p>\\n\"+\n",
              "     \"BokehJS does not appear to have successfully loaded. If loading BokehJS from CDN, this \\n\"+\n",
              "     \"may be due to a slow or bad network connection. Possible fixes:\\n\"+\n",
              "     \"</p>\\n\"+\n",
              "     \"<ul>\\n\"+\n",
              "     \"<li>re-rerun `output_notebook()` to attempt to load from CDN again, or</li>\\n\"+\n",
              "     \"<li>use INLINE resources instead, as so:</li>\\n\"+\n",
              "     \"</ul>\\n\"+\n",
              "     \"<code>\\n\"+\n",
              "     \"from bokeh.resources import INLINE\\n\"+\n",
              "     \"output_notebook(resources=INLINE)\\n\"+\n",
              "     \"</code>\\n\"+\n",
              "     \"</div>\"}};\n",
              "\n",
              "  function display_loaded() {\n",
              "    var el = document.getElementById(\"98f553d4-0a06-49a1-a3b4-a97103db8048\");\n",
              "    if (el != null) {\n",
              "      el.textContent = \"BokehJS is loading...\";\n",
              "    }\n",
              "    if (root.Bokeh !== undefined) {\n",
              "      if (el != null) {\n",
              "        el.textContent = \"BokehJS \" + root.Bokeh.version + \" successfully loaded.\";\n",
              "      }\n",
              "    } else if (Date.now() < root._bokeh_timeout) {\n",
              "      setTimeout(display_loaded, 100)\n",
              "    }\n",
              "  }\n",
              "\n",
              "\n",
              "  function run_callbacks() {\n",
              "    try {\n",
              "      root._bokeh_onload_callbacks.forEach(function(callback) { callback() });\n",
              "    }\n",
              "    finally {\n",
              "      delete root._bokeh_onload_callbacks\n",
              "    }\n",
              "    console.info(\"Bokeh: all callbacks have finished\");\n",
              "  }\n",
              "\n",
              "  function load_libs(js_urls, callback) {\n",
              "    root._bokeh_onload_callbacks.push(callback);\n",
              "    if (root._bokeh_is_loading > 0) {\n",
              "      console.log(\"Bokeh: BokehJS is being loaded, scheduling callback at\", now());\n",
              "      return null;\n",
              "    }\n",
              "    if (js_urls == null || js_urls.length === 0) {\n",
              "      run_callbacks();\n",
              "      return null;\n",
              "    }\n",
              "    console.log(\"Bokeh: BokehJS not loaded, scheduling load and callback at\", now());\n",
              "    root._bokeh_is_loading = js_urls.length;\n",
              "    for (var i = 0; i < js_urls.length; i++) {\n",
              "      var url = js_urls[i];\n",
              "      var s = document.createElement('script');\n",
              "      s.src = url;\n",
              "      s.async = false;\n",
              "      s.onreadystatechange = s.onload = function() {\n",
              "        root._bokeh_is_loading--;\n",
              "        if (root._bokeh_is_loading === 0) {\n",
              "          console.log(\"Bokeh: all BokehJS libraries loaded\");\n",
              "          run_callbacks()\n",
              "        }\n",
              "      };\n",
              "      s.onerror = function() {\n",
              "        console.warn(\"failed to load library \" + url);\n",
              "      };\n",
              "      console.log(\"Bokeh: injecting script tag for BokehJS library: \", url);\n",
              "      document.getElementsByTagName(\"head\")[0].appendChild(s);\n",
              "    }\n",
              "  };var element = document.getElementById(\"98f553d4-0a06-49a1-a3b4-a97103db8048\");\n",
              "  if (element == null) {\n",
              "    console.log(\"Bokeh: ERROR: autoload.js configured with elementid '98f553d4-0a06-49a1-a3b4-a97103db8048' but no matching script tag was found. \")\n",
              "    return false;\n",
              "  }\n",
              "\n",
              "  var js_urls = [\"https://cdn.pydata.org/bokeh/release/bokeh-0.13.0.min.js\", \"https://cdn.pydata.org/bokeh/release/bokeh-widgets-0.13.0.min.js\", \"https://cdn.pydata.org/bokeh/release/bokeh-tables-0.13.0.min.js\", \"https://cdn.pydata.org/bokeh/release/bokeh-gl-0.13.0.min.js\"];\n",
              "\n",
              "  var inline_js = [\n",
              "    function(Bokeh) {\n",
              "      Bokeh.set_log_level(\"info\");\n",
              "    },\n",
              "    \n",
              "    function(Bokeh) {\n",
              "      \n",
              "    },\n",
              "    function(Bokeh) {\n",
              "      console.log(\"Bokeh: injecting CSS: https://cdn.pydata.org/bokeh/release/bokeh-0.13.0.min.css\");\n",
              "      Bokeh.embed.inject_css(\"https://cdn.pydata.org/bokeh/release/bokeh-0.13.0.min.css\");\n",
              "      console.log(\"Bokeh: injecting CSS: https://cdn.pydata.org/bokeh/release/bokeh-widgets-0.13.0.min.css\");\n",
              "      Bokeh.embed.inject_css(\"https://cdn.pydata.org/bokeh/release/bokeh-widgets-0.13.0.min.css\");\n",
              "      console.log(\"Bokeh: injecting CSS: https://cdn.pydata.org/bokeh/release/bokeh-tables-0.13.0.min.css\");\n",
              "      Bokeh.embed.inject_css(\"https://cdn.pydata.org/bokeh/release/bokeh-tables-0.13.0.min.css\");\n",
              "    }\n",
              "  ];\n",
              "\n",
              "  function run_inline_js() {\n",
              "    \n",
              "    if ((root.Bokeh !== undefined) || (force === true)) {\n",
              "      for (var i = 0; i < inline_js.length; i++) {\n",
              "        inline_js[i].call(root, root.Bokeh);\n",
              "      }if (force === true) {\n",
              "        display_loaded();\n",
              "      }} else if (Date.now() < root._bokeh_timeout) {\n",
              "      setTimeout(run_inline_js, 100);\n",
              "    } else if (!root._bokeh_failed_load) {\n",
              "      console.log(\"Bokeh: BokehJS failed to load within specified timeout.\");\n",
              "      root._bokeh_failed_load = true;\n",
              "    } else if (force !== true) {\n",
              "      var cell = $(document.getElementById(\"98f553d4-0a06-49a1-a3b4-a97103db8048\")).parents('.cell').data().cell;\n",
              "      cell.output_area.append_execute_result(NB_LOAD_WARNING)\n",
              "    }\n",
              "\n",
              "  }\n",
              "\n",
              "  if (root._bokeh_is_loading === 0) {\n",
              "    console.log(\"Bokeh: BokehJS loaded, going straight to plotting\");\n",
              "    run_inline_js();\n",
              "  } else {\n",
              "    load_libs(js_urls, function() {\n",
              "      console.log(\"Bokeh: BokehJS plotting callback run at\", now());\n",
              "      run_inline_js();\n",
              "    });\n",
              "  }\n",
              "}(window));"
            ],
            "application/vnd.bokehjs_load.v0+json": "\n(function(root) {\n  function now() {\n    return new Date();\n  }\n\n  var force = true;\n\n  if (typeof (root._bokeh_onload_callbacks) === \"undefined\" || force === true) {\n    root._bokeh_onload_callbacks = [];\n    root._bokeh_is_loading = undefined;\n  }\n\n  \n\n  \n  if (typeof (root._bokeh_timeout) === \"undefined\" || force === true) {\n    root._bokeh_timeout = Date.now() + 5000;\n    root._bokeh_failed_load = false;\n  }\n\n  var NB_LOAD_WARNING = {'data': {'text/html':\n     \"<div style='background-color: #fdd'>\\n\"+\n     \"<p>\\n\"+\n     \"BokehJS does not appear to have successfully loaded. If loading BokehJS from CDN, this \\n\"+\n     \"may be due to a slow or bad network connection. Possible fixes:\\n\"+\n     \"</p>\\n\"+\n     \"<ul>\\n\"+\n     \"<li>re-rerun `output_notebook()` to attempt to load from CDN again, or</li>\\n\"+\n     \"<li>use INLINE resources instead, as so:</li>\\n\"+\n     \"</ul>\\n\"+\n     \"<code>\\n\"+\n     \"from bokeh.resources import INLINE\\n\"+\n     \"output_notebook(resources=INLINE)\\n\"+\n     \"</code>\\n\"+\n     \"</div>\"}};\n\n  function display_loaded() {\n    var el = document.getElementById(\"98f553d4-0a06-49a1-a3b4-a97103db8048\");\n    if (el != null) {\n      el.textContent = \"BokehJS is loading...\";\n    }\n    if (root.Bokeh !== undefined) {\n      if (el != null) {\n        el.textContent = \"BokehJS \" + root.Bokeh.version + \" successfully loaded.\";\n      }\n    } else if (Date.now() < root._bokeh_timeout) {\n      setTimeout(display_loaded, 100)\n    }\n  }\n\n\n  function run_callbacks() {\n    try {\n      root._bokeh_onload_callbacks.forEach(function(callback) { callback() });\n    }\n    finally {\n      delete root._bokeh_onload_callbacks\n    }\n    console.info(\"Bokeh: all callbacks have finished\");\n  }\n\n  function load_libs(js_urls, callback) {\n    root._bokeh_onload_callbacks.push(callback);\n    if (root._bokeh_is_loading > 0) {\n      console.log(\"Bokeh: BokehJS is being loaded, scheduling callback at\", now());\n      return null;\n    }\n    if (js_urls == null || js_urls.length === 0) {\n      run_callbacks();\n      return null;\n    }\n    console.log(\"Bokeh: BokehJS not loaded, scheduling load and callback at\", now());\n    root._bokeh_is_loading = js_urls.length;\n    for (var i = 0; i < js_urls.length; i++) {\n      var url = js_urls[i];\n      var s = document.createElement('script');\n      s.src = url;\n      s.async = false;\n      s.onreadystatechange = s.onload = function() {\n        root._bokeh_is_loading--;\n        if (root._bokeh_is_loading === 0) {\n          console.log(\"Bokeh: all BokehJS libraries loaded\");\n          run_callbacks()\n        }\n      };\n      s.onerror = function() {\n        console.warn(\"failed to load library \" + url);\n      };\n      console.log(\"Bokeh: injecting script tag for BokehJS library: \", url);\n      document.getElementsByTagName(\"head\")[0].appendChild(s);\n    }\n  };var element = document.getElementById(\"98f553d4-0a06-49a1-a3b4-a97103db8048\");\n  if (element == null) {\n    console.log(\"Bokeh: ERROR: autoload.js configured with elementid '98f553d4-0a06-49a1-a3b4-a97103db8048' but no matching script tag was found. \")\n    return false;\n  }\n\n  var js_urls = [\"https://cdn.pydata.org/bokeh/release/bokeh-0.13.0.min.js\", \"https://cdn.pydata.org/bokeh/release/bokeh-widgets-0.13.0.min.js\", \"https://cdn.pydata.org/bokeh/release/bokeh-tables-0.13.0.min.js\", \"https://cdn.pydata.org/bokeh/release/bokeh-gl-0.13.0.min.js\"];\n\n  var inline_js = [\n    function(Bokeh) {\n      Bokeh.set_log_level(\"info\");\n    },\n    \n    function(Bokeh) {\n      \n    },\n    function(Bokeh) {\n      console.log(\"Bokeh: injecting CSS: https://cdn.pydata.org/bokeh/release/bokeh-0.13.0.min.css\");\n      Bokeh.embed.inject_css(\"https://cdn.pydata.org/bokeh/release/bokeh-0.13.0.min.css\");\n      console.log(\"Bokeh: injecting CSS: https://cdn.pydata.org/bokeh/release/bokeh-widgets-0.13.0.min.css\");\n      Bokeh.embed.inject_css(\"https://cdn.pydata.org/bokeh/release/bokeh-widgets-0.13.0.min.css\");\n      console.log(\"Bokeh: injecting CSS: https://cdn.pydata.org/bokeh/release/bokeh-tables-0.13.0.min.css\");\n      Bokeh.embed.inject_css(\"https://cdn.pydata.org/bokeh/release/bokeh-tables-0.13.0.min.css\");\n    }\n  ];\n\n  function run_inline_js() {\n    \n    if ((root.Bokeh !== undefined) || (force === true)) {\n      for (var i = 0; i < inline_js.length; i++) {\n        inline_js[i].call(root, root.Bokeh);\n      }if (force === true) {\n        display_loaded();\n      }} else if (Date.now() < root._bokeh_timeout) {\n      setTimeout(run_inline_js, 100);\n    } else if (!root._bokeh_failed_load) {\n      console.log(\"Bokeh: BokehJS failed to load within specified timeout.\");\n      root._bokeh_failed_load = true;\n    } else if (force !== true) {\n      var cell = $(document.getElementById(\"98f553d4-0a06-49a1-a3b4-a97103db8048\")).parents('.cell').data().cell;\n      cell.output_area.append_execute_result(NB_LOAD_WARNING)\n    }\n\n  }\n\n  if (root._bokeh_is_loading === 0) {\n    console.log(\"Bokeh: BokehJS loaded, going straight to plotting\");\n    run_inline_js();\n  } else {\n    load_libs(js_urls, function() {\n      console.log(\"Bokeh: BokehJS plotting callback run at\", now());\n      run_inline_js();\n    });\n  }\n}(window));"
          },
          "metadata": {
            "tags": []
          }
        },
        {
          "output_type": "display_data",
          "data": {
            "text/html": [
              "\n",
              "\n",
              "\n",
              "\n",
              "\n",
              "\n",
              "  <div class=\"bk-root\" id=\"0e92fc8e-6df9-4362-b8eb-b5801f7b4386\"></div>\n"
            ]
          },
          "metadata": {
            "tags": []
          }
        },
        {
          "output_type": "display_data",
          "data": {
            "application/javascript": [
              "(function(root) {\n",
              "  function embed_document(root) {\n",
              "    \n",
              "  var docs_json = {\"18162b80-af10-4e37-a118-e3f1fb49c142\":{\"roots\":{\"references\":[{\"attributes\":{\"source\":{\"id\":\"97b4673a-2813-4493-8dbd-f2c55505b681\",\"type\":\"ColumnDataSource\"}},\"id\":\"802d1585-93da-424d-b6fe-4e57d9c827e7\",\"type\":\"CDSView\"},{\"attributes\":{\"bottom\":{\"field\":\"bottom\"},\"fill_alpha\":{\"field\":\"fill_alpha\"},\"fill_color\":{\"value\":\"#d53e4f\"},\"left\":{\"field\":\"start_time\"},\"right\":{\"field\":\"end_time\"},\"top\":{\"field\":\"top\"}},\"id\":\"a795bf23-f23f-4f04-9331-35a39087966e\",\"type\":\"Quad\"},{\"attributes\":{},\"id\":\"d79d3e55-35c1-4a98-abef-d29f4681b5fb\",\"type\":\"UnionRenderers\"},{\"attributes\":{\"interval\":12},\"id\":\"cab9d21a-77a3-40a4-94c8-4a528aa10199\",\"type\":\"SingleIntervalTicker\"},{\"attributes\":{},\"id\":\"657aa127-7201-4e0e-8b76-e6dfa0a5e243\",\"type\":\"BasicTicker\"},{\"attributes\":{\"bottom\":{\"field\":\"bottom\"},\"fill_alpha\":{\"value\":0.1},\"fill_color\":{\"value\":\"#1f77b4\"},\"left\":{\"field\":\"start_time\"},\"line_alpha\":{\"value\":0.1},\"line_color\":{\"value\":\"#1f77b4\"},\"right\":{\"field\":\"end_time\"},\"top\":{\"field\":\"top\"}},\"id\":\"b3f5b39e-f288-45ed-94e6-00bf97f2fc9a\",\"type\":\"Quad\"},{\"attributes\":{\"bottom\":{\"field\":\"bottom\"},\"fill_alpha\":{\"value\":0.1},\"fill_color\":{\"value\":\"#1f77b4\"},\"left\":{\"field\":\"start_time\"},\"line_alpha\":{\"value\":0.1},\"line_color\":{\"value\":\"#1f77b4\"},\"right\":{\"field\":\"end_time\"},\"top\":{\"field\":\"top\"}},\"id\":\"197cb978-fbf1-466e-a3ca-bda17e88b427\",\"type\":\"Quad\"},{\"attributes\":{\"callback\":null},\"id\":\"ea3a2a39-20f4-45ed-a172-805a723c33f8\",\"type\":\"DataRange1d\"},{\"attributes\":{\"axis_label\":\"pitch (MIDI)\",\"formatter\":{\"id\":\"5e01e864-fb3d-4b1a-b6be-882394c857d8\",\"type\":\"BasicTickFormatter\"},\"plot\":{\"id\":\"f0d4ac55-ea04-4eea-8013-5fe0c5561bc9\",\"subtype\":\"Figure\",\"type\":\"Plot\"},\"ticker\":{\"id\":\"f68ebac7-8100-4b48-8e03-d5012221ad1e\",\"type\":\"SingleIntervalTicker\"}},\"id\":\"be8c3660-3dab-462a-a368-150e2ad9e500\",\"type\":\"LinearAxis\"},{\"attributes\":{\"bottom_units\":\"screen\",\"fill_alpha\":{\"value\":0.5},\"fill_color\":{\"value\":\"lightgrey\"},\"left_units\":\"screen\",\"level\":\"overlay\",\"line_alpha\":{\"value\":1.0},\"line_color\":{\"value\":\"black\"},\"line_dash\":[4,4],\"line_width\":{\"value\":2},\"plot\":null,\"render_mode\":\"css\",\"right_units\":\"screen\",\"top_units\":\"screen\"},\"id\":\"776d492a-1978-45d3-85fa-1efc707af448\",\"type\":\"BoxAnnotation\"},{\"attributes\":{\"source\":{\"id\":\"99a8031a-1c2e-45a8-959b-ec674f13139c\",\"type\":\"ColumnDataSource\"}},\"id\":\"63197f34-05e2-4b4a-b4a1-e32e0b1520aa\",\"type\":\"CDSView\"},{\"attributes\":{\"active_drag\":\"auto\",\"active_inspect\":\"auto\",\"active_multi\":null,\"active_scroll\":\"auto\",\"active_tap\":\"auto\",\"tools\":[{\"id\":\"7e9a1fe2-b8d3-4012-bd7e-08c5edc42c38\",\"type\":\"HoverTool\"},{\"id\":\"927ced17-93f4-4243-b25d-7c9b5cee160c\",\"type\":\"PanTool\"},{\"id\":\"f3fbb29d-1b6e-4760-bbb1-8e9a3aa5b6a0\",\"type\":\"BoxZoomTool\"},{\"id\":\"259b0fa4-cc3e-474b-b592-18ec5cd26e43\",\"type\":\"ResetTool\"},{\"id\":\"914fb5aa-eefa-44d2-bb0e-3d973114ef07\",\"type\":\"SaveTool\"}]},\"id\":\"a8c033ee-d36d-4b67-80ff-17db7cc304c9\",\"type\":\"Toolbar\"},{\"attributes\":{},\"id\":\"6060d0ac-c740-4775-9c0f-a213bf73f4e6\",\"type\":\"Selection\"},{\"attributes\":{\"callback\":null,\"data\":{\"bottom\":{\"__ndarray__\":\"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\",\"dtype\":\"float64\",\"shape\":[257]},\"duration\":{\"__ndarray__\":\"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\",\"dtype\":\"float64\",\"shape\":[257]},\"end_time\":{\"__ndarray__\":\"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\",\"dtype\":\"float64\",\"shape\":[257]},\"fill_alpha\":{\"__ndarray__\":\"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\",\"dtype\":\"float64\",\"shape\":[257]},\"index\":[125,126,127,128,129,130,131,132,133,134,135,136,137,138,139,140,141,142,143,144,145,146,147,148,149,150,151,152,153,154,155,156,157,158,159,160,161,162,163,164,165,166,167,168,169,170,171,172,173,174,175,176,177,178,179,180,181,182,183,184,185,186,187,188,189,190,191,192,193,194,195,196,197,198,199,200,201,202,203,204,205,206,207,208,209,210,211,212,213,214,215,216,217,218,219,220,221,222,223,224,626,627,628,629,630,631,632,633,634,635,636,637,638,639,640,641,642,643,644,645,646,647,648,649,650,651,652,653,654,655,656,657,658,659,660,661,662,663,664,665,666,667,668,669,670,671,672,673,674,675,676,677,678,679,680,681,682,683,684,685,686,687,688,689,690,691,692,693,694,695,696,697,698,699,700,701,702,703,704,705,706,707,708,966,967,968,969,970,971,972,973,974,975,976,977,978,979,980,981,982,983,984,985,986,987,988,989,990,991,992,993,994,995,996,997,998,999,1000,1001,1002,1003,1004,1005,1006,1007,1008,1009,1010,1011,1012,1013,1014,1015,1016,1017,1018,1019,1020,1021,1022,1023,1024,1025,1026,1027,1028,1029,1030,1031,1032,1033,1034,1035,1036,1037,1038,1039],\"instrument\":[1,1,1,1,1,1,1,1,1,1,1,1,1,1,1,1,1,1,1,1,1,1,1,1,1,1,1,1,1,1,1,1,1,1,1,1,1,1,1,1,1,1,1,1,1,1,1,1,1,1,1,1,1,1,1,1,1,1,1,1,1,1,1,1,1,1,1,1,1,1,1,1,1,1,1,1,1,1,1,1,1,1,1,1,1,1,1,1,1,1,1,1,1,1,1,1,1,1,1,1,1,1,1,1,1,1,1,1,1,1,1,1,1,1,1,1,1,1,1,1,1,1,1,1,1,1,1,1,1,1,1,1,1,1,1,1,1,1,1,1,1,1,1,1,1,1,1,1,1,1,1,1,1,1,1,1,1,1,1,1,1,1,1,1,1,1,1,1,1,1,1,1,1,1,1,1,1,1,1,1,1,1,1,1,1,1,1,1,1,1,1,1,1,1,1,1,1,1,1,1,1,1,1,1,1,1,1,1,1,1,1,1,1,1,1,1,1,1,1,1,1,1,1,1,1,1,1,1,1,1,1,1,1,1,1,1,1,1,1,1,1,1,1,1,1,1,1,1,1,1,1,1,1,1,1,1,1],\"pitch\":[30,42,30,37,30,37,42,32,44,32,37,37,30,42,30,30,37,37,35,47,35,37,49,37,30,42,30,30,30,37,37,35,47,35,35,37,49,37,30,42,30,30,32,34,37,37,37,37,37,30,42,30,30,30,37,40,42,42,42,30,30,32,35,30,42,30,30,42,37,35,47,42,35,37,49,37,30,42,42,30,37,30,42,30,30,42,37,30,42,30,30,37,40,35,35,38,40,28,34,28,37,41,46,44,41,44,37,37,37,49,37,34,41,34,46,41,34,39,41,42,46,34,37,41,46,42,46,42,49,42,43,37,37,37,42,42,42,41,39,38,37,37,37,37,41,41,34,37,38,39,40,41,34,37,34,41,37,42,46,42,35,37,38,39,46,39,37,44,37,42,46,42,35,42,35,34,34,38,39,39,39,39,39,41,41,44,45,41,46,41,49,46,45,46,44,41,46,48,49,51,49,41,44,46,41,46,44,41,38,46,44,43,41,41,43,41,46,41,34,41,43,41,44,41,49,49,48,48,41,44,41,46,41,39,46,46,39,39,45,44,46,44,48,44,46,46,51,46,39,44,44,39,39,37,36,34,39],\"program\":[33,33,33,33,33,33,33,33,33,33,33,33,33,33,33,33,33,33,33,33,33,33,33,33,33,33,33,33,33,33,33,33,33,33,33,33,33,33,33,33,33,33,33,33,33,33,33,33,33,33,33,33,33,33,33,33,33,33,33,33,33,33,33,33,33,33,33,33,33,33,33,33,33,33,33,33,33,33,33,33,33,33,33,33,33,33,33,33,33,33,33,33,33,33,33,33,33,33,33,33,33,33,33,33,33,33,33,33,33,33,33,33,33,33,33,33,33,33,33,33,33,33,33,33,33,33,33,33,33,33,33,33,33,33,33,33,33,33,33,33,33,33,33,33,33,33,33,33,33,33,33,33,33,33,33,33,33,33,33,33,33,33,33,33,33,33,33,33,33,33,33,33,33,33,33,33,33,33,33,33,33,33,33,33,33,33,33,33,33,33,33,33,33,33,33,33,33,33,33,33,33,33,33,33,33,33,33,33,33,33,33,33,33,33,33,33,33,33,33,33,33,33,33,33,33,33,33,33,33,33,33,33,33,33,33,33,33,33,33,33,33,33,33,33,33,33,33,33,33,33,33,33,33,33,33,33,33],\"start_time\":{\"__ndarray__\":\"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\",\"dtype\":\"float64\",\"shape\":[257]},\"top\":{\"__ndarray__\":\"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\",\"dtype\":\"float64\",\"shape\":[257]},\"velocity\":[80,80,80,80,80,80,80,80,80,80,80,80,80,80,80,80,80,80,80,80,80,80,80,80,80,80,80,80,80,80,80,80,80,80,80,80,80,80,80,80,80,80,80,80,80,80,80,80,80,80,80,80,80,80,80,80,80,80,80,80,80,80,80,80,80,80,80,80,80,80,80,80,80,80,80,80,80,80,80,80,80,80,80,80,80,80,80,80,80,80,80,80,80,80,80,80,80,80,80,80,80,80,80,80,80,80,80,80,80,80,80,80,80,80,80,80,80,80,80,80,80,80,80,80,80,80,80,80,80,80,80,80,80,80,80,80,80,80,80,80,80,80,80,80,80,80,80,80,80,80,80,80,80,80,80,80,80,80,80,80,80,80,80,80,80,80,80,80,80,80,80,80,80,80,80,80,80,80,80,80,80,80,80,80,80,80,80,80,80,80,80,80,80,80,80,80,80,80,80,80,80,80,80,80,80,80,80,80,80,80,80,80,80,80,80,80,80,80,80,80,80,80,80,80,80,80,80,80,80,80,80,80,80,80,80,80,80,80,80,80,80,80,80,80,80,80,80,80,80,80,80,80,80,80,80,80,80]},\"selected\":{\"id\":\"00f6f419-536e-48d3-811f-02c3eaf1472e\",\"type\":\"Selection\"},\"selection_policy\":{\"id\":\"15ab0d75-b6e9-4685-9eac-663d3366a245\",\"type\":\"UnionRenderers\"}},\"id\":\"99a8031a-1c2e-45a8-959b-ec674f13139c\",\"type\":\"ColumnDataSource\"},{\"attributes\":{},\"id\":\"98f4614d-32e2-4005-8cfc-351bbdf5dbac\",\"type\":\"BasicTickFormatter\"},{\"attributes\":{},\"id\":\"00f6f419-536e-48d3-811f-02c3eaf1472e\",\"type\":\"Selection\"},{\"attributes\":{},\"id\":\"11fe8b82-0caf-492b-86a9-83f41708cdfe\",\"type\":\"LinearScale\"},{\"attributes\":{\"bottom\":{\"field\":\"bottom\"},\"fill_alpha\":{\"field\":\"fill_alpha\"},\"fill_color\":{\"value\":\"#3288bd\"},\"left\":{\"field\":\"start_time\"},\"right\":{\"field\":\"end_time\"},\"top\":{\"field\":\"top\"}},\"id\":\"6f8878dc-6a15-412c-b416-661a309a17c1\",\"type\":\"Quad\"},{\"attributes\":{\"callback\":null},\"id\":\"57647725-2989-448f-8f48-6f259a65ad18\",\"type\":\"DataRange1d\"},{\"attributes\":{\"bottom\":{\"field\":\"bottom\"},\"fill_alpha\":{\"field\":\"fill_alpha\"},\"fill_color\":{\"value\":\"#f46d43\"},\"left\":{\"field\":\"start_time\"},\"right\":{\"field\":\"end_time\"},\"top\":{\"field\":\"top\"}},\"id\":\"650766fb-171e-4d24-a489-a3efa5414378\",\"type\":\"Quad\"},{\"attributes\":{},\"id\":\"927ced17-93f4-4243-b25d-7c9b5cee160c\",\"type\":\"PanTool\"},{\"attributes\":{\"callback\":null,\"data\":{\"bottom\":{\"__ndarray__\":\"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\",\"dtype\":\"float64\",\"shape\":[642]},\"duration\":{\"__ndarray__\":\"AAAAAAAAwD8AAAAAAADAPwAAAAAAAMA/AAAAAAAAwD8AAAAAAADAPwAAAAAAAMA/AAAAAAAAwD8AAAAAAADAPwAAAAAAAMA/AAAAAAAAwD8AAAAAAADAPwAAAAAAAMA/AAAAAAAAwD8AAAAAAADAPwAAAAAAAMA/AAAAAAAAwD8AAAAAAADAPwAAAAAAAMA/AAAAAAAAwD8AAAAAAADAPwAAAAAAAMA/AAAAAAAAwD8AAAAAAADAPwAAAAAAAMA/AAAAAAAAwD8AAAAAAADAPwAAAAAAAMA/AAAAAAAAwD8AAAAAAADAPwAAAAAAAMA/AAAAAAAAwD8AAAAAAADAPwAAAAAAAMA/AAAAAAAAwD8AAAAAAADAPwAAAAAAAMA/AAAAAAAAwD8AAAAAAADAPwAAAAAAAMA/AAAAAAAAwD8AAAAAAADAPwAAAAAAAMA/AAAAAAAAwD8AAAAAAADAPwAAAAAAAMA/AAAAAAAAwD8AAAAAAADAPwAAAAAAAMA/AAAAAAAAwD8AAAAAAADAPwAAAAAAAMA/AAAAAAAAwD8AAAAAAADAPwAAAAAAAMA/AAAAAAAAwD8AAAAAAADAPwAAAAAAAMA/AAAAAAAAwD8AAAAAAADAPwAAAAAAAMA/AAAAAAAAwD8AAAAAAADAPwAAAAAAAMA/AAAAAAAAwD8AAAAAAADAPwAAAAAAAMA/AAAAAAAAwD8AAAAAAADAPwAAAAAAAMA/AAAAAAAAwD8AAAAAAADAPwAAAAAAAMA/AAAAAAAAwD8AAAAAAADAPwAAAAAAAMA/AAAAAAAAwD8AAAAAAADAPwAAAAAAAMA/AAAAAAAAwD8AAAAAAADAPwAAAAAAAMA/AAAAAAAAwD8AAAAAAADAPwAAAAAAAMA/AAAAAAAAwD8AAAAAAADAPwAAAAAAAMA/AAAAAAAAwD8AAAAAAADAPwAAAAAAAMA/AAAAAAAAwD8AAAAAAADAPwAAAAAAAMA/AAAAAAAAwD8AAAAAAADAPwAAAAAAAMA/AAAAAAAAwD8AAAAAAADAPwAAAAAAAMA/AAAAAAAAwD8AAAAAAADAPwAAAAAAAMA/AAAAAAAAwD8AAAAAAADAPwAAAAAAAMA/AAAAAAAAwD8AAAAAAADAPwAAAAAAAMA/AAAAAAAAwD8AAAAAAADAPwAAAAAAAMA/AAAAAAAAwD8AAAAAAADAPwAAAAAAAMA/AAAAAAAAwD8AAAAAAADAPwAAAAAAAMA/AAAAAAAAwD8AAAAAAADAPwAAAAAAAMA/AAAAAAAAwD8AAAAAAADAPwAAAAAAAMA/AAAAAAAAwD8AAAAAAADAPwAAAAAAAMA/AAAAAAAAwD8AAAAAAADAPwAAAAAAAMA/AAAAAAAAwD8AAAAAAADAPwAAAAAAAMA/AAAAAAAAwD8AAAAAAADAPwAAAAAAAMA/AAAAAAAAwD8AAAAAAADAPwAAAAAAAMA/AAAAAAAAwD8AAAAAAADAPwAAAAAAAMA/AAAAAAAAwD8AAAAAAADAPwAAAAAAAMA/AAAAAAAAwD8AAAAAAADAPwAAAAAAAMA/AAAAAAAAwD8AAAAAAADAPwAAAAAAAMA/AAAAAAAAwD8AAAAAAADAPwAAAAAAAMA/AAAAAAAAwD8AAAAAAADAPwAAAAAAAMA/AAAAAAAAwD8AAAAAAADAPwAAAAAAAMA/AAAAAAAAwD8AAAAAAADAPwAAAAAAAMA/AAAAAAAAwD8AAAAAAADAPwAAAAAAAMA/AAAAAAAAwD8AAAAAAADAPwAAAAAAAMA/AAAAAAAAwD8AAAAAAADAPwAAAAAAAMA/AAAAAAAAwD8AAAAAAADAPwAAAAAAAMA/AAAAAAAAwD8AAAAAAADAPwAAAAAAAMA/AAAAAAAAwD8AAAAAAADAPwAAAAAAAMA/AAAAAAAAwD8AAAAAAADAPwAAAAAAAMA/AAAAAAAAwD8AAAAAAADAPwAAAAAAAMA/AAAAAAAAwD8AAAAAAADAPwAAAAAAAMA/AAAAAAAAwD8AAAAAAADAPwAAAAAAAMA/AAAAAAAAwD8AAAAAAADAPwAAAAAAAMA/AAAAAAAAwD8AAAAAAADAPwAAAAAAAMA/AAAAAAAAwD8AAAAAAADAPwAAAAAAAMA/AAAAAAAAwD8AAAAAAADAPwAAAAAAAMA/AAAAAAAAwD8AAAAAAADAPwAAAAAAAMA/AAAAAAAAwD8AAAAAAADAPwAAAAAAAMA/AAAAAAAAwD8AAAAAAADAPwAAAAAAAMA/AAAAAAAAwD8AAAAAAADAPwAAAAAAAMA/AAAAAAAAwD8AAAAAAADAPwAAAAAAAMA/AAAAAAAAwD8AAAAAAADAPwAAAAAAAMA/AAAAAAAAwD8AAAAAAADAPwAAAAAAAMA/AAAAAAAAwD8AAAAAAADAPwAAAAAAAMA/AAAAAAAAwD8AAAAAAADAPwAAAAAAAMA/AAAAAAAAwD8AAAAAAADAPwAAAAAAAMA/AAAAAAAAwD8AAAAAAADAPwAAAAAAAMA/AAAAAAAAwD8AAAAAAADAPwAAAAAAAMA/AAAAAAAAwD8AAAAAAADAPwAAAAAAAMA/AAAAAAAAwD8AAAAAAADAPwAAAAAAAMA/AAAAAAAAwD8AAAAAAADAPwAAAAAAAMA/AAAAAAAAwD8AAAAAAADAPwAAAAAAAMA/AAAAAAAAwD8AAAAAAADAPwAAAAAAAMA/AAAAAAAAwD8AAAAAAADAPwAAAAAAAMA/AAAAAAAAwD8AAAAAAADAPwAAAAAAAMA/AAAAAAAAwD8AAAAAAADAPwAAAAAAAMA/AAAAAAAAwD8AAAAAAADAPwAAAAAAAMA/AAAAAAAAwD8AAAAAAADAPwAAAAAAAMA/AAAAAAAAwD8AAAAAAADAPwAAAAAAAMA/AAAAAAAAwD8AAAAAAADAPwAAAAAAAMA/AAAAAAAAwD8AAAAAAADAPwAAAAAAAMA/AAAAAAAAwD8AAAAAAADAPwAAAAAAAMA/AAAAAAAAwD8AAAAAAADAPwAAAAAAAMA/AAAAAAAAwD8AAAAAAADAPwAAAAAAAMA/AAAAAAAAwD8AAAAAAADAPwAAAAAAAMA/AAAAAAAAwD8AAAAAAADAPwAAAAAAAMA/AAAAAAAAwD8AAAAAAADAPwAAAAAAAMA/AAAAAAAAwD8AAAAAAADAPwAAAAAAAMA/AAAAAAAAwD8AAAAAAADAPwAAAAAAAMA/AAAAAAAAwD8AAAAAAADAPwAAAAAAAMA/AAAAAAAAwD8AAAAAAADAPwAAAAAAAMA/AAAAAAAAwD8AAAAAAADAPwAAAAAAAMA/AAAAAAAAwD8AAAAAAADAPwAAAAAAAMA/AAAAAAAAwD8AAAAAAADAPwAAAAAAAMA/AAAAAAAAwD8AAAAAAADAPwAAAAAAAMA/AAAAAAAAwD8AAAAAAADAPwAAAAAAAMA/AAAAAAAAwD8AAAAAAADAPwAAAAAAAMA/AAAAAAAAwD8AAAAAAADAPwAAAAAAAMA/AAAAAAAAwD8AAAAAAADAPwAAAAAAAMA/AAAAAAAAwD8AAAAAAADAPwAAAAAAAMA/AAAAAAAAwD8AAAAAAADAPwAAAAAAAMA/AAAAAAAAwD8AAAAAAADAPwAAAAAAAMA/AAAAAAAAwD8AAAAAAADAPwAAAAAAAMA/AAAAAAAAwD8AAAAAAADAPwAAAAAAAMA/AAAAAAAAwD8AAAAAAADAPwAAAAAAAMA/AAAAAAAAwD8AAAAAAADAPwAAAAAAAMA/AAAAAAAAwD8AAAAAAADAPwAAAAAAAMA/AAAAAAAAwD8AAAAAAADAPwAAAAAAAMA/AAAAAAAAwD8AAAAAAADAPwAAAAAAAMA/AAAAAAAAwD8AAAAAAADAPwAAAAAAAMA/AAAAAAAAwD8AAAAAAADAPwAAAAAAAMA/AAAAAAAAwD8AAAAAAADAPwAAAAAAAMA/AAAAAAAAwD8AAAAAAADAPwAAAAAAAMA/AAAAAAAAwD8AAAAAAADAPwAAAAAAAMA/AAAAAAAAwD8AAAAAAADAPwAAAAAAAMA/AAAAAAAAwD8AAAAAAADAPwAAAAAAAMA/AAAAAAAAwD8AAAAAAADAPwAAAAAAAMA/AAAAAAAAwD8AAAAAAADAPwAAAAAAAMA/AAAAAAAAwD8AAAAAAADAPwAAAAAAAMA/AAAAAAAAwD8AAAAAAADAPwAAAAAAAMA/AAAAAAAAwD8AAAAAAADAPwAAAAAAAMA/AAAAAAAAwD8AAAAAAADAPwAAAAAAAMA/AAAAAAAAwD8AAAAAAADAPwAAAAAAAMA/AAAAAAAAwD8AAAAAAADAPwAAAAAAAMA/AAAAAAAAwD8AAAAAAADAPwAAAAAAAMA/AAAAAAAAwD8AAAAAAADAPwAAAAAAAMA/AAAAAAAAwD8AAAAAAADAPwAAAAAAAMA/AAAAAAAAwD8AAAAAAADAPwAAAAAAAMA/AAAAAAAAwD8AAAAAAADAPwAAAAAAAMA/AAAAAAAAwD8AAAAAAADAPwAAAAAAAMA/AAAAAAAAwD8AAAAAAADAPwAAAAAAAMA/AAAAAAAAwD8AAAAAAADAPwAAAAAAAMA/AAAAAAAAwD8AAAAAAADAPwAAAAAAAMA/AAAAAAAAwD8AAAAAAADAPwAAAAAAAMA/AAAAAAAAwD8AAAAAAADAPwAAAAAAAMA/AAAAAAAAwD8AAAAAAADAPwAAAAAAAMA/AAAAAAAAwD8AAAAAAADAPwAAAAAAAMA/AAAAAAAAwD8AAAAAAADAPwAAAAAAAMA/AAAAAAAAwD8AAAAAAADAPwAAAAAAAMA/AAAAAAAAwD8AAAAAAADAPwAAAAAAAMA/AAAAAAAAwD8AAAAAAADAPwAAAAAAAMA/AAAAAAAAwD8AAAAAAADAPwAAAAAAAMA/AAAAAAAAwD8AAAAAAADAPwAAAAAAAMA/AAAAAAAAwD8AAAAAAADAPwAAAAAAAMA/AAAAAAAAwD8AAAAAAADAPwAAAAAAAMA/AAAAAAAAwD8AAAAAAADAPwAAAAAAAMA/AAAAAAAAwD8AAAAAAADAPwAAAAAAAMA/AAAAAAAAwD8AAAAAAADAPwAAAAAAAMA/AAAAAAAAwD8AAAAAAADAPwAAAAAAAMA/AAAAAAAAwD8AAAAAAADAPwAAAAAAAMA/AAAAAAAAwD8AAAAAAADAPwAAAAAAAMA/AAAAAAAAwD8AAAAAAADAPwAAAAAAAMA/AAAAAAAAwD8AAAAAAADAPwAAAAAAAMA/AAAAAAAAwD8AAAAAAADAPwAAAAAAAMA/AAAAAAAAwD8AAAAAAADAPwAAAAAAAMA/AAAAAAAAwD8AAAAAAADAPwAAAAAAAMA/AAAAAAAAwD8AAAAAAADAPwAAAAAAAMA/AAAAAAAAwD8AAAAAAADAPwAAAAAAAMA/AAAAAAAAwD8AAAAAAADAPwAAAAAAAMA/AAAAAAAAwD8AAAAAAADAPwAAAAAAAMA/AAAAAAAAwD8AAAAAAADAPwAAAAAAAMA/AAAAAAAAwD8AAAAAAADAPwAAAAAAAMA/AAAAAAAAwD8AAAAAAADAPwAAAAAAAMA/AAAAAAAAwD8AAAAAAADAPwAAAAAAAMA/AAAAAAAAwD8AAAAAAADAPwAAAAAAAMA/AAAAAAAAwD8AAAAAAADAPwAAAAAAAMA/AAAAAAAAwD8AAAAAAADAPwAAAAAAAMA/AAAAAAAAwD8AAAAAAADAPwAAAAAAAMA/AAAAAAAAwD8AAAAAAADAPwAAAAAAAMA/AAAAAAAAwD8AAAAAAADAPwAAAAAAAMA/AAAAAAAAwD8AAAAAAADAPwAAAAAAAMA/AAAAAAAAwD8AAAAAAADAPwAAAAAAAMA/AAAAAAAAwD8AAAAAAADAPwAAAAAAAMA/AAAAAAAAwD8AAAAAAADAPwAAAAAAAMA/AAAAAAAAwD8AAAAAAADAPwAAAAAAAMA/AAAAAAAAwD8AAAAAAADAPwAAAAAAAMA/AAAAAAAAwD8AAAAAAADAPwAAAAAAAMA/AAAAAAAAwD8AAAAAAADAPwAAAAAAAMA/AAAAAAAAwD8AAAAAAADAPwAAAAAAAMA/AAAAAAAAwD8AAAAAAADAPwAAAAAAAMA/AAAAAAAAwD8AAAAAAADAPwAAAAAAAMA/AAAAAAAAwD8AAAAAAADAPwAAAAAAAMA/AAAAAAAAwD8AAAAAAADAPwAAAAAAAMA/AAAAAAAAwD8AAAAAAADAPwAAAAAAAMA/AAAAAAAAwD8AAAAAAADAPwAAAAAAAMA/AAAAAAAAwD8AAAAAAADAPwAAAAAAAMA/AAAAAAAAwD8AAAAAAADAPwAAAAAAAMA/AAAAAAAAwD8AAAAAAADAPwAAAAAAAMA/AAAAAAAAwD8AAAAAAADAPwAAAAAAAMA/AAAAAAAAwD8AAAAAAADAPwAAAAAAAMA/AAAAAAAAwD8AAAAAAADAPwAAAAAAAMA/AAAAAAAAwD8AAAAAAADAPwAAAAAAAMA/AAAAAAAAwD8AAAAAAADAPwAAAAAAAMA/AAAAAAAAwD8AAAAAAADAPwAAAAAAAMA/AAAAAAAAwD8AAAAAAADAPwAAAAAAAMA/AAAAAAAAwD8AAAAAAADAPwAAAAAAAMA/AAAAAAAAwD8AAAAAAADAPwAAAAAAAMA/AAAAAAAAwD8AAAAAAADAPwAAAAAAAMA/AAAAAAAAwD8AAAAAAADAPwAAAAAAAMA/AAAAAAAAwD8AAAAAAADAPwAAAAAAAMA/AAAAAAAAwD8AAAAAAADAPwAAAAAAAMA/AAAAAAAAwD8AAAAAAADAPwAAAAAAAMA/\",\"dtype\":\"float64\",\"shape\":[642]},\"end_time\":{\"__ndarray__\":\"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\",\"dtype\":\"float64\",\"shape\":[642]},\"fill_alpha\":{\"__ndarray__\":\"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\",\"dtype\":\"float64\",\"shape\":[642]},\"index\":[225,226,227,228,229,230,231,232,233,234,235,236,237,238,239,240,241,242,243,244,245,246,247,248,249,250,251,252,253,254,255,256,257,258,259,260,261,262,263,264,265,266,267,268,269,270,271,272,273,274,275,276,277,278,279,280,281,282,283,284,285,286,287,288,289,290,291,292,293,294,295,296,297,298,299,300,301,302,303,304,305,306,307,308,309,310,311,312,313,314,315,316,317,318,319,320,321,322,323,324,325,326,327,328,329,330,331,332,333,334,335,336,337,338,339,340,341,342,343,344,345,346,347,348,349,350,351,352,353,354,355,356,357,358,359,360,361,362,363,364,365,366,367,368,369,370,371,372,373,374,375,376,377,378,379,380,381,382,383,384,385,386,387,388,389,390,391,392,393,394,395,396,397,398,399,400,401,402,403,404,405,406,407,408,409,410,411,412,413,414,415,416,417,418,419,420,421,422,423,424,425,426,427,428,429,430,431,432,433,434,435,436,437,438,439,440,441,442,443,444,445,446,447,448,449,450,451,452,453,454,455,456,457,458,459,460,461,462,463,464,465,466,467,468,469,470,471,472,473,474,475,476,477,478,479,480,481,482,483,484,485,486,487,488,489,490,491,492,493,494,495,496,497,498,499,500,501,502,503,504,505,506,507,508,509,510,511,512,513,514,515,516,517,518,519,520,521,709,710,711,712,713,714,715,716,717,718,719,720,721,722,723,724,725,726,727,728,729,730,731,732,733,734,735,736,737,738,739,740,741,742,743,744,745,746,747,748,749,750,751,752,753,754,755,756,757,758,759,760,761,762,763,764,765,766,767,768,769,770,771,772,773,774,775,776,777,778,779,780,781,782,783,784,785,786,787,788,789,790,791,792,793,794,795,796,797,798,799,800,801,802,803,804,805,806,807,808,809,810,811,812,813,814,815,816,817,818,819,820,821,822,823,824,825,826,827,828,829,830,831,832,833,834,835,836,837,838,839,840,841,842,843,844,845,846,847,848,849,850,851,852,853,854,855,856,857,858,859,860,861,862,863,864,865,866,867,868,869,870,871,872,873,874,875,876,877,878,879,880,881,882,883,884,885,886,887,888,889,890,891,892,893,894,895,896,897,898,899,900,901,902,903,904,905,906,907,908,909,910,911,912,913,914,915,916,917,918,919,920,921,1040,1041,1042,1043,1044,1045,1046,1047,1048,1049,1050,1051,1052,1053,1054,1055,1056,1057,1058,1059,1060,1061,1062,1063,1064,1065,1066,1067,1068,1069,1070,1071,1072,1073,1074,1075,1076,1077,1078,1079,1080,1081,1082,1083,1084,1085,1086,1087,1088,1089,1090,1091,1092,1093,1094,1095,1096,1097,1098,1099,1100,1101,1102,1103,1104,1105,1106,1107,1108,1109,1110,1111,1112,1113,1114,1115,1116,1117,1118,1119,1120,1121,1122,1123,1124,1125,1126,1127,1128,1129,1130,1131,1132,1133,1134,1135,1136,1137,1138,1139,1140,1141,1142,1143,1144,1145,1146,1147,1148,1149,1150,1151,1152,1153,1154,1155,1156,1157,1158,1159,1160,1161,1162,1163,1164,1165,1166,1167,1168,1169,1170,1171],\"instrument\":[9,9,9,9,9,9,9,9,9,9,9,9,9,9,9,9,9,9,9,9,9,9,9,9,9,9,9,9,9,9,9,9,9,9,9,9,9,9,9,9,9,9,9,9,9,9,9,9,9,9,9,9,9,9,9,9,9,9,9,9,9,9,9,9,9,9,9,9,9,9,9,9,9,9,9,9,9,9,9,9,9,9,9,9,9,9,9,9,9,9,9,9,9,9,9,9,9,9,9,9,9,9,9,9,9,9,9,9,9,9,9,9,9,9,9,9,9,9,9,9,9,9,9,9,9,9,9,9,9,9,9,9,9,9,9,9,9,9,9,9,9,9,9,9,9,9,9,9,9,9,9,9,9,9,9,9,9,9,9,9,9,9,9,9,9,9,9,9,9,9,9,9,9,9,9,9,9,9,9,9,9,9,9,9,9,9,9,9,9,9,9,9,9,9,9,9,9,9,9,9,9,9,9,9,9,9,9,9,9,9,9,9,9,9,9,9,9,9,9,9,9,9,9,9,9,9,9,9,9,9,9,9,9,9,9,9,9,9,9,9,9,9,9,9,9,9,9,9,9,9,9,9,9,9,9,9,9,9,9,9,9,9,9,9,9,9,9,9,9,9,9,9,9,9,9,9,9,9,9,9,9,9,9,9,9,9,9,9,9,9,9,9,9,9,9,9,9,9,9,9,9,9,9,9,9,9,9,9,9,9,9,9,9,9,9,9,9,9,9,9,9,9,9,9,9,9,9,9,9,9,9,9,9,9,9,9,9,9,9,9,9,9,9,9,9,9,9,9,9,9,9,9,9,9,9,9,9,9,9,9,9,9,9,9,9,9,9,9,9,9,9,9,9,9,9,9,9,9,9,9,9,9,9,9,9,9,9,9,9,9,9,9,9,9,9,9,9,9,9,9,9,9,9,9,9,9,9,9,9,9,9,9,9,9,9,9,9,9,9,9,9,9,9,9,9,9,9,9,9,9,9,9,9,9,9,9,9,9,9,9,9,9,9,9,9,9,9,9,9,9,9,9,9,9,9,9,9,9,9,9,9,9,9,9,9,9,9,9,9,9,9,9,9,9,9,9,9,9,9,9,9,9,9,9,9,9,9,9,9,9,9,9,9,9,9,9,9,9,9,9,9,9,9,9,9,9,9,9,9,9,9,9,9,9,9,9,9,9,9,9,9,9,9,9,9,9,9,9,9,9,9,9,9,9,9,9,9,9,9,9,9,9,9,9,9,9,9,9,9,9,9,9,9,9,9,9,9,9,9,9,9,9,9,9,9,9,9,9,9,9,9,9,9,9,9,9,9,9,9,9,9,9,9,9,9,9,9,9,9,9,9,9,9,9,9,9,9,9,9,9,9,9,9,9,9,9,9,9,9,9,9,9,9,9,9,9,9,9,9,9,9,9,9,9,9,9,9,9,9,9,9,9,9,9,9,9,9,9,9,9,9,9],\"pitch\":[49,42,36,42,42,51,38,42,36,42,51,36,42,42,51,38,42,42,51,36,42,42,51,38,42,36,42,51,36,42,42,51,38,42,42,51,36,42,42,51,38,42,36,42,51,36,42,42,51,38,42,42,51,36,42,42,51,38,42,36,38,42,51,36,42,38,48,42,51,38,38,42,45,49,42,51,36,42,42,51,38,42,36,42,51,36,42,42,51,38,42,42,51,36,42,42,51,38,42,36,42,51,36,42,38,42,51,38,38,42,38,38,49,42,36,42,42,51,38,42,36,42,51,36,42,42,51,38,42,42,51,36,42,42,51,38,42,36,42,51,36,42,42,51,38,42,38,42,51,36,42,42,51,38,42,36,42,51,36,42,42,51,38,42,42,51,36,42,42,51,38,42,36,38,42,51,36,38,42,38,42,51,38,38,42,38,38,49,42,36,38,42,42,51,38,42,36,42,51,36,42,42,51,38,42,42,51,36,42,42,51,38,42,36,42,51,36,42,42,51,38,42,38,38,42,51,36,42,42,51,38,42,36,42,51,36,42,42,51,38,42,42,51,36,42,42,51,38,42,36,42,51,36,42,38,42,51,38,38,42,38,38,49,42,36,42,42,51,38,42,36,42,51,36,42,42,51,38,42,42,51,36,42,42,51,38,42,36,42,51,36,42,42,51,38,42,38,49,42,36,42,51,38,42,42,51,36,42,51,38,42,51,36,42,42,51,38,42,51,36,42,51,38,42,42,51,36,42,51,38,51,51,51,36,42,51,38,51,42,51,42,51,38,36,51,51,36,42,51,38,51,49,42,36,42,51,38,51,51,51,36,42,51,38,51,51,36,42,51,38,51,51,36,42,51,38,51,49,51,36,42,51,38,51,51,36,42,51,38,51,51,36,42,51,38,51,51,36,42,51,38,51,49,42,36,42,51,38,42,42,36,42,51,38,42,42,36,42,51,38,42,42,36,46,42,51,38,42,42,42,36,42,51,38,42,42,42,42,36,42,51,38,42,42,36,42,51,38,51,51,51,42,36,42,51,38,42,36,42,51,38,42,42,42,42,36,42,51,38,42,42,36,42,42,51,38,42,42,36,42,51,38,46,42,51,36,42,51,38,42,51,36,42,42,51,38,42,42,36,42,51,38,51,42,36,42,51,38,46,51,51,42,51,51,51,42,51,38,51,51,42,51,51,51,42,51,38,51,51,42,51,51,51,42,51,51,51,42,51,51,51,42,51,51,51,42,51,51,51,42,51,51,51,42,51,51,51,42,51,51,51,42,51,51,51,42,51,51,51,42,51,51,51,38,38,38,49,36,42,38,42,46,42,38,42,46,42,38,42,46,42,38,42,46,42,38,42,46,42,38,42,46,42,38,42,46,42,38,42,46,42,38,42,46,42,38,42,46,42,38,42,46,42,38,42,46,42,38,42,46,42,38,42,46,42,38,42,46,45,45,45,45],\"program\":[0,0,0,0,0,0,0,0,0,0,0,0,0,0,0,0,0,0,0,0,0,0,0,0,0,0,0,0,0,0,0,0,0,0,0,0,0,0,0,0,0,0,0,0,0,0,0,0,0,0,0,0,0,0,0,0,0,0,0,0,0,0,0,0,0,0,0,0,0,0,0,0,0,0,0,0,0,0,0,0,0,0,0,0,0,0,0,0,0,0,0,0,0,0,0,0,0,0,0,0,0,0,0,0,0,0,0,0,0,0,0,0,0,0,0,0,0,0,0,0,0,0,0,0,0,0,0,0,0,0,0,0,0,0,0,0,0,0,0,0,0,0,0,0,0,0,0,0,0,0,0,0,0,0,0,0,0,0,0,0,0,0,0,0,0,0,0,0,0,0,0,0,0,0,0,0,0,0,0,0,0,0,0,0,0,0,0,0,0,0,0,0,0,0,0,0,0,0,0,0,0,0,0,0,0,0,0,0,0,0,0,0,0,0,0,0,0,0,0,0,0,0,0,0,0,0,0,0,0,0,0,0,0,0,0,0,0,0,0,0,0,0,0,0,0,0,0,0,0,0,0,0,0,0,0,0,0,0,0,0,0,0,0,0,0,0,0,0,0,0,0,0,0,0,0,0,0,0,0,0,0,0,0,0,0,0,0,0,0,0,0,0,0,0,0,0,0,0,0,0,0,0,0,0,0,0,0,0,0,0,0,0,0,0,0,0,0,0,0,0,0,0,0,0,0,0,0,0,0,0,0,0,0,0,0,0,0,0,0,0,0,0,0,0,0,0,0,0,0,0,0,0,0,0,0,0,0,0,0,0,0,0,0,0,0,0,0,0,0,0,0,0,0,0,0,0,0,0,0,0,0,0,0,0,0,0,0,0,0,0,0,0,0,0,0,0,0,0,0,0,0,0,0,0,0,0,0,0,0,0,0,0,0,0,0,0,0,0,0,0,0,0,0,0,0,0,0,0,0,0,0,0,0,0,0,0,0,0,0,0,0,0,0,0,0,0,0,0,0,0,0,0,0,0,0,0,0,0,0,0,0,0,0,0,0,0,0,0,0,0,0,0,0,0,0,0,0,0,0,0,0,0,0,0,0,0,0,0,0,0,0,0,0,0,0,0,0,0,0,0,0,0,0,0,0,0,0,0,0,0,0,0,0,0,0,0,0,0,0,0,0,0,0,0,0,0,0,0,0,0,0,0,0,0,0,0,0,0,0,0,0,0,0,0,0,0,0,0,0,0,0,0,0,0,0,0,0,0,0,0,0,0,0,0,0,0,0,0,0,0,0,0,0,0,0,0,0,0,0,0,0,0,0,0,0,0,0,0,0,0,0,0,0,0,0,0,0,0,0,0,0,0,0,0,0,0,0,0,0,0,0,0,0,0,0,0,0,0,0,0,0,0,0,0,0,0,0,0,0,0,0,0,0,0,0,0,0,0,0,0,0,0],\"start_time\":{\"__ndarray__\":\"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\",\"dtype\":\"float64\",\"shape\":[642]},\"top\":{\"__ndarray__\":\"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\",\"dtype\":\"float64\",\"shape\":[642]},\"velocity\":[80,80,80,80,80,80,80,80,80,80,80,80,80,80,80,80,80,80,80,80,80,80,80,80,80,80,80,80,80,80,80,80,80,80,80,80,80,80,80,80,80,80,80,80,80,80,80,80,80,80,80,80,80,80,80,80,80,80,80,80,80,80,80,80,80,80,80,80,80,80,80,80,80,80,80,80,80,80,80,80,80,80,80,80,80,80,80,80,80,80,80,80,80,80,80,80,80,80,80,80,80,80,80,80,80,80,80,80,80,80,80,80,80,80,80,80,80,80,80,80,80,80,80,80,80,80,80,80,80,80,80,80,80,80,80,80,80,80,80,80,80,80,80,80,80,80,80,80,80,80,80,80,80,80,80,80,80,80,80,80,80,80,80,80,80,80,80,80,80,80,80,80,80,80,80,80,80,80,80,80,80,80,80,80,80,80,80,80,80,80,80,80,80,80,80,80,80,80,80,80,80,80,80,80,80,80,80,80,80,80,80,80,80,80,80,80,80,80,80,80,80,80,80,80,80,80,80,80,80,80,80,80,80,80,80,80,80,80,80,80,80,80,80,80,80,80,80,80,80,80,80,80,80,80,80,80,80,80,80,80,80,80,80,80,80,80,80,80,80,80,80,80,80,80,80,80,80,80,80,80,80,80,80,80,80,80,80,80,80,80,80,80,80,80,80,80,80,80,80,80,80,80,80,80,80,80,80,80,80,80,80,80,80,80,80,80,80,80,80,80,80,80,80,80,80,80,80,80,80,80,80,80,80,80,80,80,80,80,80,80,80,80,80,80,80,80,80,80,80,80,80,80,80,80,80,80,80,80,80,80,80,80,80,80,80,80,80,80,80,80,80,80,80,80,80,80,80,80,80,80,80,80,80,80,80,80,80,80,80,80,80,80,80,80,80,80,80,80,80,80,80,80,80,80,80,80,80,80,80,80,80,80,80,80,80,80,80,80,80,80,80,80,80,80,80,80,80,80,80,80,80,80,80,80,80,80,80,80,80,80,80,80,80,80,80,80,80,80,80,80,80,80,80,80,80,80,80,80,80,80,80,80,80,80,80,80,80,80,80,80,80,80,80,80,80,80,80,80,80,80,80,80,80,80,80,80,80,80,80,80,80,80,80,80,80,80,80,80,80,80,80,80,80,80,80,80,80,80,80,80,80,80,80,80,80,80,80,80,80,80,80,80,80,80,80,80,80,80,80,80,80,80,80,80,80,80,80,80,80,80,80,80,80,80,80,80,80,80,80,80,80,80,80,80,80,80,80,80,80,80,80,80,80,80,80,80,80,80,80,80,80,80,80,80,80,80,80,80,80,80,80,80,80,80,80,80,80,80,80,80,80,80,80,80,80,80,80,80,80,80,80,80,80,80,80,80,80,80,80,80,80,80,80,80,80,80,80,80,80,80,80,80,80,80,80,80,80,80,80,80,80,80,80,80,80,80,80,80,80,80,80,80]},\"selected\":{\"id\":\"6060d0ac-c740-4775-9c0f-a213bf73f4e6\",\"type\":\"Selection\"},\"selection_policy\":{\"id\":\"52247f2d-c422-499b-83dc-8eb2c6bebd44\",\"type\":\"UnionRenderers\"}},\"id\":\"425852f3-c456-42cd-86c6-a9c212b9b29b\",\"type\":\"ColumnDataSource\"},{\"attributes\":{\"plot\":null,\"text\":\"\"},\"id\":\"29c7f91a-94e7-464a-b0cf-2cd22f07d17a\",\"type\":\"Title\"},{\"attributes\":{\"data_source\":{\"id\":\"99a8031a-1c2e-45a8-959b-ec674f13139c\",\"type\":\"ColumnDataSource\"},\"glyph\":{\"id\":\"6f8878dc-6a15-412c-b416-661a309a17c1\",\"type\":\"Quad\"},\"hover_glyph\":null,\"muted_glyph\":null,\"nonselection_glyph\":{\"id\":\"1802b75a-335f-4077-837f-221726973d7b\",\"type\":\"Quad\"},\"selection_glyph\":null,\"view\":{\"id\":\"63197f34-05e2-4b4a-b4a1-e32e0b1520aa\",\"type\":\"CDSView\"}},\"id\":\"02f917b0-caae-4f3a-8e23-c5a4dcf0c820\",\"type\":\"GlyphRenderer\"},{\"attributes\":{},\"id\":\"914fb5aa-eefa-44d2-bb0e-3d973114ef07\",\"type\":\"SaveTool\"},{\"attributes\":{\"below\":[{\"id\":\"4e41f6ca-79a2-4a9c-8995-396435ba8c60\",\"type\":\"LinearAxis\"}],\"left\":[{\"id\":\"be8c3660-3dab-462a-a368-150e2ad9e500\",\"type\":\"LinearAxis\"}],\"plot_height\":200,\"plot_width\":500,\"renderers\":[{\"id\":\"4e41f6ca-79a2-4a9c-8995-396435ba8c60\",\"type\":\"LinearAxis\"},{\"id\":\"eaa353a4-9e59-4675-8a73-72917e0deeab\",\"type\":\"Grid\"},{\"id\":\"be8c3660-3dab-462a-a368-150e2ad9e500\",\"type\":\"LinearAxis\"},{\"id\":\"6d9989b3-0242-43e9-98ff-5fe53da6a29e\",\"type\":\"Grid\"},{\"id\":\"776d492a-1978-45d3-85fa-1efc707af448\",\"type\":\"BoxAnnotation\"},{\"id\":\"82b8311c-7238-4192-943e-2d46bace012c\",\"type\":\"GlyphRenderer\"},{\"id\":\"02f917b0-caae-4f3a-8e23-c5a4dcf0c820\",\"type\":\"GlyphRenderer\"},{\"id\":\"717ced57-9823-4713-89d9-b56dbc53d290\",\"type\":\"GlyphRenderer\"}],\"title\":{\"id\":\"29c7f91a-94e7-464a-b0cf-2cd22f07d17a\",\"type\":\"Title\"},\"toolbar\":{\"id\":\"a8c033ee-d36d-4b67-80ff-17db7cc304c9\",\"type\":\"Toolbar\"},\"x_range\":{\"id\":\"57647725-2989-448f-8f48-6f259a65ad18\",\"type\":\"DataRange1d\"},\"x_scale\":{\"id\":\"11fe8b82-0caf-492b-86a9-83f41708cdfe\",\"type\":\"LinearScale\"},\"y_range\":{\"id\":\"ea3a2a39-20f4-45ed-a172-805a723c33f8\",\"type\":\"DataRange1d\"},\"y_scale\":{\"id\":\"42e233ce-5582-4d20-8f90-be7560c8d5af\",\"type\":\"LinearScale\"}},\"id\":\"f0d4ac55-ea04-4eea-8013-5fe0c5561bc9\",\"subtype\":\"Figure\",\"type\":\"Plot\"},{\"attributes\":{},\"id\":\"42e233ce-5582-4d20-8f90-be7560c8d5af\",\"type\":\"LinearScale\"},{\"attributes\":{},\"id\":\"15ab0d75-b6e9-4685-9eac-663d3366a245\",\"type\":\"UnionRenderers\"},{\"attributes\":{\"interval\":12},\"id\":\"f68ebac7-8100-4b48-8e03-d5012221ad1e\",\"type\":\"SingleIntervalTicker\"},{\"attributes\":{\"overlay\":{\"id\":\"776d492a-1978-45d3-85fa-1efc707af448\",\"type\":\"BoxAnnotation\"}},\"id\":\"f3fbb29d-1b6e-4760-bbb1-8e9a3aa5b6a0\",\"type\":\"BoxZoomTool\"},{\"attributes\":{\"axis_label\":\"time (sec)\",\"formatter\":{\"id\":\"98f4614d-32e2-4005-8cfc-351bbdf5dbac\",\"type\":\"BasicTickFormatter\"},\"plot\":{\"id\":\"f0d4ac55-ea04-4eea-8013-5fe0c5561bc9\",\"subtype\":\"Figure\",\"type\":\"Plot\"},\"ticker\":{\"id\":\"657aa127-7201-4e0e-8b76-e6dfa0a5e243\",\"type\":\"BasicTicker\"}},\"id\":\"4e41f6ca-79a2-4a9c-8995-396435ba8c60\",\"type\":\"LinearAxis\"},{\"attributes\":{\"callback\":null,\"renderers\":\"auto\",\"tooltips\":[[\"velo\",\"@velocity\"],[\"program\",\"@program\"],[\"end_time\",\"@end_time\"],[\"pitch\",\"@pitch\"],[\"duration\",\"@duration\"],[\"velocity\",\"@velocity\"],[\"start_time\",\"@start_time\"],[\"fill_alpha\",\"@fill_alpha\"]]},\"id\":\"7e9a1fe2-b8d3-4012-bd7e-08c5edc42c38\",\"type\":\"HoverTool\"},{\"attributes\":{\"dimension\":1,\"plot\":{\"id\":\"f0d4ac55-ea04-4eea-8013-5fe0c5561bc9\",\"subtype\":\"Figure\",\"type\":\"Plot\"},\"ticker\":{\"id\":\"cab9d21a-77a3-40a4-94c8-4a528aa10199\",\"type\":\"SingleIntervalTicker\"}},\"id\":\"6d9989b3-0242-43e9-98ff-5fe53da6a29e\",\"type\":\"Grid\"},{\"attributes\":{},\"id\":\"52247f2d-c422-499b-83dc-8eb2c6bebd44\",\"type\":\"UnionRenderers\"},{\"attributes\":{\"data_source\":{\"id\":\"97b4673a-2813-4493-8dbd-f2c55505b681\",\"type\":\"ColumnDataSource\"},\"glyph\":{\"id\":\"a795bf23-f23f-4f04-9331-35a39087966e\",\"type\":\"Quad\"},\"hover_glyph\":null,\"muted_glyph\":null,\"nonselection_glyph\":{\"id\":\"197cb978-fbf1-466e-a3ca-bda17e88b427\",\"type\":\"Quad\"},\"selection_glyph\":null,\"view\":{\"id\":\"802d1585-93da-424d-b6fe-4e57d9c827e7\",\"type\":\"CDSView\"}},\"id\":\"82b8311c-7238-4192-943e-2d46bace012c\",\"type\":\"GlyphRenderer\"},{\"attributes\":{},\"id\":\"5e01e864-fb3d-4b1a-b6be-882394c857d8\",\"type\":\"BasicTickFormatter\"},{\"attributes\":{\"callback\":null,\"data\":{\"bottom\":{\"__ndarray__\":\"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\",\"dtype\":\"float64\",\"shape\":[273]},\"duration\":{\"__ndarray__\":\"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\",\"dtype\":\"float64\",\"shape\":[273]},\"end_time\":{\"__ndarray__\":\"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\",\"dtype\":\"float64\",\"shape\":[273]},\"fill_alpha\":{\"__ndarray__\":\"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\",\"dtype\":\"float64\",\"shape\":[273]},\"index\":[0,1,2,3,4,5,6,7,8,9,10,11,12,13,14,15,16,17,18,19,20,21,22,23,24,25,26,27,28,29,30,31,32,33,34,35,36,37,38,39,40,41,42,43,44,45,46,47,48,49,50,51,52,53,54,55,56,57,58,59,60,61,62,63,64,65,66,67,68,69,70,71,72,73,74,75,76,77,78,79,80,81,82,83,84,85,86,87,88,89,90,91,92,93,94,95,96,97,98,99,100,101,102,103,104,105,106,107,108,109,110,111,112,113,114,115,116,117,118,119,120,121,122,123,124,522,523,524,525,526,527,528,529,530,531,532,533,534,535,536,537,538,539,540,541,542,543,544,545,546,547,548,549,550,551,552,553,554,555,556,557,558,559,560,561,562,563,564,565,566,567,568,569,570,571,572,573,574,575,576,577,578,579,580,581,582,583,584,585,586,587,588,589,590,591,592,593,594,595,596,597,598,599,600,601,602,603,604,605,606,607,608,609,610,611,612,613,614,615,616,617,618,619,620,621,622,623,624,625,922,923,924,925,926,927,928,929,930,931,932,933,934,935,936,937,938,939,940,941,942,943,944,945,946,947,948,949,950,951,952,953,954,955,956,957,958,959,960,961,962,963,964,965],\"instrument\":[0,0,0,0,0,0,0,0,0,0,0,0,0,0,0,0,0,0,0,0,0,0,0,0,0,0,0,0,0,0,0,0,0,0,0,0,0,0,0,0,0,0,0,0,0,0,0,0,0,0,0,0,0,0,0,0,0,0,0,0,0,0,0,0,0,0,0,0,0,0,0,0,0,0,0,0,0,0,0,0,0,0,0,0,0,0,0,0,0,0,0,0,0,0,0,0,0,0,0,0,0,0,0,0,0,0,0,0,0,0,0,0,0,0,0,0,0,0,0,0,0,0,0,0,0,0,0,0,0,0,0,0,0,0,0,0,0,0,0,0,0,0,0,0,0,0,0,0,0,0,0,0,0,0,0,0,0,0,0,0,0,0,0,0,0,0,0,0,0,0,0,0,0,0,0,0,0,0,0,0,0,0,0,0,0,0,0,0,0,0,0,0,0,0,0,0,0,0,0,0,0,0,0,0,0,0,0,0,0,0,0,0,0,0,0,0,0,0,0,0,0,0,0,0,0,0,0,0,0,0,0,0,0,0,0,0,0,0,0,0,0,0,0,0,0,0,0,0,0,0,0,0,0,0,0,0,0,0,0,0,0,0,0,0,0,0,0,0,0,0,0,0,0],\"pitch\":[73,66,73,66,73,66,73,66,71,64,71,64,71,64,71,76,64,66,58,61,66,61,58,66,58,61,66,61,71,59,71,71,63,59,71,66,58,61,66,61,68,59,68,63,66,71,68,73,66,58,61,66,66,68,68,61,58,61,66,58,66,58,66,58,61,58,61,66,73,70,61,66,73,59,63,71,70,70,61,66,70,73,61,63,66,70,61,66,58,61,66,58,70,70,73,70,66,73,70,73,66,73,59,66,59,66,70,59,66,61,58,66,61,66,58,66,66,71,71,71,71,71,71,71,71,73,73,73,73,73,73,70,70,73,70,66,65,66,63,65,66,66,66,66,66,66,66,66,63,73,73,73,65,65,65,70,68,66,63,61,61,61,63,65,61,63,61,63,61,61,63,61,63,61,63,61,73,73,73,73,73,61,61,73,73,70,73,70,66,68,73,71,73,73,73,65,73,73,65,73,68,65,61,61,65,61,63,61,63,66,61,58,61,73,75,73,70,66,63,61,63,72,70,68,65,68,73,75,73,72,70,72,73,72,70,72,70,70,70,72,70,72,70,72,72,72,72,70,72,73,72,72,70,65,72,72,72,72,72,63,65,63,65,63,65,65,65,72,63,72,70,72,65],\"program\":[0,0,0,0,0,0,0,0,0,0,0,0,0,0,0,0,0,0,0,0,0,0,0,0,0,0,0,0,0,0,0,0,0,0,0,0,0,0,0,0,0,0,0,0,0,0,0,0,0,0,0,0,0,0,0,0,0,0,0,0,0,0,0,0,0,0,0,0,0,0,0,0,0,0,0,0,0,0,0,0,0,0,0,0,0,0,0,0,0,0,0,0,0,0,0,0,0,0,0,0,0,0,0,0,0,0,0,0,0,0,0,0,0,0,0,0,0,0,0,0,0,0,0,0,0,0,0,0,0,0,0,0,0,0,0,0,0,0,0,0,0,0,0,0,0,0,0,0,0,0,0,0,0,0,0,0,0,0,0,0,0,0,0,0,0,0,0,0,0,0,0,0,0,0,0,0,0,0,0,0,0,0,0,0,0,0,0,0,0,0,0,0,0,0,0,0,0,0,0,0,0,0,0,0,0,0,0,0,0,0,0,0,0,0,0,0,0,0,0,0,0,0,0,0,0,0,0,0,0,0,0,0,0,0,0,0,0,0,0,0,0,0,0,0,0,0,0,0,0,0,0,0,0,0,0,0,0,0,0,0,0,0,0,0,0,0,0,0,0,0,0,0,0],\"start_time\":{\"__ndarray__\":\"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\",\"dtype\":\"float64\",\"shape\":[273]},\"top\":{\"__ndarray__\":\"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\",\"dtype\":\"float64\",\"shape\":[273]},\"velocity\":[80,80,80,80,80,80,80,80,80,80,80,80,80,80,80,80,80,80,80,80,80,80,80,80,80,80,80,80,80,80,80,80,80,80,80,80,80,80,80,80,80,80,80,80,80,80,80,80,80,80,80,80,80,80,80,80,80,80,80,80,80,80,80,80,80,80,80,80,80,80,80,80,80,80,80,80,80,80,80,80,80,80,80,80,80,80,80,80,80,80,80,80,80,80,80,80,80,80,80,80,80,80,80,80,80,80,80,80,80,80,80,80,80,80,80,80,80,80,80,80,80,80,80,80,80,80,80,80,80,80,80,80,80,80,80,80,80,80,80,80,80,80,80,80,80,80,80,80,80,80,80,80,80,80,80,80,80,80,80,80,80,80,80,80,80,80,80,80,80,80,80,80,80,80,80,80,80,80,80,80,80,80,80,80,80,80,80,80,80,80,80,80,80,80,80,80,80,80,80,80,80,80,80,80,80,80,80,80,80,80,80,80,80,80,80,80,80,80,80,80,80,80,80,80,80,80,80,80,80,80,80,80,80,80,80,80,80,80,80,80,80,80,80,80,80,80,80,80,80,80,80,80,80,80,80,80,80,80,80,80,80,80,80,80,80,80,80,80,80,80,80,80,80]},\"selected\":{\"id\":\"f2905bf3-b1b9-4f12-b4fb-2f0be985359f\",\"type\":\"Selection\"},\"selection_policy\":{\"id\":\"d79d3e55-35c1-4a98-abef-d29f4681b5fb\",\"type\":\"UnionRenderers\"}},\"id\":\"97b4673a-2813-4493-8dbd-f2c55505b681\",\"type\":\"ColumnDataSource\"},{\"attributes\":{},\"id\":\"f2905bf3-b1b9-4f12-b4fb-2f0be985359f\",\"type\":\"Selection\"},{\"attributes\":{\"source\":{\"id\":\"425852f3-c456-42cd-86c6-a9c212b9b29b\",\"type\":\"ColumnDataSource\"}},\"id\":\"15b339ed-63b9-4376-af0b-9a8b5c3750e9\",\"type\":\"CDSView\"},{\"attributes\":{\"data_source\":{\"id\":\"425852f3-c456-42cd-86c6-a9c212b9b29b\",\"type\":\"ColumnDataSource\"},\"glyph\":{\"id\":\"650766fb-171e-4d24-a489-a3efa5414378\",\"type\":\"Quad\"},\"hover_glyph\":null,\"muted_glyph\":null,\"nonselection_glyph\":{\"id\":\"b3f5b39e-f288-45ed-94e6-00bf97f2fc9a\",\"type\":\"Quad\"},\"selection_glyph\":null,\"view\":{\"id\":\"15b339ed-63b9-4376-af0b-9a8b5c3750e9\",\"type\":\"CDSView\"}},\"id\":\"717ced57-9823-4713-89d9-b56dbc53d290\",\"type\":\"GlyphRenderer\"},{\"attributes\":{},\"id\":\"259b0fa4-cc3e-474b-b592-18ec5cd26e43\",\"type\":\"ResetTool\"},{\"attributes\":{\"bottom\":{\"field\":\"bottom\"},\"fill_alpha\":{\"value\":0.1},\"fill_color\":{\"value\":\"#1f77b4\"},\"left\":{\"field\":\"start_time\"},\"line_alpha\":{\"value\":0.1},\"line_color\":{\"value\":\"#1f77b4\"},\"right\":{\"field\":\"end_time\"},\"top\":{\"field\":\"top\"}},\"id\":\"1802b75a-335f-4077-837f-221726973d7b\",\"type\":\"Quad\"},{\"attributes\":{\"plot\":{\"id\":\"f0d4ac55-ea04-4eea-8013-5fe0c5561bc9\",\"subtype\":\"Figure\",\"type\":\"Plot\"},\"ticker\":{\"id\":\"657aa127-7201-4e0e-8b76-e6dfa0a5e243\",\"type\":\"BasicTicker\"}},\"id\":\"eaa353a4-9e59-4675-8a73-72917e0deeab\",\"type\":\"Grid\"}],\"root_ids\":[\"f0d4ac55-ea04-4eea-8013-5fe0c5561bc9\"]},\"title\":\"Bokeh Application\",\"version\":\"0.13.0\"}};\n",
              "  var render_items = [{\"docid\":\"18162b80-af10-4e37-a118-e3f1fb49c142\",\"roots\":{\"f0d4ac55-ea04-4eea-8013-5fe0c5561bc9\":\"0e92fc8e-6df9-4362-b8eb-b5801f7b4386\"}}];\n",
              "  root.Bokeh.embed.embed_items_notebook(docs_json, render_items);\n",
              "\n",
              "  }\n",
              "  if (root.Bokeh !== undefined) {\n",
              "    embed_document(root);\n",
              "  } else {\n",
              "    var attempts = 0;\n",
              "    var timer = setInterval(function(root) {\n",
              "      if (root.Bokeh !== undefined) {\n",
              "        embed_document(root);\n",
              "        clearInterval(timer);\n",
              "      }\n",
              "      attempts++;\n",
              "      if (attempts > 100) {\n",
              "        console.log(\"Bokeh: ERROR: Unable to run BokehJS code because BokehJS library is missing\")\n",
              "        clearInterval(timer);\n",
              "      }\n",
              "    }, 10, root)\n",
              "  }\n",
              "})(window);"
            ],
            "application/vnd.bokehjs_exec.v0+json": ""
          },
          "metadata": {
            "tags": [],
            "application/vnd.bokehjs_exec.v0+json": {
              "id": "f0d4ac55-ea04-4eea-8013-5fe0c5561bc9"
            }
          }
        }
      ]
    },
    {
      "metadata": {
        "id": "bqSklK8CU_cQ",
        "colab_type": "code",
        "colab": {},
        "cellView": "form"
      },
      "cell_type": "code",
      "source": [
        "#@title Optionally download mean MIDI file.\n",
        "download(trio_16bar_mean, '%s_mean.mid' % trio_interp_model)"
      ],
      "execution_count": 0,
      "outputs": []
    }
  ]
}